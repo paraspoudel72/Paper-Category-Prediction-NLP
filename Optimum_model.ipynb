{
  "nbformat": 4,
  "nbformat_minor": 0,
  "metadata": {
    "colab": {
      "provenance": []
    },
    "kernelspec": {
      "name": "python3",
      "display_name": "Python 3"
    },
    "language_info": {
      "name": "python"
    },
    "accelerator": "GPU",
    "gpuClass": "standard"
  },
  "cells": [
    {
      "cell_type": "code",
      "execution_count": null,
      "metadata": {
        "colab": {
          "base_uri": "https://localhost:8080/"
        },
        "id": "aLONudmCGGYB",
        "outputId": "ffc8b37c-c487-4cc7-acd7-81f0a5261ee8"
      },
      "outputs": [
        {
          "output_type": "stream",
          "name": "stdout",
          "text": [
            "Drive already mounted at /content/drive; to attempt to forcibly remount, call drive.mount(\"/content/drive\", force_remount=True).\n"
          ]
        }
      ],
      "source": [
        "from google.colab import drive\n",
        "drive.mount(\"/content/drive\")"
      ]
    },
    {
      "cell_type": "code",
      "source": [
        "#Importing necessary libraries\n",
        "import pandas as pd\n",
        "import nltk\n",
        "nltk.download('stopwords')\n",
        "import logging\n",
        "from numpy import random\n",
        "from nltk.corpus import stopwords\n",
        "import re\n",
        "from nltk.util import ngrams\n",
        "import random\n",
        "from nltk.corpus import wordnet\n",
        "nltk.download('punkt')\n",
        "nltk.download('wordnet')\n",
        "nltk.download('omw-1.4')\n",
        "from nltk.tokenize import word_tokenize"
      ],
      "metadata": {
        "id": "ic-sqF79GLP4",
        "colab": {
          "base_uri": "https://localhost:8080/"
        },
        "outputId": "23458fcd-9c9e-4f38-b756-ffb681fe8c68"
      },
      "execution_count": null,
      "outputs": [
        {
          "output_type": "stream",
          "name": "stderr",
          "text": [
            "[nltk_data] Downloading package stopwords to /root/nltk_data...\n",
            "[nltk_data]   Unzipping corpora/stopwords.zip.\n",
            "[nltk_data] Downloading package punkt to /root/nltk_data...\n",
            "[nltk_data]   Unzipping tokenizers/punkt.zip.\n",
            "[nltk_data] Downloading package wordnet to /root/nltk_data...\n",
            "[nltk_data] Downloading package omw-1.4 to /root/nltk_data...\n"
          ]
        }
      ]
    },
    {
      "cell_type": "code",
      "source": [
        "#Loading data from google drive\n",
        "train_data = pd.read_csv(\"/content/drive/MyDrive/dataset/train.csv\")"
      ],
      "metadata": {
        "id": "-PnJnphNGOG6"
      },
      "execution_count": null,
      "outputs": []
    },
    {
      "cell_type": "code",
      "source": [
        "train_data.head()"
      ],
      "metadata": {
        "id": "2sgFtksUGUwL",
        "colab": {
          "base_uri": "https://localhost:8080/",
          "height": 206
        },
        "outputId": "6f900bde-84df-4640-ece5-67cc5656b9a7"
      },
      "execution_count": null,
      "outputs": [
        {
          "output_type": "execute_result",
          "data": {
            "text/plain": [
              "           id                                              title  \\\n",
              "0   2009.0642  Completely Self-Supervised Crowd Counting via ...   \n",
              "1  2010.13821  Wavelet Flow: Fast Training of High Resolution...   \n",
              "2  1904.12782  Transversally Elliptic Complex and Cohomologic...   \n",
              "3  2105.00878  On the Malliavin-Rubel theorem on small entire...   \n",
              "4  1906.04024          On the Odd Cycle Game and Connected Rules   \n",
              "\n",
              "                                            abstract category  \n",
              "0    Dense crowd counting is a challenging task t...       cs  \n",
              "1    Normalizing flows are a class of probabilist...       cs  \n",
              "2    This work is a continuation of our previous ...     math  \n",
              "3    In the early 1960s, P. Malliavin and L. A. R...     math  \n",
              "4    We study the positional game where two playe...     math  "
            ],
            "text/html": [
              "\n",
              "  <div id=\"df-cb8ad910-67bc-47fc-811b-06cdd91ecc2e\">\n",
              "    <div class=\"colab-df-container\">\n",
              "      <div>\n",
              "<style scoped>\n",
              "    .dataframe tbody tr th:only-of-type {\n",
              "        vertical-align: middle;\n",
              "    }\n",
              "\n",
              "    .dataframe tbody tr th {\n",
              "        vertical-align: top;\n",
              "    }\n",
              "\n",
              "    .dataframe thead th {\n",
              "        text-align: right;\n",
              "    }\n",
              "</style>\n",
              "<table border=\"1\" class=\"dataframe\">\n",
              "  <thead>\n",
              "    <tr style=\"text-align: right;\">\n",
              "      <th></th>\n",
              "      <th>id</th>\n",
              "      <th>title</th>\n",
              "      <th>abstract</th>\n",
              "      <th>category</th>\n",
              "    </tr>\n",
              "  </thead>\n",
              "  <tbody>\n",
              "    <tr>\n",
              "      <th>0</th>\n",
              "      <td>2009.0642</td>\n",
              "      <td>Completely Self-Supervised Crowd Counting via ...</td>\n",
              "      <td>Dense crowd counting is a challenging task t...</td>\n",
              "      <td>cs</td>\n",
              "    </tr>\n",
              "    <tr>\n",
              "      <th>1</th>\n",
              "      <td>2010.13821</td>\n",
              "      <td>Wavelet Flow: Fast Training of High Resolution...</td>\n",
              "      <td>Normalizing flows are a class of probabilist...</td>\n",
              "      <td>cs</td>\n",
              "    </tr>\n",
              "    <tr>\n",
              "      <th>2</th>\n",
              "      <td>1904.12782</td>\n",
              "      <td>Transversally Elliptic Complex and Cohomologic...</td>\n",
              "      <td>This work is a continuation of our previous ...</td>\n",
              "      <td>math</td>\n",
              "    </tr>\n",
              "    <tr>\n",
              "      <th>3</th>\n",
              "      <td>2105.00878</td>\n",
              "      <td>On the Malliavin-Rubel theorem on small entire...</td>\n",
              "      <td>In the early 1960s, P. Malliavin and L. A. R...</td>\n",
              "      <td>math</td>\n",
              "    </tr>\n",
              "    <tr>\n",
              "      <th>4</th>\n",
              "      <td>1906.04024</td>\n",
              "      <td>On the Odd Cycle Game and Connected Rules</td>\n",
              "      <td>We study the positional game where two playe...</td>\n",
              "      <td>math</td>\n",
              "    </tr>\n",
              "  </tbody>\n",
              "</table>\n",
              "</div>\n",
              "      <button class=\"colab-df-convert\" onclick=\"convertToInteractive('df-cb8ad910-67bc-47fc-811b-06cdd91ecc2e')\"\n",
              "              title=\"Convert this dataframe to an interactive table.\"\n",
              "              style=\"display:none;\">\n",
              "        \n",
              "  <svg xmlns=\"http://www.w3.org/2000/svg\" height=\"24px\"viewBox=\"0 0 24 24\"\n",
              "       width=\"24px\">\n",
              "    <path d=\"M0 0h24v24H0V0z\" fill=\"none\"/>\n",
              "    <path d=\"M18.56 5.44l.94 2.06.94-2.06 2.06-.94-2.06-.94-.94-2.06-.94 2.06-2.06.94zm-11 1L8.5 8.5l.94-2.06 2.06-.94-2.06-.94L8.5 2.5l-.94 2.06-2.06.94zm10 10l.94 2.06.94-2.06 2.06-.94-2.06-.94-.94-2.06-.94 2.06-2.06.94z\"/><path d=\"M17.41 7.96l-1.37-1.37c-.4-.4-.92-.59-1.43-.59-.52 0-1.04.2-1.43.59L10.3 9.45l-7.72 7.72c-.78.78-.78 2.05 0 2.83L4 21.41c.39.39.9.59 1.41.59.51 0 1.02-.2 1.41-.59l7.78-7.78 2.81-2.81c.8-.78.8-2.07 0-2.86zM5.41 20L4 18.59l7.72-7.72 1.47 1.35L5.41 20z\"/>\n",
              "  </svg>\n",
              "      </button>\n",
              "      \n",
              "  <style>\n",
              "    .colab-df-container {\n",
              "      display:flex;\n",
              "      flex-wrap:wrap;\n",
              "      gap: 12px;\n",
              "    }\n",
              "\n",
              "    .colab-df-convert {\n",
              "      background-color: #E8F0FE;\n",
              "      border: none;\n",
              "      border-radius: 50%;\n",
              "      cursor: pointer;\n",
              "      display: none;\n",
              "      fill: #1967D2;\n",
              "      height: 32px;\n",
              "      padding: 0 0 0 0;\n",
              "      width: 32px;\n",
              "    }\n",
              "\n",
              "    .colab-df-convert:hover {\n",
              "      background-color: #E2EBFA;\n",
              "      box-shadow: 0px 1px 2px rgba(60, 64, 67, 0.3), 0px 1px 3px 1px rgba(60, 64, 67, 0.15);\n",
              "      fill: #174EA6;\n",
              "    }\n",
              "\n",
              "    [theme=dark] .colab-df-convert {\n",
              "      background-color: #3B4455;\n",
              "      fill: #D2E3FC;\n",
              "    }\n",
              "\n",
              "    [theme=dark] .colab-df-convert:hover {\n",
              "      background-color: #434B5C;\n",
              "      box-shadow: 0px 1px 3px 1px rgba(0, 0, 0, 0.15);\n",
              "      filter: drop-shadow(0px 1px 2px rgba(0, 0, 0, 0.3));\n",
              "      fill: #FFFFFF;\n",
              "    }\n",
              "  </style>\n",
              "\n",
              "      <script>\n",
              "        const buttonEl =\n",
              "          document.querySelector('#df-cb8ad910-67bc-47fc-811b-06cdd91ecc2e button.colab-df-convert');\n",
              "        buttonEl.style.display =\n",
              "          google.colab.kernel.accessAllowed ? 'block' : 'none';\n",
              "\n",
              "        async function convertToInteractive(key) {\n",
              "          const element = document.querySelector('#df-cb8ad910-67bc-47fc-811b-06cdd91ecc2e');\n",
              "          const dataTable =\n",
              "            await google.colab.kernel.invokeFunction('convertToInteractive',\n",
              "                                                     [key], {});\n",
              "          if (!dataTable) return;\n",
              "\n",
              "          const docLinkHtml = 'Like what you see? Visit the ' +\n",
              "            '<a target=\"_blank\" href=https://colab.research.google.com/notebooks/data_table.ipynb>data table notebook</a>'\n",
              "            + ' to learn more about interactive tables.';\n",
              "          element.innerHTML = '';\n",
              "          dataTable['output_type'] = 'display_data';\n",
              "          await google.colab.output.renderOutput(dataTable, element);\n",
              "          const docLink = document.createElement('div');\n",
              "          docLink.innerHTML = docLinkHtml;\n",
              "          element.appendChild(docLink);\n",
              "        }\n",
              "      </script>\n",
              "    </div>\n",
              "  </div>\n",
              "  "
            ]
          },
          "metadata": {},
          "execution_count": 6
        }
      ]
    },
    {
      "cell_type": "code",
      "source": [
        "#Let's visualize data distribution\n",
        "train_data['category'].value_counts()"
      ],
      "metadata": {
        "id": "G8IwC-6KGWn3",
        "colab": {
          "base_uri": "https://localhost:8080/"
        },
        "outputId": "1565c766-a333-4553-a393-10edd765dd4d"
      },
      "execution_count": null,
      "outputs": [
        {
          "output_type": "execute_result",
          "data": {
            "text/plain": [
              "cs          262503\n",
              "math        177679\n",
              "cond-mat     71772\n",
              "physics      66282\n",
              "astro-ph     58737\n",
              "stat         51308\n",
              "eess         34330\n",
              "quant-ph     25171\n",
              "hep-th       19706\n",
              "hep-ph       19207\n",
              "gr-qc        15590\n",
              "math-ph      12238\n",
              "q-bio        10530\n",
              "hep-ex        7435\n",
              "nucl-th       6662\n",
              "nlin          6047\n",
              "q-fin         5942\n",
              "econ          3924\n",
              "nucl-ex       3627\n",
              "hep-lat       2538\n",
              "q-alg            2\n",
              "funct-an         1\n",
              "alg-geom         1\n",
              "Name: category, dtype: int64"
            ]
          },
          "metadata": {},
          "execution_count": 7
        }
      ]
    },
    {
      "cell_type": "code",
      "source": [
        "#Drop duplicate values\n",
        "train_data = train_data.drop_duplicates(subset='abstract')\n",
        "train_data['category'].value_counts()"
      ],
      "metadata": {
        "colab": {
          "base_uri": "https://localhost:8080/"
        },
        "id": "XomngL7hOGSE",
        "outputId": "1324ab3d-e63e-4e66-8dc9-f730b25ea10e"
      },
      "execution_count": null,
      "outputs": [
        {
          "output_type": "execute_result",
          "data": {
            "text/plain": [
              "cs          139252\n",
              "math        105162\n",
              "cond-mat     42786\n",
              "physics      38243\n",
              "astro-ph     38059\n",
              "stat         22747\n",
              "quant-ph     16021\n",
              "eess         15847\n",
              "hep-ph       11420\n",
              "hep-th       10695\n",
              "gr-qc         8663\n",
              "q-bio         5665\n",
              "hep-ex        3955\n",
              "math-ph       3823\n",
              "nucl-th       3521\n",
              "q-fin         3053\n",
              "nlin          2894\n",
              "econ          2050\n",
              "nucl-ex       1792\n",
              "hep-lat       1136\n",
              "funct-an         1\n",
              "alg-geom         1\n",
              "Name: category, dtype: int64"
            ]
          },
          "metadata": {},
          "execution_count": 8
        }
      ]
    },
    {
      "cell_type": "code",
      "source": [
        "#dropping rows with just 1 sample\n",
        "df = train_data[~train_data['category'].isin(['funct-an', 'alg-geom'])]"
      ],
      "metadata": {
        "id": "MCHdKxpJGa2q"
      },
      "execution_count": null,
      "outputs": []
    },
    {
      "cell_type": "code",
      "source": [
        "#Cleaning text data\n",
        "REPLACE_BY_SPACE_RE = re.compile('[/(){}\\[\\]\\|@,;]')\n",
        "BAD_SYMBOLS_RE = re.compile('[^0-9a-z #+_]')\n",
        "STOPWORDS = set(stopwords.words('english'))\n",
        "\n",
        "def clean_text(text):\n",
        "    text = text.lower() # lowercase text\n",
        "    text = REPLACE_BY_SPACE_RE.sub(' ', text) # replace REPLACE_BY_SPACE_RE symbols by space in text\n",
        "    text = BAD_SYMBOLS_RE.sub(' ', text) # delete symbols which are in BAD_SYMBOLS_RE from text\n",
        "    text = ' '.join(word for word in text.split() if word not in STOPWORDS) # delete stopwors from text\n",
        "    return text\n",
        "\n",
        "df['abstract'] = df['abstract'].apply(clean_text)\n",
        "df['title'] = df['title'].apply(clean_text)"
      ],
      "metadata": {
        "id": "nbUDUTIBGdlp",
        "colab": {
          "base_uri": "https://localhost:8080/"
        },
        "outputId": "9aa7a11c-fcd0-4480-b396-ec5005fa09fd"
      },
      "execution_count": null,
      "outputs": [
        {
          "output_type": "stream",
          "name": "stderr",
          "text": [
            "<ipython-input-10-5cd7b47524b9>:13: SettingWithCopyWarning: \n",
            "A value is trying to be set on a copy of a slice from a DataFrame.\n",
            "Try using .loc[row_indexer,col_indexer] = value instead\n",
            "\n",
            "See the caveats in the documentation: https://pandas.pydata.org/pandas-docs/stable/user_guide/indexing.html#returning-a-view-versus-a-copy\n",
            "  df['abstract'] = df['abstract'].apply(clean_text)\n",
            "<ipython-input-10-5cd7b47524b9>:14: SettingWithCopyWarning: \n",
            "A value is trying to be set on a copy of a slice from a DataFrame.\n",
            "Try using .loc[row_indexer,col_indexer] = value instead\n",
            "\n",
            "See the caveats in the documentation: https://pandas.pydata.org/pandas-docs/stable/user_guide/indexing.html#returning-a-view-versus-a-copy\n",
            "  df['title'] = df['title'].apply(clean_text)\n"
          ]
        }
      ]
    },
    {
      "cell_type": "code",
      "source": [
        "#Visualize\n",
        "df['category'].value_counts()"
      ],
      "metadata": {
        "id": "eJYb5lsZGf0r",
        "colab": {
          "base_uri": "https://localhost:8080/"
        },
        "outputId": "baf67347-790a-46b9-8c41-8f29e1f74ced"
      },
      "execution_count": null,
      "outputs": [
        {
          "output_type": "execute_result",
          "data": {
            "text/plain": [
              "cs          139252\n",
              "math        105162\n",
              "cond-mat     42786\n",
              "physics      38243\n",
              "astro-ph     38059\n",
              "stat         22747\n",
              "quant-ph     16021\n",
              "eess         15847\n",
              "hep-ph       11420\n",
              "hep-th       10695\n",
              "gr-qc         8663\n",
              "q-bio         5665\n",
              "hep-ex        3955\n",
              "math-ph       3823\n",
              "nucl-th       3521\n",
              "q-fin         3053\n",
              "nlin          2894\n",
              "econ          2050\n",
              "nucl-ex       1792\n",
              "hep-lat       1136\n",
              "Name: category, dtype: int64"
            ]
          },
          "metadata": {},
          "execution_count": 11
        }
      ]
    },
    {
      "cell_type": "code",
      "source": [
        "len(df)"
      ],
      "metadata": {
        "colab": {
          "base_uri": "https://localhost:8080/"
        },
        "id": "tP5uKuPehE1A",
        "outputId": "4d0aeb90-6627-4e50-bded-bed20717b435"
      },
      "execution_count": null,
      "outputs": [
        {
          "output_type": "execute_result",
          "data": {
            "text/plain": [
              "476784"
            ]
          },
          "metadata": {},
          "execution_count": 12
        }
      ]
    },
    {
      "cell_type": "markdown",
      "source": [
        "Since some classes have very few data, let's try to generate more data through augmentation so that the model will have enough data to be trained later."
      ],
      "metadata": {
        "id": "txlfv8nk0rXP"
      }
    },
    {
      "cell_type": "code",
      "source": [
        "#Function for text augmentation\n",
        "#thorai data vako class ma apply gareko xa, to generate more data\n",
        "def augment(sentences):\n",
        "\n",
        "  augmented_sentences = []\n",
        "\n",
        "  for sentence in sentences:\n",
        "    tokens = word_tokenize(sentence)\n",
        "    new_tokens = []\n",
        "    for token in tokens:\n",
        "        synonyms = wordnet.synsets(token)\n",
        "        if synonyms:\n",
        "            new_token = random.choice(synonyms).lemmas()[0].name()\n",
        "            new_tokens.append(new_token)\n",
        "        else:\n",
        "            new_tokens.append(token)\n",
        "    augmented_sentence = \" \".join(new_tokens)\n",
        "    augmented_sentences.append(augmented_sentence)\n",
        "\n",
        "  return(augmented_sentences)"
      ],
      "metadata": {
        "id": "V-HIUh-AGiBe"
      },
      "execution_count": null,
      "outputs": []
    },
    {
      "cell_type": "code",
      "source": [
        "#Creating a copy\n",
        "df_copy = df.copy()"
      ],
      "metadata": {
        "id": "l0hmltQrqxRn"
      },
      "execution_count": null,
      "outputs": []
    },
    {
      "cell_type": "code",
      "source": [
        "df_copy['category'].value_counts()"
      ],
      "metadata": {
        "id": "18rHmwl-Glj4",
        "colab": {
          "base_uri": "https://localhost:8080/"
        },
        "outputId": "da32e61a-a383-4567-82ff-dbf165d0fe80"
      },
      "execution_count": null,
      "outputs": [
        {
          "output_type": "execute_result",
          "data": {
            "text/plain": [
              "cs          139252\n",
              "math        105162\n",
              "cond-mat     42786\n",
              "physics      38243\n",
              "astro-ph     38059\n",
              "stat         22747\n",
              "quant-ph     16021\n",
              "eess         15847\n",
              "hep-ph       11420\n",
              "hep-th       10695\n",
              "gr-qc         8663\n",
              "q-bio         5665\n",
              "hep-ex        3955\n",
              "math-ph       3823\n",
              "nucl-th       3521\n",
              "q-fin         3053\n",
              "nlin          2894\n",
              "econ          2050\n",
              "nucl-ex       1792\n",
              "hep-lat       1136\n",
              "Name: category, dtype: int64"
            ]
          },
          "metadata": {},
          "execution_count": 15
        }
      ]
    },
    {
      "cell_type": "code",
      "source": [
        "#Listing classes which have low number of data\n",
        "less = ['gr-qc', 'q-bio', 'hep-ex', 'math-ph', 'nucl-th', 'q-fin', 'nlin', 'econ', 'nucl-ex', 'hep-lat']"
      ],
      "metadata": {
        "id": "EeiBB-6iGnz-"
      },
      "execution_count": null,
      "outputs": []
    },
    {
      "cell_type": "code",
      "source": [
        "#classes with extremely high number of training data\n",
        "#excess data vako class bata chai data remove garinxa (after sometime)\n",
        "more = ['cs', 'math']\n",
        "import numpy as np"
      ],
      "metadata": {
        "id": "bzXJB9qSWXKQ"
      },
      "execution_count": null,
      "outputs": []
    },
    {
      "cell_type": "code",
      "source": [
        "#some ugly code\n",
        "#ke trick le ramro banauna sakxau vane give it a try\n",
        "A = df.loc[df['category'] == 'gr-qc']\n",
        "B = df.loc[df['category'] == 'q-bio']\n",
        "C = df.loc[df['category'] == 'hep-ex']\n",
        "D = df.loc[df['category'] == 'math-ph']\n",
        "E = df.loc[df['category'] == 'nucl-th']\n",
        "F = df.loc[df['category'] == 'q-fin']\n",
        "G = df.loc[df['category'] == 'nlin']\n",
        "H = df.loc[df['category'] == 'econ']\n",
        "I = df.loc[df['category'] == 'nucl-ex']\n",
        "J = df.loc[df['category'] == 'hep-lat']"
      ],
      "metadata": {
        "id": "Qs1ihePfGqSF"
      },
      "execution_count": null,
      "outputs": []
    },
    {
      "cell_type": "code",
      "source": [
        "#some more ugly code XD\n",
        "A1 = A['title'].values\n",
        "A2 = A['abstract'].values\n",
        "B1 = B['title'].values\n",
        "B2 = B['abstract'].values\n",
        "C1 = C['title'].values\n",
        "C2 = C['abstract'].values\n",
        "D1 = D['title'].values\n",
        "D2 = D['abstract'].values\n",
        "E1 = E['title'].values\n",
        "E2 = E['abstract'].values\n",
        "F1 = F['title'].values\n",
        "F2 = F['abstract'].values\n",
        "G1 = G['title'].values\n",
        "G2 = G['abstract'].values\n",
        "H1 = H['title'].values\n",
        "H2 = H['abstract'].values\n",
        "I1 = I['title'].values\n",
        "I2 = I['abstract'].values\n",
        "J1 = J['title'].values\n",
        "J2 = J['abstract'].values"
      ],
      "metadata": {
        "id": "LN8LQojhGtKt"
      },
      "execution_count": null,
      "outputs": []
    },
    {
      "cell_type": "code",
      "source": [
        "A11 = augment(A1)\n",
        "A21 = augment(A2)\n",
        "B11 = augment(B1)\n",
        "B21 = augment(B2)\n",
        "C11 = augment(C1)\n",
        "C21 = augment(C2)\n",
        "D11 = augment(D1)\n",
        "D21 = augment(D2)\n",
        "E11 = augment(E1)\n",
        "E21 = augment(E2)\n",
        "F11 = augment(F1)\n",
        "F21 = augment(F2)\n",
        "G11 = augment(G1)\n",
        "G21 = augment(G2)\n",
        "H11 = augment(H1)\n",
        "H21 = augment(H2)\n",
        "I11 = augment(I1)\n",
        "I21 = augment(I2)\n",
        "J11 = augment(J1)\n",
        "J21 = augment(J2)"
      ],
      "metadata": {
        "id": "kzHJCOdZG0J2"
      },
      "execution_count": null,
      "outputs": []
    },
    {
      "cell_type": "code",
      "source": [
        "# Create a DataFrame from the lists\n",
        "#less = ['gr-qc', 'q-bio', 'hep-ex', 'math-ph', 'nucl-th', 'q-fin', 'nlin', 'econ', 'nucl-ex', 'hep-lat']\n",
        "dfA = pd.DataFrame({'title': A11, 'abstract': A21, 'category':'gr-qc'})\n",
        "dfB = pd.DataFrame({'title': B11, 'abstract': B21, 'category':'q-bio'})\n",
        "dfC = pd.DataFrame({'title': C11, 'abstract': C21, 'category':'hep-ex'})\n",
        "dfD = pd.DataFrame({'title': D11, 'abstract': D21, 'category':'math-ph'})\n",
        "dfE = pd.DataFrame({'title': E11, 'abstract': E21, 'category':'nucl-th'})\n",
        "dfF = pd.DataFrame({'title': F11, 'abstract': F21, 'category':'q-fin'})\n",
        "dfG = pd.DataFrame({'title': G11, 'abstract': G21, 'category':'nlin'})\n",
        "dfH = pd.DataFrame({'title': H11, 'abstract': H21, 'category':'econ'})\n",
        "dfI = pd.DataFrame({'title': I11, 'abstract': I21, 'category':'nucl-ex'})\n",
        "dfJ = pd.DataFrame({'title': J11, 'abstract': J21, 'category':'hep-lat'})"
      ],
      "metadata": {
        "id": "rhxlG81WKJAY"
      },
      "execution_count": null,
      "outputs": []
    },
    {
      "cell_type": "markdown",
      "source": [
        "Yo result_df ma hamile regenerate gareko data xa (10 ota class ko data)"
      ],
      "metadata": {
        "id": "Cjkr6NJ01-eB"
      }
    },
    {
      "cell_type": "markdown",
      "source": [
        "result_df contains data generated from text augmentation"
      ],
      "metadata": {
        "id": "g0OaZRsc2NxV"
      }
    },
    {
      "cell_type": "code",
      "source": [
        "result_df = pd.concat([dfA, dfB, dfC, dfD, dfE, dfF, dfG, dfH, dfI, dfJ], ignore_index=True)"
      ],
      "metadata": {
        "id": "wUtrtNIQgL1R"
      },
      "execution_count": null,
      "outputs": []
    },
    {
      "cell_type": "code",
      "source": [
        "#Let's visualize\n",
        "result_df.tail()"
      ],
      "metadata": {
        "id": "I2pYtCQ3gV0s",
        "colab": {
          "base_uri": "https://localhost:8080/",
          "height": 206
        },
        "outputId": "89bceb10-5f06-4f8c-8a27-e5eb207b0767"
      },
      "execution_count": null,
      "outputs": [
        {
          "output_type": "execute_result",
          "data": {
            "text/plain": [
              "                                                   title  \\\n",
              "36547             real time evolution heavy quark glasma   \n",
              "36548  semblance electric correlation_coefficient fun...   \n",
              "36549  study pion pion scattering combination propaga...   \n",
              "36550  partial_derivative Wave shuffle hamiltonian ef...   \n",
              "36551  wicket B-complex_vitamin shape gene gas_consta...   \n",
              "\n",
              "                                                abstract category  \n",
              "36547  inaugurate novel real clock formulation lattic...  hep-lat  \n",
              "36548  composition build_up study color electric corr...  hep-lat  \n",
              "36549  paper report_card late growth hal quantum_chro...  hep-lat  \n",
              "36550  spectrum stimulate state watch finite book lat...  hep-lat  \n",
              "36551  discus recent advance wicket calculation B-com...  hep-lat  "
            ],
            "text/html": [
              "\n",
              "  <div id=\"df-84c1fd41-0358-4818-86a4-dbb50c20a2a8\">\n",
              "    <div class=\"colab-df-container\">\n",
              "      <div>\n",
              "<style scoped>\n",
              "    .dataframe tbody tr th:only-of-type {\n",
              "        vertical-align: middle;\n",
              "    }\n",
              "\n",
              "    .dataframe tbody tr th {\n",
              "        vertical-align: top;\n",
              "    }\n",
              "\n",
              "    .dataframe thead th {\n",
              "        text-align: right;\n",
              "    }\n",
              "</style>\n",
              "<table border=\"1\" class=\"dataframe\">\n",
              "  <thead>\n",
              "    <tr style=\"text-align: right;\">\n",
              "      <th></th>\n",
              "      <th>title</th>\n",
              "      <th>abstract</th>\n",
              "      <th>category</th>\n",
              "    </tr>\n",
              "  </thead>\n",
              "  <tbody>\n",
              "    <tr>\n",
              "      <th>36547</th>\n",
              "      <td>real time evolution heavy quark glasma</td>\n",
              "      <td>inaugurate novel real clock formulation lattic...</td>\n",
              "      <td>hep-lat</td>\n",
              "    </tr>\n",
              "    <tr>\n",
              "      <th>36548</th>\n",
              "      <td>semblance electric correlation_coefficient fun...</td>\n",
              "      <td>composition build_up study color electric corr...</td>\n",
              "      <td>hep-lat</td>\n",
              "    </tr>\n",
              "    <tr>\n",
              "      <th>36549</th>\n",
              "      <td>study pion pion scattering combination propaga...</td>\n",
              "      <td>paper report_card late growth hal quantum_chro...</td>\n",
              "      <td>hep-lat</td>\n",
              "    </tr>\n",
              "    <tr>\n",
              "      <th>36550</th>\n",
              "      <td>partial_derivative Wave shuffle hamiltonian ef...</td>\n",
              "      <td>spectrum stimulate state watch finite book lat...</td>\n",
              "      <td>hep-lat</td>\n",
              "    </tr>\n",
              "    <tr>\n",
              "      <th>36551</th>\n",
              "      <td>wicket B-complex_vitamin shape gene gas_consta...</td>\n",
              "      <td>discus recent advance wicket calculation B-com...</td>\n",
              "      <td>hep-lat</td>\n",
              "    </tr>\n",
              "  </tbody>\n",
              "</table>\n",
              "</div>\n",
              "      <button class=\"colab-df-convert\" onclick=\"convertToInteractive('df-84c1fd41-0358-4818-86a4-dbb50c20a2a8')\"\n",
              "              title=\"Convert this dataframe to an interactive table.\"\n",
              "              style=\"display:none;\">\n",
              "        \n",
              "  <svg xmlns=\"http://www.w3.org/2000/svg\" height=\"24px\"viewBox=\"0 0 24 24\"\n",
              "       width=\"24px\">\n",
              "    <path d=\"M0 0h24v24H0V0z\" fill=\"none\"/>\n",
              "    <path d=\"M18.56 5.44l.94 2.06.94-2.06 2.06-.94-2.06-.94-.94-2.06-.94 2.06-2.06.94zm-11 1L8.5 8.5l.94-2.06 2.06-.94-2.06-.94L8.5 2.5l-.94 2.06-2.06.94zm10 10l.94 2.06.94-2.06 2.06-.94-2.06-.94-.94-2.06-.94 2.06-2.06.94z\"/><path d=\"M17.41 7.96l-1.37-1.37c-.4-.4-.92-.59-1.43-.59-.52 0-1.04.2-1.43.59L10.3 9.45l-7.72 7.72c-.78.78-.78 2.05 0 2.83L4 21.41c.39.39.9.59 1.41.59.51 0 1.02-.2 1.41-.59l7.78-7.78 2.81-2.81c.8-.78.8-2.07 0-2.86zM5.41 20L4 18.59l7.72-7.72 1.47 1.35L5.41 20z\"/>\n",
              "  </svg>\n",
              "      </button>\n",
              "      \n",
              "  <style>\n",
              "    .colab-df-container {\n",
              "      display:flex;\n",
              "      flex-wrap:wrap;\n",
              "      gap: 12px;\n",
              "    }\n",
              "\n",
              "    .colab-df-convert {\n",
              "      background-color: #E8F0FE;\n",
              "      border: none;\n",
              "      border-radius: 50%;\n",
              "      cursor: pointer;\n",
              "      display: none;\n",
              "      fill: #1967D2;\n",
              "      height: 32px;\n",
              "      padding: 0 0 0 0;\n",
              "      width: 32px;\n",
              "    }\n",
              "\n",
              "    .colab-df-convert:hover {\n",
              "      background-color: #E2EBFA;\n",
              "      box-shadow: 0px 1px 2px rgba(60, 64, 67, 0.3), 0px 1px 3px 1px rgba(60, 64, 67, 0.15);\n",
              "      fill: #174EA6;\n",
              "    }\n",
              "\n",
              "    [theme=dark] .colab-df-convert {\n",
              "      background-color: #3B4455;\n",
              "      fill: #D2E3FC;\n",
              "    }\n",
              "\n",
              "    [theme=dark] .colab-df-convert:hover {\n",
              "      background-color: #434B5C;\n",
              "      box-shadow: 0px 1px 3px 1px rgba(0, 0, 0, 0.15);\n",
              "      filter: drop-shadow(0px 1px 2px rgba(0, 0, 0, 0.3));\n",
              "      fill: #FFFFFF;\n",
              "    }\n",
              "  </style>\n",
              "\n",
              "      <script>\n",
              "        const buttonEl =\n",
              "          document.querySelector('#df-84c1fd41-0358-4818-86a4-dbb50c20a2a8 button.colab-df-convert');\n",
              "        buttonEl.style.display =\n",
              "          google.colab.kernel.accessAllowed ? 'block' : 'none';\n",
              "\n",
              "        async function convertToInteractive(key) {\n",
              "          const element = document.querySelector('#df-84c1fd41-0358-4818-86a4-dbb50c20a2a8');\n",
              "          const dataTable =\n",
              "            await google.colab.kernel.invokeFunction('convertToInteractive',\n",
              "                                                     [key], {});\n",
              "          if (!dataTable) return;\n",
              "\n",
              "          const docLinkHtml = 'Like what you see? Visit the ' +\n",
              "            '<a target=\"_blank\" href=https://colab.research.google.com/notebooks/data_table.ipynb>data table notebook</a>'\n",
              "            + ' to learn more about interactive tables.';\n",
              "          element.innerHTML = '';\n",
              "          dataTable['output_type'] = 'display_data';\n",
              "          await google.colab.output.renderOutput(dataTable, element);\n",
              "          const docLink = document.createElement('div');\n",
              "          docLink.innerHTML = docLinkHtml;\n",
              "          element.appendChild(docLink);\n",
              "        }\n",
              "      </script>\n",
              "    </div>\n",
              "  </div>\n",
              "  "
            ]
          },
          "metadata": {},
          "execution_count": 23
        }
      ]
    },
    {
      "cell_type": "code",
      "source": [
        "#comparision with the original\n",
        "df.tail()"
      ],
      "metadata": {
        "id": "ZmTAIZbegkOs",
        "colab": {
          "base_uri": "https://localhost:8080/",
          "height": 206
        },
        "outputId": "2b10a5b0-8c50-469a-884f-d8ab3fbfc52c"
      },
      "execution_count": null,
      "outputs": [
        {
          "output_type": "execute_result",
          "data": {
            "text/plain": [
              "                id                                              title  \\\n",
              "861212  2102.00941  fast greedy subset selection large candidate s...   \n",
              "861221  2106.06956                billiard tables rotational symmetry   \n",
              "861222  1909.02882  implications increased lambda separation energ...   \n",
              "861226  1902.05287  risk management machine learning based algorithms   \n",
              "861233  1904.00375  lightchain dht based blockchain resource const...   \n",
              "\n",
              "                                                 abstract category  \n",
              "861212  subset selection interesting important topic f...       cs  \n",
              "861221  generalize following simple geometric fact cen...     math  \n",
              "861222  stimulated recent indications binding energy h...  nucl-th  \n",
              "861226  propose machine learning based algorithms solv...    q-fin  \n",
              "861233  append distributed database blockchain utilize...       cs  "
            ],
            "text/html": [
              "\n",
              "  <div id=\"df-f6ec2392-4e2b-4679-beda-d368741c67de\">\n",
              "    <div class=\"colab-df-container\">\n",
              "      <div>\n",
              "<style scoped>\n",
              "    .dataframe tbody tr th:only-of-type {\n",
              "        vertical-align: middle;\n",
              "    }\n",
              "\n",
              "    .dataframe tbody tr th {\n",
              "        vertical-align: top;\n",
              "    }\n",
              "\n",
              "    .dataframe thead th {\n",
              "        text-align: right;\n",
              "    }\n",
              "</style>\n",
              "<table border=\"1\" class=\"dataframe\">\n",
              "  <thead>\n",
              "    <tr style=\"text-align: right;\">\n",
              "      <th></th>\n",
              "      <th>id</th>\n",
              "      <th>title</th>\n",
              "      <th>abstract</th>\n",
              "      <th>category</th>\n",
              "    </tr>\n",
              "  </thead>\n",
              "  <tbody>\n",
              "    <tr>\n",
              "      <th>861212</th>\n",
              "      <td>2102.00941</td>\n",
              "      <td>fast greedy subset selection large candidate s...</td>\n",
              "      <td>subset selection interesting important topic f...</td>\n",
              "      <td>cs</td>\n",
              "    </tr>\n",
              "    <tr>\n",
              "      <th>861221</th>\n",
              "      <td>2106.06956</td>\n",
              "      <td>billiard tables rotational symmetry</td>\n",
              "      <td>generalize following simple geometric fact cen...</td>\n",
              "      <td>math</td>\n",
              "    </tr>\n",
              "    <tr>\n",
              "      <th>861222</th>\n",
              "      <td>1909.02882</td>\n",
              "      <td>implications increased lambda separation energ...</td>\n",
              "      <td>stimulated recent indications binding energy h...</td>\n",
              "      <td>nucl-th</td>\n",
              "    </tr>\n",
              "    <tr>\n",
              "      <th>861226</th>\n",
              "      <td>1902.05287</td>\n",
              "      <td>risk management machine learning based algorithms</td>\n",
              "      <td>propose machine learning based algorithms solv...</td>\n",
              "      <td>q-fin</td>\n",
              "    </tr>\n",
              "    <tr>\n",
              "      <th>861233</th>\n",
              "      <td>1904.00375</td>\n",
              "      <td>lightchain dht based blockchain resource const...</td>\n",
              "      <td>append distributed database blockchain utilize...</td>\n",
              "      <td>cs</td>\n",
              "    </tr>\n",
              "  </tbody>\n",
              "</table>\n",
              "</div>\n",
              "      <button class=\"colab-df-convert\" onclick=\"convertToInteractive('df-f6ec2392-4e2b-4679-beda-d368741c67de')\"\n",
              "              title=\"Convert this dataframe to an interactive table.\"\n",
              "              style=\"display:none;\">\n",
              "        \n",
              "  <svg xmlns=\"http://www.w3.org/2000/svg\" height=\"24px\"viewBox=\"0 0 24 24\"\n",
              "       width=\"24px\">\n",
              "    <path d=\"M0 0h24v24H0V0z\" fill=\"none\"/>\n",
              "    <path d=\"M18.56 5.44l.94 2.06.94-2.06 2.06-.94-2.06-.94-.94-2.06-.94 2.06-2.06.94zm-11 1L8.5 8.5l.94-2.06 2.06-.94-2.06-.94L8.5 2.5l-.94 2.06-2.06.94zm10 10l.94 2.06.94-2.06 2.06-.94-2.06-.94-.94-2.06-.94 2.06-2.06.94z\"/><path d=\"M17.41 7.96l-1.37-1.37c-.4-.4-.92-.59-1.43-.59-.52 0-1.04.2-1.43.59L10.3 9.45l-7.72 7.72c-.78.78-.78 2.05 0 2.83L4 21.41c.39.39.9.59 1.41.59.51 0 1.02-.2 1.41-.59l7.78-7.78 2.81-2.81c.8-.78.8-2.07 0-2.86zM5.41 20L4 18.59l7.72-7.72 1.47 1.35L5.41 20z\"/>\n",
              "  </svg>\n",
              "      </button>\n",
              "      \n",
              "  <style>\n",
              "    .colab-df-container {\n",
              "      display:flex;\n",
              "      flex-wrap:wrap;\n",
              "      gap: 12px;\n",
              "    }\n",
              "\n",
              "    .colab-df-convert {\n",
              "      background-color: #E8F0FE;\n",
              "      border: none;\n",
              "      border-radius: 50%;\n",
              "      cursor: pointer;\n",
              "      display: none;\n",
              "      fill: #1967D2;\n",
              "      height: 32px;\n",
              "      padding: 0 0 0 0;\n",
              "      width: 32px;\n",
              "    }\n",
              "\n",
              "    .colab-df-convert:hover {\n",
              "      background-color: #E2EBFA;\n",
              "      box-shadow: 0px 1px 2px rgba(60, 64, 67, 0.3), 0px 1px 3px 1px rgba(60, 64, 67, 0.15);\n",
              "      fill: #174EA6;\n",
              "    }\n",
              "\n",
              "    [theme=dark] .colab-df-convert {\n",
              "      background-color: #3B4455;\n",
              "      fill: #D2E3FC;\n",
              "    }\n",
              "\n",
              "    [theme=dark] .colab-df-convert:hover {\n",
              "      background-color: #434B5C;\n",
              "      box-shadow: 0px 1px 3px 1px rgba(0, 0, 0, 0.15);\n",
              "      filter: drop-shadow(0px 1px 2px rgba(0, 0, 0, 0.3));\n",
              "      fill: #FFFFFF;\n",
              "    }\n",
              "  </style>\n",
              "\n",
              "      <script>\n",
              "        const buttonEl =\n",
              "          document.querySelector('#df-f6ec2392-4e2b-4679-beda-d368741c67de button.colab-df-convert');\n",
              "        buttonEl.style.display =\n",
              "          google.colab.kernel.accessAllowed ? 'block' : 'none';\n",
              "\n",
              "        async function convertToInteractive(key) {\n",
              "          const element = document.querySelector('#df-f6ec2392-4e2b-4679-beda-d368741c67de');\n",
              "          const dataTable =\n",
              "            await google.colab.kernel.invokeFunction('convertToInteractive',\n",
              "                                                     [key], {});\n",
              "          if (!dataTable) return;\n",
              "\n",
              "          const docLinkHtml = 'Like what you see? Visit the ' +\n",
              "            '<a target=\"_blank\" href=https://colab.research.google.com/notebooks/data_table.ipynb>data table notebook</a>'\n",
              "            + ' to learn more about interactive tables.';\n",
              "          element.innerHTML = '';\n",
              "          dataTable['output_type'] = 'display_data';\n",
              "          await google.colab.output.renderOutput(dataTable, element);\n",
              "          const docLink = document.createElement('div');\n",
              "          docLink.innerHTML = docLinkHtml;\n",
              "          element.appendChild(docLink);\n",
              "        }\n",
              "      </script>\n",
              "    </div>\n",
              "  </div>\n",
              "  "
            ]
          },
          "metadata": {},
          "execution_count": 24
        }
      ]
    },
    {
      "cell_type": "code",
      "source": [
        "#final_df = pd.concat([df, result_df], ignore_index=True)"
      ],
      "metadata": {
        "id": "R62JgRR-H8gC"
      },
      "execution_count": null,
      "outputs": []
    },
    {
      "cell_type": "code",
      "source": [
        "#final_df.tail()"
      ],
      "metadata": {
        "id": "MUTjUFG8JvLe"
      },
      "execution_count": null,
      "outputs": []
    },
    {
      "cell_type": "code",
      "source": [
        "# Shuffling a Pandas dataframe with .shuffle()\n",
        "#Shuffle gareko because category wise serially xa data haru\n",
        "shuffled = result_df.sample(frac=1)"
      ],
      "metadata": {
        "id": "Pb7uKv6Il-ta"
      },
      "execution_count": null,
      "outputs": []
    },
    {
      "cell_type": "code",
      "source": [
        "shuffled.head()"
      ],
      "metadata": {
        "id": "1BI1Bwlgn4bq",
        "colab": {
          "base_uri": "https://localhost:8080/",
          "height": 206
        },
        "outputId": "18152bf4-1e6a-42a3-c1b5-864c2f3efb14"
      },
      "execution_count": null,
      "outputs": [
        {
          "output_type": "execute_result",
          "data": {
            "text/plain": [
              "                                                   title  \\\n",
              "21941                   variation continuity Lorenz flow   \n",
              "34361  isobaric multiplet mass equation macroscopic m...   \n",
              "9293   optimum control_condition cytotoxic antiangiog...   \n",
              "1519    spectator_pump dark topic not standard cosmology   \n",
              "3956                    discrete spacetime network chain   \n",
              "\n",
              "                                                abstract category  \n",
              "21941  classical Lorenz flow menstruation close hundr...  math-ph  \n",
              "34361  study B coulomb coefficient isobaric multiplet...  nucl-ex  \n",
              "9293   prostate_gland Cancer deadly advance stage che...    q-bio  \n",
              "1519   show observe colored matter diabetes_mellitus ...    gr-qc  \n",
              "3956   newspaper study distribution chain maximal Cha...    gr-qc  "
            ],
            "text/html": [
              "\n",
              "  <div id=\"df-34781fef-639e-4626-bebf-e259a03a68b2\">\n",
              "    <div class=\"colab-df-container\">\n",
              "      <div>\n",
              "<style scoped>\n",
              "    .dataframe tbody tr th:only-of-type {\n",
              "        vertical-align: middle;\n",
              "    }\n",
              "\n",
              "    .dataframe tbody tr th {\n",
              "        vertical-align: top;\n",
              "    }\n",
              "\n",
              "    .dataframe thead th {\n",
              "        text-align: right;\n",
              "    }\n",
              "</style>\n",
              "<table border=\"1\" class=\"dataframe\">\n",
              "  <thead>\n",
              "    <tr style=\"text-align: right;\">\n",
              "      <th></th>\n",
              "      <th>title</th>\n",
              "      <th>abstract</th>\n",
              "      <th>category</th>\n",
              "    </tr>\n",
              "  </thead>\n",
              "  <tbody>\n",
              "    <tr>\n",
              "      <th>21941</th>\n",
              "      <td>variation continuity Lorenz flow</td>\n",
              "      <td>classical Lorenz flow menstruation close hundr...</td>\n",
              "      <td>math-ph</td>\n",
              "    </tr>\n",
              "    <tr>\n",
              "      <th>34361</th>\n",
              "      <td>isobaric multiplet mass equation macroscopic m...</td>\n",
              "      <td>study B coulomb coefficient isobaric multiplet...</td>\n",
              "      <td>nucl-ex</td>\n",
              "    </tr>\n",
              "    <tr>\n",
              "      <th>9293</th>\n",
              "      <td>optimum control_condition cytotoxic antiangiog...</td>\n",
              "      <td>prostate_gland Cancer deadly advance stage che...</td>\n",
              "      <td>q-bio</td>\n",
              "    </tr>\n",
              "    <tr>\n",
              "      <th>1519</th>\n",
              "      <td>spectator_pump dark topic not standard cosmology</td>\n",
              "      <td>show observe colored matter diabetes_mellitus ...</td>\n",
              "      <td>gr-qc</td>\n",
              "    </tr>\n",
              "    <tr>\n",
              "      <th>3956</th>\n",
              "      <td>discrete spacetime network chain</td>\n",
              "      <td>newspaper study distribution chain maximal Cha...</td>\n",
              "      <td>gr-qc</td>\n",
              "    </tr>\n",
              "  </tbody>\n",
              "</table>\n",
              "</div>\n",
              "      <button class=\"colab-df-convert\" onclick=\"convertToInteractive('df-34781fef-639e-4626-bebf-e259a03a68b2')\"\n",
              "              title=\"Convert this dataframe to an interactive table.\"\n",
              "              style=\"display:none;\">\n",
              "        \n",
              "  <svg xmlns=\"http://www.w3.org/2000/svg\" height=\"24px\"viewBox=\"0 0 24 24\"\n",
              "       width=\"24px\">\n",
              "    <path d=\"M0 0h24v24H0V0z\" fill=\"none\"/>\n",
              "    <path d=\"M18.56 5.44l.94 2.06.94-2.06 2.06-.94-2.06-.94-.94-2.06-.94 2.06-2.06.94zm-11 1L8.5 8.5l.94-2.06 2.06-.94-2.06-.94L8.5 2.5l-.94 2.06-2.06.94zm10 10l.94 2.06.94-2.06 2.06-.94-2.06-.94-.94-2.06-.94 2.06-2.06.94z\"/><path d=\"M17.41 7.96l-1.37-1.37c-.4-.4-.92-.59-1.43-.59-.52 0-1.04.2-1.43.59L10.3 9.45l-7.72 7.72c-.78.78-.78 2.05 0 2.83L4 21.41c.39.39.9.59 1.41.59.51 0 1.02-.2 1.41-.59l7.78-7.78 2.81-2.81c.8-.78.8-2.07 0-2.86zM5.41 20L4 18.59l7.72-7.72 1.47 1.35L5.41 20z\"/>\n",
              "  </svg>\n",
              "      </button>\n",
              "      \n",
              "  <style>\n",
              "    .colab-df-container {\n",
              "      display:flex;\n",
              "      flex-wrap:wrap;\n",
              "      gap: 12px;\n",
              "    }\n",
              "\n",
              "    .colab-df-convert {\n",
              "      background-color: #E8F0FE;\n",
              "      border: none;\n",
              "      border-radius: 50%;\n",
              "      cursor: pointer;\n",
              "      display: none;\n",
              "      fill: #1967D2;\n",
              "      height: 32px;\n",
              "      padding: 0 0 0 0;\n",
              "      width: 32px;\n",
              "    }\n",
              "\n",
              "    .colab-df-convert:hover {\n",
              "      background-color: #E2EBFA;\n",
              "      box-shadow: 0px 1px 2px rgba(60, 64, 67, 0.3), 0px 1px 3px 1px rgba(60, 64, 67, 0.15);\n",
              "      fill: #174EA6;\n",
              "    }\n",
              "\n",
              "    [theme=dark] .colab-df-convert {\n",
              "      background-color: #3B4455;\n",
              "      fill: #D2E3FC;\n",
              "    }\n",
              "\n",
              "    [theme=dark] .colab-df-convert:hover {\n",
              "      background-color: #434B5C;\n",
              "      box-shadow: 0px 1px 3px 1px rgba(0, 0, 0, 0.15);\n",
              "      filter: drop-shadow(0px 1px 2px rgba(0, 0, 0, 0.3));\n",
              "      fill: #FFFFFF;\n",
              "    }\n",
              "  </style>\n",
              "\n",
              "      <script>\n",
              "        const buttonEl =\n",
              "          document.querySelector('#df-34781fef-639e-4626-bebf-e259a03a68b2 button.colab-df-convert');\n",
              "        buttonEl.style.display =\n",
              "          google.colab.kernel.accessAllowed ? 'block' : 'none';\n",
              "\n",
              "        async function convertToInteractive(key) {\n",
              "          const element = document.querySelector('#df-34781fef-639e-4626-bebf-e259a03a68b2');\n",
              "          const dataTable =\n",
              "            await google.colab.kernel.invokeFunction('convertToInteractive',\n",
              "                                                     [key], {});\n",
              "          if (!dataTable) return;\n",
              "\n",
              "          const docLinkHtml = 'Like what you see? Visit the ' +\n",
              "            '<a target=\"_blank\" href=https://colab.research.google.com/notebooks/data_table.ipynb>data table notebook</a>'\n",
              "            + ' to learn more about interactive tables.';\n",
              "          element.innerHTML = '';\n",
              "          dataTable['output_type'] = 'display_data';\n",
              "          await google.colab.output.renderOutput(dataTable, element);\n",
              "          const docLink = document.createElement('div');\n",
              "          docLink.innerHTML = docLinkHtml;\n",
              "          element.appendChild(docLink);\n",
              "        }\n",
              "      </script>\n",
              "    </div>\n",
              "  </div>\n",
              "  "
            ]
          },
          "metadata": {},
          "execution_count": 28
        }
      ]
    },
    {
      "cell_type": "code",
      "source": [
        "#Thorai vako class ma add garne kaam sakkiyo\n",
        "#So aba dherai vako class bata remove garna try garam"
      ],
      "metadata": {
        "id": "lPdZ5sPN2pkH"
      },
      "execution_count": null,
      "outputs": []
    },
    {
      "cell_type": "code",
      "source": [
        "#dherai data vako class haru\n",
        "cs=df.loc[df['category'] == 'cs']\n",
        "math = df.loc[df['category'] == 'math']\n",
        "cond_mat = df.loc[df['category'] == 'cond-mat']"
      ],
      "metadata": {
        "id": "dWIp3OKX2pmX"
      },
      "execution_count": null,
      "outputs": []
    },
    {
      "cell_type": "code",
      "source": [
        "#Let's make a dataframe containing these 3 categories\n",
        "major = pd.concat([cs, math, cond_mat], axis=0)"
      ],
      "metadata": {
        "id": "51SVeRaB2pod"
      },
      "execution_count": null,
      "outputs": []
    },
    {
      "cell_type": "code",
      "source": [
        "major.tail()"
      ],
      "metadata": {
        "id": "GSRmdWWx2pqd",
        "colab": {
          "base_uri": "https://localhost:8080/",
          "height": 206
        },
        "outputId": "54aee5ae-37c4-4d5f-9082-5aa9024169ca"
      },
      "execution_count": null,
      "outputs": [
        {
          "output_type": "execute_result",
          "data": {
            "text/plain": [
              "                id                                              title  \\\n",
              "861114  2006.00349  ii vi organic inorganic hybrid nanostructures ...   \n",
              "861136  2106.05721  self oscillation synchronisation transitions e...   \n",
              "861171  2011.13215  oscillatory shear flows dense suspensions impo...   \n",
              "861192  2103.09143                         maximal diversity zipf law   \n",
              "861199  2005.09337  local thickness composition measurements scann...   \n",
              "\n",
              "                                                 abstract  category  \n",
              "861114  organic inorganic hybrids may offer material p...  cond-mat  \n",
              "861136  interplay activity elasticity often found acti...  cond-mat  \n",
              "861171  oscillatory shear widely used study rheologica...  cond-mat  \n",
              "861192  zipf law describes empirical size distribution...  cond-mat  \n",
              "861199  measured local composition thickness sio2 base...  cond-mat  "
            ],
            "text/html": [
              "\n",
              "  <div id=\"df-cdc72df5-653f-4cea-92d9-01e4e85f3d29\">\n",
              "    <div class=\"colab-df-container\">\n",
              "      <div>\n",
              "<style scoped>\n",
              "    .dataframe tbody tr th:only-of-type {\n",
              "        vertical-align: middle;\n",
              "    }\n",
              "\n",
              "    .dataframe tbody tr th {\n",
              "        vertical-align: top;\n",
              "    }\n",
              "\n",
              "    .dataframe thead th {\n",
              "        text-align: right;\n",
              "    }\n",
              "</style>\n",
              "<table border=\"1\" class=\"dataframe\">\n",
              "  <thead>\n",
              "    <tr style=\"text-align: right;\">\n",
              "      <th></th>\n",
              "      <th>id</th>\n",
              "      <th>title</th>\n",
              "      <th>abstract</th>\n",
              "      <th>category</th>\n",
              "    </tr>\n",
              "  </thead>\n",
              "  <tbody>\n",
              "    <tr>\n",
              "      <th>861114</th>\n",
              "      <td>2006.00349</td>\n",
              "      <td>ii vi organic inorganic hybrid nanostructures ...</td>\n",
              "      <td>organic inorganic hybrids may offer material p...</td>\n",
              "      <td>cond-mat</td>\n",
              "    </tr>\n",
              "    <tr>\n",
              "      <th>861136</th>\n",
              "      <td>2106.05721</td>\n",
              "      <td>self oscillation synchronisation transitions e...</td>\n",
              "      <td>interplay activity elasticity often found acti...</td>\n",
              "      <td>cond-mat</td>\n",
              "    </tr>\n",
              "    <tr>\n",
              "      <th>861171</th>\n",
              "      <td>2011.13215</td>\n",
              "      <td>oscillatory shear flows dense suspensions impo...</td>\n",
              "      <td>oscillatory shear widely used study rheologica...</td>\n",
              "      <td>cond-mat</td>\n",
              "    </tr>\n",
              "    <tr>\n",
              "      <th>861192</th>\n",
              "      <td>2103.09143</td>\n",
              "      <td>maximal diversity zipf law</td>\n",
              "      <td>zipf law describes empirical size distribution...</td>\n",
              "      <td>cond-mat</td>\n",
              "    </tr>\n",
              "    <tr>\n",
              "      <th>861199</th>\n",
              "      <td>2005.09337</td>\n",
              "      <td>local thickness composition measurements scann...</td>\n",
              "      <td>measured local composition thickness sio2 base...</td>\n",
              "      <td>cond-mat</td>\n",
              "    </tr>\n",
              "  </tbody>\n",
              "</table>\n",
              "</div>\n",
              "      <button class=\"colab-df-convert\" onclick=\"convertToInteractive('df-cdc72df5-653f-4cea-92d9-01e4e85f3d29')\"\n",
              "              title=\"Convert this dataframe to an interactive table.\"\n",
              "              style=\"display:none;\">\n",
              "        \n",
              "  <svg xmlns=\"http://www.w3.org/2000/svg\" height=\"24px\"viewBox=\"0 0 24 24\"\n",
              "       width=\"24px\">\n",
              "    <path d=\"M0 0h24v24H0V0z\" fill=\"none\"/>\n",
              "    <path d=\"M18.56 5.44l.94 2.06.94-2.06 2.06-.94-2.06-.94-.94-2.06-.94 2.06-2.06.94zm-11 1L8.5 8.5l.94-2.06 2.06-.94-2.06-.94L8.5 2.5l-.94 2.06-2.06.94zm10 10l.94 2.06.94-2.06 2.06-.94-2.06-.94-.94-2.06-.94 2.06-2.06.94z\"/><path d=\"M17.41 7.96l-1.37-1.37c-.4-.4-.92-.59-1.43-.59-.52 0-1.04.2-1.43.59L10.3 9.45l-7.72 7.72c-.78.78-.78 2.05 0 2.83L4 21.41c.39.39.9.59 1.41.59.51 0 1.02-.2 1.41-.59l7.78-7.78 2.81-2.81c.8-.78.8-2.07 0-2.86zM5.41 20L4 18.59l7.72-7.72 1.47 1.35L5.41 20z\"/>\n",
              "  </svg>\n",
              "      </button>\n",
              "      \n",
              "  <style>\n",
              "    .colab-df-container {\n",
              "      display:flex;\n",
              "      flex-wrap:wrap;\n",
              "      gap: 12px;\n",
              "    }\n",
              "\n",
              "    .colab-df-convert {\n",
              "      background-color: #E8F0FE;\n",
              "      border: none;\n",
              "      border-radius: 50%;\n",
              "      cursor: pointer;\n",
              "      display: none;\n",
              "      fill: #1967D2;\n",
              "      height: 32px;\n",
              "      padding: 0 0 0 0;\n",
              "      width: 32px;\n",
              "    }\n",
              "\n",
              "    .colab-df-convert:hover {\n",
              "      background-color: #E2EBFA;\n",
              "      box-shadow: 0px 1px 2px rgba(60, 64, 67, 0.3), 0px 1px 3px 1px rgba(60, 64, 67, 0.15);\n",
              "      fill: #174EA6;\n",
              "    }\n",
              "\n",
              "    [theme=dark] .colab-df-convert {\n",
              "      background-color: #3B4455;\n",
              "      fill: #D2E3FC;\n",
              "    }\n",
              "\n",
              "    [theme=dark] .colab-df-convert:hover {\n",
              "      background-color: #434B5C;\n",
              "      box-shadow: 0px 1px 3px 1px rgba(0, 0, 0, 0.15);\n",
              "      filter: drop-shadow(0px 1px 2px rgba(0, 0, 0, 0.3));\n",
              "      fill: #FFFFFF;\n",
              "    }\n",
              "  </style>\n",
              "\n",
              "      <script>\n",
              "        const buttonEl =\n",
              "          document.querySelector('#df-cdc72df5-653f-4cea-92d9-01e4e85f3d29 button.colab-df-convert');\n",
              "        buttonEl.style.display =\n",
              "          google.colab.kernel.accessAllowed ? 'block' : 'none';\n",
              "\n",
              "        async function convertToInteractive(key) {\n",
              "          const element = document.querySelector('#df-cdc72df5-653f-4cea-92d9-01e4e85f3d29');\n",
              "          const dataTable =\n",
              "            await google.colab.kernel.invokeFunction('convertToInteractive',\n",
              "                                                     [key], {});\n",
              "          if (!dataTable) return;\n",
              "\n",
              "          const docLinkHtml = 'Like what you see? Visit the ' +\n",
              "            '<a target=\"_blank\" href=https://colab.research.google.com/notebooks/data_table.ipynb>data table notebook</a>'\n",
              "            + ' to learn more about interactive tables.';\n",
              "          element.innerHTML = '';\n",
              "          dataTable['output_type'] = 'display_data';\n",
              "          await google.colab.output.renderOutput(dataTable, element);\n",
              "          const docLink = document.createElement('div');\n",
              "          docLink.innerHTML = docLinkHtml;\n",
              "          element.appendChild(docLink);\n",
              "        }\n",
              "      </script>\n",
              "    </div>\n",
              "  </div>\n",
              "  "
            ]
          },
          "metadata": {},
          "execution_count": 32
        }
      ]
    },
    {
      "cell_type": "code",
      "source": [
        "# Separating the independent variables from dependent variables\n",
        "#major dataframe bata matra\n",
        "X = major.iloc[:,1:-1]\n",
        "y = major.iloc[:,-1]"
      ],
      "metadata": {
        "id": "CeeDTnpn2psl"
      },
      "execution_count": null,
      "outputs": []
    },
    {
      "cell_type": "code",
      "source": [
        "#Now, let's do undersampling\n",
        "from sklearn.datasets import make_classification\n",
        "from sklearn.model_selection import train_test_split\n",
        "from imblearn.under_sampling import RandomUnderSampler"
      ],
      "metadata": {
        "id": "xwUCj_E92puu"
      },
      "execution_count": null,
      "outputs": []
    },
    {
      "cell_type": "code",
      "source": [
        "# Apply the random under-sampling\n",
        "rus = RandomUnderSampler(random_state=0)\n",
        "X_resampled, y_resampled = rus.fit_resample(X, y)"
      ],
      "metadata": {
        "id": "oX7lSDtO3i94"
      },
      "execution_count": null,
      "outputs": []
    },
    {
      "cell_type": "code",
      "source": [
        "len(X_resampled), len(X)"
      ],
      "metadata": {
        "id": "QQvfoB-m3jBf",
        "colab": {
          "base_uri": "https://localhost:8080/"
        },
        "outputId": "367e6401-68f6-493f-c878-6535005c24d1"
      },
      "execution_count": null,
      "outputs": [
        {
          "output_type": "execute_result",
          "data": {
            "text/plain": [
              "(128358, 287200)"
            ]
          },
          "metadata": {},
          "execution_count": 36
        }
      ]
    },
    {
      "cell_type": "code",
      "source": [
        "#X_resampled, y_resampled vaneko 3ta class ko dherai data lai thorai banayepachi ko ho hai\n",
        "y_resampled.head()"
      ],
      "metadata": {
        "id": "_ip_Zi073jMW",
        "colab": {
          "base_uri": "https://localhost:8080/"
        },
        "outputId": "9714a462-ccda-475c-db94-644032555fec"
      },
      "execution_count": null,
      "outputs": [
        {
          "output_type": "execute_result",
          "data": {
            "text/plain": [
              "0    cond-mat\n",
              "1    cond-mat\n",
              "2    cond-mat\n",
              "3    cond-mat\n",
              "4    cond-mat\n",
              "Name: category, dtype: object"
            ]
          },
          "metadata": {},
          "execution_count": 37
        }
      ]
    },
    {
      "cell_type": "code",
      "source": [
        "#Now let's combine X_resampled and y_resampled into a new dataframe --reduced\n",
        "reduced = pd.concat([X_resampled, y_resampled], axis = 1)"
      ],
      "metadata": {
        "id": "HjFj62p535jw"
      },
      "execution_count": null,
      "outputs": []
    },
    {
      "cell_type": "code",
      "source": [
        "#Visualize\n",
        "reduced.tail()"
      ],
      "metadata": {
        "id": "M9Nrawx435l0",
        "colab": {
          "base_uri": "https://localhost:8080/",
          "height": 206
        },
        "outputId": "c099fe5d-d218-43f5-cf62-7024dafece6d"
      },
      "execution_count": null,
      "outputs": [
        {
          "output_type": "execute_result",
          "data": {
            "text/plain": [
              "                                                    title  \\\n",
              "128353  measure rigidity solvable group actions space ...   \n",
              "128354  monotone lagrangian submanifolds mathbb c n to...   \n",
              "128355  numerical evidence towards positive answer mor...   \n",
              "128356  existence stationary fronts system two coupled...   \n",
              "128357                       1 absorbing prime submodules   \n",
              "\n",
              "                                                 abstract category  \n",
              "128353  study invariant probability measures homogeneo...     math  \n",
              "128354  mironov panov kotelskiy studied hamiltonian mi...     math  \n",
              "128355  report numerical experiments suggesting rank o...     math  \n",
              "128356  investigate existence stationary fronts couple...     math  \n",
              "128357  study aim introduce concept 1 absorbing prime ...     math  "
            ],
            "text/html": [
              "\n",
              "  <div id=\"df-3aacf47a-71cd-4ce0-b3c8-7d73437ab70f\">\n",
              "    <div class=\"colab-df-container\">\n",
              "      <div>\n",
              "<style scoped>\n",
              "    .dataframe tbody tr th:only-of-type {\n",
              "        vertical-align: middle;\n",
              "    }\n",
              "\n",
              "    .dataframe tbody tr th {\n",
              "        vertical-align: top;\n",
              "    }\n",
              "\n",
              "    .dataframe thead th {\n",
              "        text-align: right;\n",
              "    }\n",
              "</style>\n",
              "<table border=\"1\" class=\"dataframe\">\n",
              "  <thead>\n",
              "    <tr style=\"text-align: right;\">\n",
              "      <th></th>\n",
              "      <th>title</th>\n",
              "      <th>abstract</th>\n",
              "      <th>category</th>\n",
              "    </tr>\n",
              "  </thead>\n",
              "  <tbody>\n",
              "    <tr>\n",
              "      <th>128353</th>\n",
              "      <td>measure rigidity solvable group actions space ...</td>\n",
              "      <td>study invariant probability measures homogeneo...</td>\n",
              "      <td>math</td>\n",
              "    </tr>\n",
              "    <tr>\n",
              "      <th>128354</th>\n",
              "      <td>monotone lagrangian submanifolds mathbb c n to...</td>\n",
              "      <td>mironov panov kotelskiy studied hamiltonian mi...</td>\n",
              "      <td>math</td>\n",
              "    </tr>\n",
              "    <tr>\n",
              "      <th>128355</th>\n",
              "      <td>numerical evidence towards positive answer mor...</td>\n",
              "      <td>report numerical experiments suggesting rank o...</td>\n",
              "      <td>math</td>\n",
              "    </tr>\n",
              "    <tr>\n",
              "      <th>128356</th>\n",
              "      <td>existence stationary fronts system two coupled...</td>\n",
              "      <td>investigate existence stationary fronts couple...</td>\n",
              "      <td>math</td>\n",
              "    </tr>\n",
              "    <tr>\n",
              "      <th>128357</th>\n",
              "      <td>1 absorbing prime submodules</td>\n",
              "      <td>study aim introduce concept 1 absorbing prime ...</td>\n",
              "      <td>math</td>\n",
              "    </tr>\n",
              "  </tbody>\n",
              "</table>\n",
              "</div>\n",
              "      <button class=\"colab-df-convert\" onclick=\"convertToInteractive('df-3aacf47a-71cd-4ce0-b3c8-7d73437ab70f')\"\n",
              "              title=\"Convert this dataframe to an interactive table.\"\n",
              "              style=\"display:none;\">\n",
              "        \n",
              "  <svg xmlns=\"http://www.w3.org/2000/svg\" height=\"24px\"viewBox=\"0 0 24 24\"\n",
              "       width=\"24px\">\n",
              "    <path d=\"M0 0h24v24H0V0z\" fill=\"none\"/>\n",
              "    <path d=\"M18.56 5.44l.94 2.06.94-2.06 2.06-.94-2.06-.94-.94-2.06-.94 2.06-2.06.94zm-11 1L8.5 8.5l.94-2.06 2.06-.94-2.06-.94L8.5 2.5l-.94 2.06-2.06.94zm10 10l.94 2.06.94-2.06 2.06-.94-2.06-.94-.94-2.06-.94 2.06-2.06.94z\"/><path d=\"M17.41 7.96l-1.37-1.37c-.4-.4-.92-.59-1.43-.59-.52 0-1.04.2-1.43.59L10.3 9.45l-7.72 7.72c-.78.78-.78 2.05 0 2.83L4 21.41c.39.39.9.59 1.41.59.51 0 1.02-.2 1.41-.59l7.78-7.78 2.81-2.81c.8-.78.8-2.07 0-2.86zM5.41 20L4 18.59l7.72-7.72 1.47 1.35L5.41 20z\"/>\n",
              "  </svg>\n",
              "      </button>\n",
              "      \n",
              "  <style>\n",
              "    .colab-df-container {\n",
              "      display:flex;\n",
              "      flex-wrap:wrap;\n",
              "      gap: 12px;\n",
              "    }\n",
              "\n",
              "    .colab-df-convert {\n",
              "      background-color: #E8F0FE;\n",
              "      border: none;\n",
              "      border-radius: 50%;\n",
              "      cursor: pointer;\n",
              "      display: none;\n",
              "      fill: #1967D2;\n",
              "      height: 32px;\n",
              "      padding: 0 0 0 0;\n",
              "      width: 32px;\n",
              "    }\n",
              "\n",
              "    .colab-df-convert:hover {\n",
              "      background-color: #E2EBFA;\n",
              "      box-shadow: 0px 1px 2px rgba(60, 64, 67, 0.3), 0px 1px 3px 1px rgba(60, 64, 67, 0.15);\n",
              "      fill: #174EA6;\n",
              "    }\n",
              "\n",
              "    [theme=dark] .colab-df-convert {\n",
              "      background-color: #3B4455;\n",
              "      fill: #D2E3FC;\n",
              "    }\n",
              "\n",
              "    [theme=dark] .colab-df-convert:hover {\n",
              "      background-color: #434B5C;\n",
              "      box-shadow: 0px 1px 3px 1px rgba(0, 0, 0, 0.15);\n",
              "      filter: drop-shadow(0px 1px 2px rgba(0, 0, 0, 0.3));\n",
              "      fill: #FFFFFF;\n",
              "    }\n",
              "  </style>\n",
              "\n",
              "      <script>\n",
              "        const buttonEl =\n",
              "          document.querySelector('#df-3aacf47a-71cd-4ce0-b3c8-7d73437ab70f button.colab-df-convert');\n",
              "        buttonEl.style.display =\n",
              "          google.colab.kernel.accessAllowed ? 'block' : 'none';\n",
              "\n",
              "        async function convertToInteractive(key) {\n",
              "          const element = document.querySelector('#df-3aacf47a-71cd-4ce0-b3c8-7d73437ab70f');\n",
              "          const dataTable =\n",
              "            await google.colab.kernel.invokeFunction('convertToInteractive',\n",
              "                                                     [key], {});\n",
              "          if (!dataTable) return;\n",
              "\n",
              "          const docLinkHtml = 'Like what you see? Visit the ' +\n",
              "            '<a target=\"_blank\" href=https://colab.research.google.com/notebooks/data_table.ipynb>data table notebook</a>'\n",
              "            + ' to learn more about interactive tables.';\n",
              "          element.innerHTML = '';\n",
              "          dataTable['output_type'] = 'display_data';\n",
              "          await google.colab.output.renderOutput(dataTable, element);\n",
              "          const docLink = document.createElement('div');\n",
              "          docLink.innerHTML = docLinkHtml;\n",
              "          element.appendChild(docLink);\n",
              "        }\n",
              "      </script>\n",
              "    </div>\n",
              "  </div>\n",
              "  "
            ]
          },
          "metadata": {},
          "execution_count": 39
        }
      ]
    },
    {
      "cell_type": "code",
      "source": [
        "reduced['category'].value_counts()"
      ],
      "metadata": {
        "id": "RfHsVM0e35px",
        "colab": {
          "base_uri": "https://localhost:8080/"
        },
        "outputId": "76c4d19c-4368-4376-e713-30db68aa59fe"
      },
      "execution_count": null,
      "outputs": [
        {
          "output_type": "execute_result",
          "data": {
            "text/plain": [
              "cond-mat    42786\n",
              "cs          42786\n",
              "math        42786\n",
              "Name: category, dtype: int64"
            ]
          },
          "metadata": {},
          "execution_count": 40
        }
      ]
    },
    {
      "cell_type": "code",
      "source": [
        "# so among those three classes, math had the smallest number(42786)\n",
        "#That's why other two classes namely cond-mat and cs also are reduced to the size of math"
      ],
      "metadata": {
        "id": "RkbXqfUI2pxF"
      },
      "execution_count": null,
      "outputs": []
    },
    {
      "cell_type": "code",
      "source": [
        "#Mathi thorai vako data lai badhayera pani sakkiyo -- reduced\n",
        "#Ani tespachi dherai vako data lai ghatayera pani sakkiyo -- shuffled\n",
        "#Aba kunai kunai class ko data as it is xa - df\n",
        "#Aba sabailai appropriately combine garera final dataset banaune"
      ],
      "metadata": {
        "id": "wHwPBjyo4oxl"
      },
      "execution_count": null,
      "outputs": []
    },
    {
      "cell_type": "code",
      "source": [
        "#Now original dataframe bata major class haru remove garna paryo (3 ota class)\n",
        "rem_cs=df.loc[df['category'] != 'cs']\n",
        "rem_math = rem_cs.loc[rem_cs['category'] != 'math']\n",
        "major_removed = rem_math.loc[rem_math['category'] != 'cond-mat'] # 3ta class hatyo"
      ],
      "metadata": {
        "id": "Fc15ojHd5HJs"
      },
      "execution_count": null,
      "outputs": []
    },
    {
      "cell_type": "code",
      "source": [
        "#Let's see 3 ota class hatyo ki nai\n",
        "major_removed['category'].value_counts()"
      ],
      "metadata": {
        "id": "VhdKyP1G5HL5",
        "colab": {
          "base_uri": "https://localhost:8080/"
        },
        "outputId": "5a5c57bc-e02b-4804-d153-9ba615e7864b"
      },
      "execution_count": null,
      "outputs": [
        {
          "output_type": "execute_result",
          "data": {
            "text/plain": [
              "physics     38243\n",
              "astro-ph    38059\n",
              "stat        22747\n",
              "quant-ph    16021\n",
              "eess        15847\n",
              "hep-ph      11420\n",
              "hep-th      10695\n",
              "gr-qc        8663\n",
              "q-bio        5665\n",
              "hep-ex       3955\n",
              "math-ph      3823\n",
              "nucl-th      3521\n",
              "q-fin        3053\n",
              "nlin         2894\n",
              "econ         2050\n",
              "nucl-ex      1792\n",
              "hep-lat      1136\n",
              "Name: category, dtype: int64"
            ]
          },
          "metadata": {},
          "execution_count": 44
        }
      ]
    },
    {
      "cell_type": "code",
      "source": [
        "#Visualize \n",
        "major_removed.head()"
      ],
      "metadata": {
        "id": "3f2I2R7A5HOI",
        "colab": {
          "base_uri": "https://localhost:8080/",
          "height": 206
        },
        "outputId": "6a68d1f0-4ac9-41fc-a135-88a3cb7b4ad4"
      },
      "execution_count": null,
      "outputs": [
        {
          "output_type": "execute_result",
          "data": {
            "text/plain": [
              "            id                                              title  \\\n",
              "5   2102.10644    surface tension destabiliser vortical interface   \n",
              "7   1902.08524  acoustically modulated optical emission hexago...   \n",
              "13  1912.02502  monte carlo studies spin chirality decoupling ...   \n",
              "14  1911.08413  igatelink gateway library linking iot edge fog...   \n",
              "18  2005.00921  epidemic model sipherd application prediction ...   \n",
              "\n",
              "                                             abstract category  \n",
              "5   study dynamics initially flat interface two im...  physics  \n",
              "7   investigate effect surface acoustic waves atom...  physics  \n",
              "13  extensive equilibrium monte carlo simulation p...  physics  \n",
              "14  recent years internet things iot growing popul...     eess  \n",
              "18  propose epidemic model sipherd three categorie...    q-bio  "
            ],
            "text/html": [
              "\n",
              "  <div id=\"df-9761879b-b732-4530-8eb6-10e3e3617555\">\n",
              "    <div class=\"colab-df-container\">\n",
              "      <div>\n",
              "<style scoped>\n",
              "    .dataframe tbody tr th:only-of-type {\n",
              "        vertical-align: middle;\n",
              "    }\n",
              "\n",
              "    .dataframe tbody tr th {\n",
              "        vertical-align: top;\n",
              "    }\n",
              "\n",
              "    .dataframe thead th {\n",
              "        text-align: right;\n",
              "    }\n",
              "</style>\n",
              "<table border=\"1\" class=\"dataframe\">\n",
              "  <thead>\n",
              "    <tr style=\"text-align: right;\">\n",
              "      <th></th>\n",
              "      <th>id</th>\n",
              "      <th>title</th>\n",
              "      <th>abstract</th>\n",
              "      <th>category</th>\n",
              "    </tr>\n",
              "  </thead>\n",
              "  <tbody>\n",
              "    <tr>\n",
              "      <th>5</th>\n",
              "      <td>2102.10644</td>\n",
              "      <td>surface tension destabiliser vortical interface</td>\n",
              "      <td>study dynamics initially flat interface two im...</td>\n",
              "      <td>physics</td>\n",
              "    </tr>\n",
              "    <tr>\n",
              "      <th>7</th>\n",
              "      <td>1902.08524</td>\n",
              "      <td>acoustically modulated optical emission hexago...</td>\n",
              "      <td>investigate effect surface acoustic waves atom...</td>\n",
              "      <td>physics</td>\n",
              "    </tr>\n",
              "    <tr>\n",
              "      <th>13</th>\n",
              "      <td>1912.02502</td>\n",
              "      <td>monte carlo studies spin chirality decoupling ...</td>\n",
              "      <td>extensive equilibrium monte carlo simulation p...</td>\n",
              "      <td>physics</td>\n",
              "    </tr>\n",
              "    <tr>\n",
              "      <th>14</th>\n",
              "      <td>1911.08413</td>\n",
              "      <td>igatelink gateway library linking iot edge fog...</td>\n",
              "      <td>recent years internet things iot growing popul...</td>\n",
              "      <td>eess</td>\n",
              "    </tr>\n",
              "    <tr>\n",
              "      <th>18</th>\n",
              "      <td>2005.00921</td>\n",
              "      <td>epidemic model sipherd application prediction ...</td>\n",
              "      <td>propose epidemic model sipherd three categorie...</td>\n",
              "      <td>q-bio</td>\n",
              "    </tr>\n",
              "  </tbody>\n",
              "</table>\n",
              "</div>\n",
              "      <button class=\"colab-df-convert\" onclick=\"convertToInteractive('df-9761879b-b732-4530-8eb6-10e3e3617555')\"\n",
              "              title=\"Convert this dataframe to an interactive table.\"\n",
              "              style=\"display:none;\">\n",
              "        \n",
              "  <svg xmlns=\"http://www.w3.org/2000/svg\" height=\"24px\"viewBox=\"0 0 24 24\"\n",
              "       width=\"24px\">\n",
              "    <path d=\"M0 0h24v24H0V0z\" fill=\"none\"/>\n",
              "    <path d=\"M18.56 5.44l.94 2.06.94-2.06 2.06-.94-2.06-.94-.94-2.06-.94 2.06-2.06.94zm-11 1L8.5 8.5l.94-2.06 2.06-.94-2.06-.94L8.5 2.5l-.94 2.06-2.06.94zm10 10l.94 2.06.94-2.06 2.06-.94-2.06-.94-.94-2.06-.94 2.06-2.06.94z\"/><path d=\"M17.41 7.96l-1.37-1.37c-.4-.4-.92-.59-1.43-.59-.52 0-1.04.2-1.43.59L10.3 9.45l-7.72 7.72c-.78.78-.78 2.05 0 2.83L4 21.41c.39.39.9.59 1.41.59.51 0 1.02-.2 1.41-.59l7.78-7.78 2.81-2.81c.8-.78.8-2.07 0-2.86zM5.41 20L4 18.59l7.72-7.72 1.47 1.35L5.41 20z\"/>\n",
              "  </svg>\n",
              "      </button>\n",
              "      \n",
              "  <style>\n",
              "    .colab-df-container {\n",
              "      display:flex;\n",
              "      flex-wrap:wrap;\n",
              "      gap: 12px;\n",
              "    }\n",
              "\n",
              "    .colab-df-convert {\n",
              "      background-color: #E8F0FE;\n",
              "      border: none;\n",
              "      border-radius: 50%;\n",
              "      cursor: pointer;\n",
              "      display: none;\n",
              "      fill: #1967D2;\n",
              "      height: 32px;\n",
              "      padding: 0 0 0 0;\n",
              "      width: 32px;\n",
              "    }\n",
              "\n",
              "    .colab-df-convert:hover {\n",
              "      background-color: #E2EBFA;\n",
              "      box-shadow: 0px 1px 2px rgba(60, 64, 67, 0.3), 0px 1px 3px 1px rgba(60, 64, 67, 0.15);\n",
              "      fill: #174EA6;\n",
              "    }\n",
              "\n",
              "    [theme=dark] .colab-df-convert {\n",
              "      background-color: #3B4455;\n",
              "      fill: #D2E3FC;\n",
              "    }\n",
              "\n",
              "    [theme=dark] .colab-df-convert:hover {\n",
              "      background-color: #434B5C;\n",
              "      box-shadow: 0px 1px 3px 1px rgba(0, 0, 0, 0.15);\n",
              "      filter: drop-shadow(0px 1px 2px rgba(0, 0, 0, 0.3));\n",
              "      fill: #FFFFFF;\n",
              "    }\n",
              "  </style>\n",
              "\n",
              "      <script>\n",
              "        const buttonEl =\n",
              "          document.querySelector('#df-9761879b-b732-4530-8eb6-10e3e3617555 button.colab-df-convert');\n",
              "        buttonEl.style.display =\n",
              "          google.colab.kernel.accessAllowed ? 'block' : 'none';\n",
              "\n",
              "        async function convertToInteractive(key) {\n",
              "          const element = document.querySelector('#df-9761879b-b732-4530-8eb6-10e3e3617555');\n",
              "          const dataTable =\n",
              "            await google.colab.kernel.invokeFunction('convertToInteractive',\n",
              "                                                     [key], {});\n",
              "          if (!dataTable) return;\n",
              "\n",
              "          const docLinkHtml = 'Like what you see? Visit the ' +\n",
              "            '<a target=\"_blank\" href=https://colab.research.google.com/notebooks/data_table.ipynb>data table notebook</a>'\n",
              "            + ' to learn more about interactive tables.';\n",
              "          element.innerHTML = '';\n",
              "          dataTable['output_type'] = 'display_data';\n",
              "          await google.colab.output.renderOutput(dataTable, element);\n",
              "          const docLink = document.createElement('div');\n",
              "          docLink.innerHTML = docLinkHtml;\n",
              "          element.appendChild(docLink);\n",
              "        }\n",
              "      </script>\n",
              "    </div>\n",
              "  </div>\n",
              "  "
            ]
          },
          "metadata": {},
          "execution_count": 45
        }
      ]
    },
    {
      "cell_type": "code",
      "source": [
        "#Now, lets combine our dataframes -- reduced, shuffled, major_removed\n",
        "final_df = pd.concat([reduced, shuffled, major_removed], ignore_index=True)"
      ],
      "metadata": {
        "id": "Hd4L-R_f5HRT"
      },
      "execution_count": null,
      "outputs": []
    },
    {
      "cell_type": "code",
      "source": [
        "\n",
        "len(reduced)+ len(shuffled)+ len(major_removed) == len(final_df)"
      ],
      "metadata": {
        "id": "Q8BtR5dR4ozr",
        "colab": {
          "base_uri": "https://localhost:8080/"
        },
        "outputId": "84cf0458-3b48-4b0d-f7b9-31182c1f5dd4"
      },
      "execution_count": null,
      "outputs": [
        {
          "output_type": "execute_result",
          "data": {
            "text/plain": [
              "True"
            ]
          },
          "metadata": {},
          "execution_count": 47
        }
      ]
    },
    {
      "cell_type": "code",
      "source": [
        "#Visualize\n",
        "final_df.head()"
      ],
      "metadata": {
        "id": "IQj4pxP94o39",
        "colab": {
          "base_uri": "https://localhost:8080/",
          "height": 206
        },
        "outputId": "bf4ea116-1475-4e98-8a42-c4e95b7b7523"
      },
      "execution_count": null,
      "outputs": [
        {
          "output_type": "execute_result",
          "data": {
            "text/plain": [
              "                                               title  \\\n",
              "0  noise noise ratios correlation length calculat...   \n",
              "1  exactly solvable model 4+1d beyond cohomology ...   \n",
              "2  n independent localized krylov bogoliubov de g...   \n",
              "3     molding 3d curved structures selective heating   \n",
              "4  piezoelectric properties substitutionally dope...   \n",
              "\n",
              "                                            abstract  category   id  \n",
              "0  finite random systems possible define two type...  cond-mat  NaN  \n",
              "1  construct exactly solvable commuting projector...  cond-mat  NaN  \n",
              "2  propose ultra fast numerical approach large sc...  cond-mat  NaN  \n",
              "3  interest fabricate curved surfaces three dimen...  cond-mat  NaN  \n",
              "4  modern semiconductor materials increasingly us...  cond-mat  NaN  "
            ],
            "text/html": [
              "\n",
              "  <div id=\"df-2e417b73-acff-4737-8b4b-a2abacc1083f\">\n",
              "    <div class=\"colab-df-container\">\n",
              "      <div>\n",
              "<style scoped>\n",
              "    .dataframe tbody tr th:only-of-type {\n",
              "        vertical-align: middle;\n",
              "    }\n",
              "\n",
              "    .dataframe tbody tr th {\n",
              "        vertical-align: top;\n",
              "    }\n",
              "\n",
              "    .dataframe thead th {\n",
              "        text-align: right;\n",
              "    }\n",
              "</style>\n",
              "<table border=\"1\" class=\"dataframe\">\n",
              "  <thead>\n",
              "    <tr style=\"text-align: right;\">\n",
              "      <th></th>\n",
              "      <th>title</th>\n",
              "      <th>abstract</th>\n",
              "      <th>category</th>\n",
              "      <th>id</th>\n",
              "    </tr>\n",
              "  </thead>\n",
              "  <tbody>\n",
              "    <tr>\n",
              "      <th>0</th>\n",
              "      <td>noise noise ratios correlation length calculat...</td>\n",
              "      <td>finite random systems possible define two type...</td>\n",
              "      <td>cond-mat</td>\n",
              "      <td>NaN</td>\n",
              "    </tr>\n",
              "    <tr>\n",
              "      <th>1</th>\n",
              "      <td>exactly solvable model 4+1d beyond cohomology ...</td>\n",
              "      <td>construct exactly solvable commuting projector...</td>\n",
              "      <td>cond-mat</td>\n",
              "      <td>NaN</td>\n",
              "    </tr>\n",
              "    <tr>\n",
              "      <th>2</th>\n",
              "      <td>n independent localized krylov bogoliubov de g...</td>\n",
              "      <td>propose ultra fast numerical approach large sc...</td>\n",
              "      <td>cond-mat</td>\n",
              "      <td>NaN</td>\n",
              "    </tr>\n",
              "    <tr>\n",
              "      <th>3</th>\n",
              "      <td>molding 3d curved structures selective heating</td>\n",
              "      <td>interest fabricate curved surfaces three dimen...</td>\n",
              "      <td>cond-mat</td>\n",
              "      <td>NaN</td>\n",
              "    </tr>\n",
              "    <tr>\n",
              "      <th>4</th>\n",
              "      <td>piezoelectric properties substitutionally dope...</td>\n",
              "      <td>modern semiconductor materials increasingly us...</td>\n",
              "      <td>cond-mat</td>\n",
              "      <td>NaN</td>\n",
              "    </tr>\n",
              "  </tbody>\n",
              "</table>\n",
              "</div>\n",
              "      <button class=\"colab-df-convert\" onclick=\"convertToInteractive('df-2e417b73-acff-4737-8b4b-a2abacc1083f')\"\n",
              "              title=\"Convert this dataframe to an interactive table.\"\n",
              "              style=\"display:none;\">\n",
              "        \n",
              "  <svg xmlns=\"http://www.w3.org/2000/svg\" height=\"24px\"viewBox=\"0 0 24 24\"\n",
              "       width=\"24px\">\n",
              "    <path d=\"M0 0h24v24H0V0z\" fill=\"none\"/>\n",
              "    <path d=\"M18.56 5.44l.94 2.06.94-2.06 2.06-.94-2.06-.94-.94-2.06-.94 2.06-2.06.94zm-11 1L8.5 8.5l.94-2.06 2.06-.94-2.06-.94L8.5 2.5l-.94 2.06-2.06.94zm10 10l.94 2.06.94-2.06 2.06-.94-2.06-.94-.94-2.06-.94 2.06-2.06.94z\"/><path d=\"M17.41 7.96l-1.37-1.37c-.4-.4-.92-.59-1.43-.59-.52 0-1.04.2-1.43.59L10.3 9.45l-7.72 7.72c-.78.78-.78 2.05 0 2.83L4 21.41c.39.39.9.59 1.41.59.51 0 1.02-.2 1.41-.59l7.78-7.78 2.81-2.81c.8-.78.8-2.07 0-2.86zM5.41 20L4 18.59l7.72-7.72 1.47 1.35L5.41 20z\"/>\n",
              "  </svg>\n",
              "      </button>\n",
              "      \n",
              "  <style>\n",
              "    .colab-df-container {\n",
              "      display:flex;\n",
              "      flex-wrap:wrap;\n",
              "      gap: 12px;\n",
              "    }\n",
              "\n",
              "    .colab-df-convert {\n",
              "      background-color: #E8F0FE;\n",
              "      border: none;\n",
              "      border-radius: 50%;\n",
              "      cursor: pointer;\n",
              "      display: none;\n",
              "      fill: #1967D2;\n",
              "      height: 32px;\n",
              "      padding: 0 0 0 0;\n",
              "      width: 32px;\n",
              "    }\n",
              "\n",
              "    .colab-df-convert:hover {\n",
              "      background-color: #E2EBFA;\n",
              "      box-shadow: 0px 1px 2px rgba(60, 64, 67, 0.3), 0px 1px 3px 1px rgba(60, 64, 67, 0.15);\n",
              "      fill: #174EA6;\n",
              "    }\n",
              "\n",
              "    [theme=dark] .colab-df-convert {\n",
              "      background-color: #3B4455;\n",
              "      fill: #D2E3FC;\n",
              "    }\n",
              "\n",
              "    [theme=dark] .colab-df-convert:hover {\n",
              "      background-color: #434B5C;\n",
              "      box-shadow: 0px 1px 3px 1px rgba(0, 0, 0, 0.15);\n",
              "      filter: drop-shadow(0px 1px 2px rgba(0, 0, 0, 0.3));\n",
              "      fill: #FFFFFF;\n",
              "    }\n",
              "  </style>\n",
              "\n",
              "      <script>\n",
              "        const buttonEl =\n",
              "          document.querySelector('#df-2e417b73-acff-4737-8b4b-a2abacc1083f button.colab-df-convert');\n",
              "        buttonEl.style.display =\n",
              "          google.colab.kernel.accessAllowed ? 'block' : 'none';\n",
              "\n",
              "        async function convertToInteractive(key) {\n",
              "          const element = document.querySelector('#df-2e417b73-acff-4737-8b4b-a2abacc1083f');\n",
              "          const dataTable =\n",
              "            await google.colab.kernel.invokeFunction('convertToInteractive',\n",
              "                                                     [key], {});\n",
              "          if (!dataTable) return;\n",
              "\n",
              "          const docLinkHtml = 'Like what you see? Visit the ' +\n",
              "            '<a target=\"_blank\" href=https://colab.research.google.com/notebooks/data_table.ipynb>data table notebook</a>'\n",
              "            + ' to learn more about interactive tables.';\n",
              "          element.innerHTML = '';\n",
              "          dataTable['output_type'] = 'display_data';\n",
              "          await google.colab.output.renderOutput(dataTable, element);\n",
              "          const docLink = document.createElement('div');\n",
              "          docLink.innerHTML = docLinkHtml;\n",
              "          element.appendChild(docLink);\n",
              "        }\n",
              "      </script>\n",
              "    </div>\n",
              "  </div>\n",
              "  "
            ]
          },
          "metadata": {},
          "execution_count": 48
        }
      ]
    },
    {
      "cell_type": "code",
      "source": [
        "#Let's see how the data distribution has become\n",
        "final_df['category'].value_counts()"
      ],
      "metadata": {
        "id": "8v7T_lMa8M3l",
        "colab": {
          "base_uri": "https://localhost:8080/"
        },
        "outputId": "41aad075-cce8-48ee-e463-472c4140ee5a"
      },
      "execution_count": null,
      "outputs": [
        {
          "output_type": "execute_result",
          "data": {
            "text/plain": [
              "cond-mat    42786\n",
              "cs          42786\n",
              "math        42786\n",
              "physics     38243\n",
              "astro-ph    38059\n",
              "stat        22747\n",
              "gr-qc       17326\n",
              "quant-ph    16021\n",
              "eess        15847\n",
              "hep-ph      11420\n",
              "q-bio       11330\n",
              "hep-th      10695\n",
              "hep-ex       7910\n",
              "math-ph      7646\n",
              "nucl-th      7042\n",
              "q-fin        6106\n",
              "nlin         5788\n",
              "econ         4100\n",
              "nucl-ex      3584\n",
              "hep-lat      2272\n",
              "Name: category, dtype: int64"
            ]
          },
          "metadata": {},
          "execution_count": 49
        }
      ]
    },
    {
      "cell_type": "code",
      "source": [
        "#Finally, our dataset looks much better \n",
        "#Dataset has become way more balaned than original one"
      ],
      "metadata": {
        "id": "G10W1s2i8M5t"
      },
      "execution_count": null,
      "outputs": []
    },
    {
      "cell_type": "markdown",
      "source": [
        "Now, let's preprocess our text data so that they can be used with RNN model"
      ],
      "metadata": {
        "id": "6Cqi88uV9YvB"
      }
    },
    {
      "cell_type": "code",
      "source": [
        "#Create features and labels\n",
        "X1 = final_df['title'].values\n",
        "X2 = final_df['abstract'].values\n",
        "labels = final_df['category'].values\n",
        "texts = X1+X2"
      ],
      "metadata": {
        "id": "bpIR13Vq8M7v"
      },
      "execution_count": null,
      "outputs": []
    },
    {
      "cell_type": "code",
      "source": [
        "labels"
      ],
      "metadata": {
        "id": "wm-xpejm8M9m",
        "colab": {
          "base_uri": "https://localhost:8080/"
        },
        "outputId": "81b3ac04-a99d-4db2-d0bc-afa324076d81"
      },
      "execution_count": null,
      "outputs": [
        {
          "output_type": "execute_result",
          "data": {
            "text/plain": [
              "array(['cond-mat', 'cond-mat', 'cond-mat', ..., 'quant-ph', 'nucl-th',\n",
              "       'q-fin'], dtype=object)"
            ]
          },
          "metadata": {},
          "execution_count": 52
        }
      ]
    },
    {
      "cell_type": "code",
      "source": [
        "from keras.preprocessing.text import Tokenizer\n",
        "from keras_preprocessing.sequence import pad_sequences\n",
        "from keras.layers import Dense, Embedding, LSTM\n",
        "from keras.models import Sequential\n",
        "from keras.utils import to_categorical"
      ],
      "metadata": {
        "id": "oS5O6WA78NBA"
      },
      "execution_count": null,
      "outputs": []
    },
    {
      "cell_type": "code",
      "source": [
        "num_classes = len(set(labels))\n",
        "num_classes"
      ],
      "metadata": {
        "id": "7Kd7W9NpyDDi",
        "colab": {
          "base_uri": "https://localhost:8080/"
        },
        "outputId": "7b9b55cc-1230-4ee8-9c36-3851d584ebbb"
      },
      "execution_count": null,
      "outputs": [
        {
          "output_type": "execute_result",
          "data": {
            "text/plain": [
              "20"
            ]
          },
          "metadata": {},
          "execution_count": 54
        }
      ]
    },
    {
      "cell_type": "code",
      "source": [
        "# Tokenize the texts\n",
        "tokenizer = Tokenizer()\n",
        "tokenizer.fit_on_texts(texts)\n",
        "sequences = tokenizer.texts_to_sequences(texts)\n",
        "\n",
        "# Pad the sequences\n",
        "max_length = max([len(s) for s in sequences])\n",
        "padded_sequences = pad_sequences(sequences, maxlen=max_length)"
      ],
      "metadata": {
        "id": "hs0DTbsv-rp5"
      },
      "execution_count": null,
      "outputs": []
    },
    {
      "cell_type": "code",
      "source": [
        "from sklearn.preprocessing import LabelEncoder\n",
        "le = LabelEncoder()\n",
        "label = le.fit_transform(labels)\n",
        "labels = to_categorical(label, num_classes=num_classes)"
      ],
      "metadata": {
        "id": "8ozFoZ7s-uzo"
      },
      "execution_count": null,
      "outputs": []
    },
    {
      "cell_type": "code",
      "source": [
        "# Split the dataset into train and validation sets\n",
        "from sklearn.model_selection import train_test_split\n",
        "x_train, x_test, y_train, y_test = train_test_split(padded_sequences, labels, test_size=0.2)"
      ],
      "metadata": {
        "id": "Rjw291JR-zA1"
      },
      "execution_count": null,
      "outputs": []
    },
    {
      "cell_type": "markdown",
      "source": [
        "Now, let's build the RNN model and fit our data"
      ],
      "metadata": {
        "id": "LN6BUiqU_D6M"
      }
    },
    {
      "cell_type": "code",
      "source": [
        "'''# Build the first model\n",
        "model1 = Sequential()\n",
        "model1.add(Embedding(len(tokenizer.word_index)+1, 100, input_length=max_length))\n",
        "model1.add(LSTM(100))\n",
        "model1.add(Dense(num_classes, activation='softmax'))\n",
        "\n",
        "#Compile the model1\n",
        "model1.compile(loss='categorical_crossentropy', optimizer='adam', metrics=['accuracy'])'''"
      ],
      "metadata": {
        "id": "PKBfxl3b-8SC",
        "colab": {
          "base_uri": "https://localhost:8080/",
          "height": 53
        },
        "outputId": "1519c2da-aa0d-4aae-8164-ce4d0f73843f"
      },
      "execution_count": null,
      "outputs": [
        {
          "output_type": "execute_result",
          "data": {
            "text/plain": [
              "\"# Build the first model\\nmodel1 = Sequential()\\nmodel1.add(Embedding(len(tokenizer.word_index)+1, 100, input_length=max_length))\\nmodel1.add(LSTM(100))\\nmodel1.add(Dense(num_classes, activation='softmax'))\\n\\n#Compile the model1\\nmodel1.compile(loss='categorical_crossentropy', optimizer='adam', metrics=['accuracy'])\""
            ],
            "application/vnd.google.colaboratory.intrinsic+json": {
              "type": "string"
            }
          },
          "metadata": {},
          "execution_count": 58
        }
      ]
    },
    {
      "cell_type": "code",
      "source": [
        "'''#Train the model1\n",
        "history1 = model1.fit(x_train, y_train, validation_data=(x_test, y_test), epochs = 10)'''"
      ],
      "metadata": {
        "id": "RSDzYYvX_4nR",
        "colab": {
          "base_uri": "https://localhost:8080/",
          "height": 35
        },
        "outputId": "d6b7911c-b2d1-44e9-de52-0b3128c1de33"
      },
      "execution_count": null,
      "outputs": [
        {
          "output_type": "execute_result",
          "data": {
            "text/plain": [
              "'#Train the model1\\nhistory1 = model1.fit(x_train, y_train, validation_data=(x_test, y_test), epochs = 10)'"
            ],
            "application/vnd.google.colaboratory.intrinsic+json": {
              "type": "string"
            }
          },
          "metadata": {},
          "execution_count": 59
        }
      ]
    },
    {
      "cell_type": "code",
      "source": [
        "#Let's visualize the plots\n",
        "import matplotlib.pyplot as plt\n",
        "\n",
        "def plot_accuracy(history):\n",
        "\n",
        "  acc = history.history['accuracy']\n",
        "  val_acc = history.history['val_accuracy']\n",
        "  plt.figure(figsize=(8, 5))\n",
        "  plt.plot(acc, label='Training Accuracy')\n",
        "  plt.plot(val_acc, label='Validation Accuracy')\n",
        "\n",
        "  plt.xlabel('Epochs')\n",
        "  plt.ylabel('Accuracy')\n",
        "  plt.legend()\n",
        "\n",
        "  plt.show()"
      ],
      "metadata": {
        "id": "uhS_NEbLnTUc"
      },
      "execution_count": null,
      "outputs": []
    },
    {
      "cell_type": "code",
      "source": [
        "#Plot loss curves\n",
        "\n",
        "def plot_loss(history):\n",
        "  loss = history.history['loss']\n",
        "  val_loss = history.history['val_loss']\n",
        "\n",
        "  plt.figure(figsize=(8, 5))\n",
        "\n",
        "  plt.plot(loss, label='Training Loss')\n",
        "  plt.plot(val_loss, label='Validation Loss')\n",
        "\n",
        "  plt.xlabel('Epochs')\n",
        "  plt.ylabel('Loss')\n",
        "  plt.legend()\n",
        "\n",
        "  plt.show()"
      ],
      "metadata": {
        "id": "hPhmb4hBnTWS"
      },
      "execution_count": null,
      "outputs": []
    },
    {
      "cell_type": "code",
      "source": [
        "'''#Plot accuracy curve\n",
        "plot_accuracy(history1)'''"
      ],
      "metadata": {
        "id": "OWhrf5fzos3p",
        "colab": {
          "base_uri": "https://localhost:8080/",
          "height": 35
        },
        "outputId": "abade2e3-8aa7-4bc8-904f-17ddfcd15c4c"
      },
      "execution_count": null,
      "outputs": [
        {
          "output_type": "execute_result",
          "data": {
            "text/plain": [
              "'#Plot accuracy curve\\nplot_accuracy(history1)'"
            ],
            "application/vnd.google.colaboratory.intrinsic+json": {
              "type": "string"
            }
          },
          "metadata": {},
          "execution_count": 62
        }
      ]
    },
    {
      "cell_type": "code",
      "source": [
        "'''#Plot loss curve\n",
        "plot_loss(history1)'''"
      ],
      "metadata": {
        "id": "W6ArMF8anTYY",
        "colab": {
          "base_uri": "https://localhost:8080/",
          "height": 35
        },
        "outputId": "6367fa4a-0887-4356-be34-9e5f9b472b67"
      },
      "execution_count": null,
      "outputs": [
        {
          "output_type": "execute_result",
          "data": {
            "text/plain": [
              "'#Plot loss curve\\nplot_loss(history1)'"
            ],
            "application/vnd.google.colaboratory.intrinsic+json": {
              "type": "string"
            }
          },
          "metadata": {},
          "execution_count": 63
        }
      ]
    },
    {
      "cell_type": "code",
      "source": [
        "#Let's build model2\n",
        "#Use regularization and early stopping to reduce overfitting\n",
        "\n",
        "from keras.callbacks import EarlyStopping\n",
        "from keras import regularizers"
      ],
      "metadata": {
        "id": "7-x6Pgu-nTbz"
      },
      "execution_count": null,
      "outputs": []
    },
    {
      "cell_type": "code",
      "source": [
        "# Build the second model\n",
        "model2 = Sequential()\n",
        "model2.add(Embedding(len(tokenizer.word_index)+1, 100, input_length=max_length))\n",
        "model2.add(LSTM(100, kernel_regularizer=regularizers.l2(0.01))) #adding l2 regularization\n",
        "model2.add(Dense(num_classes, activation='softmax'))\n",
        "\n",
        "#Compile the model\n",
        "model2.compile(loss='categorical_crossentropy', optimizer='adam', metrics=['accuracy'])\n",
        "\n",
        "#Define early stopping\n",
        "early_stopping = EarlyStopping(monitor='val_loss', patience=5)"
      ],
      "metadata": {
        "id": "cNh9ucz4o8WS"
      },
      "execution_count": null,
      "outputs": []
    },
    {
      "cell_type": "code",
      "source": [
        "#Fit the model and use early stopping\n",
        "history2 = model2.fit(x_train, y_train, validation_data=(x_test, y_test), epochs = 10, callbacks=[early_stopping])"
      ],
      "metadata": {
        "id": "MR-z_a7qo8Yf",
        "colab": {
          "base_uri": "https://localhost:8080/"
        },
        "outputId": "e554f5b9-fe1a-4dce-e82b-0b8df0db083b"
      },
      "execution_count": null,
      "outputs": [
        {
          "output_type": "stream",
          "name": "stdout",
          "text": [
            "Epoch 1/10\n",
            "8863/8863 [==============================] - 417s 46ms/step - loss: 1.5454 - accuracy: 0.5165 - val_loss: 1.1739 - val_accuracy: 0.6358\n",
            "Epoch 2/10\n",
            "8863/8863 [==============================] - 410s 46ms/step - loss: 0.9892 - accuracy: 0.6837 - val_loss: 0.9104 - val_accuracy: 0.6973\n",
            "Epoch 3/10\n",
            "8863/8863 [==============================] - 410s 46ms/step - loss: 0.7913 - accuracy: 0.7399 - val_loss: 0.8878 - val_accuracy: 0.7034\n",
            "Epoch 4/10\n",
            "8863/8863 [==============================] - 410s 46ms/step - loss: 0.6780 - accuracy: 0.7788 - val_loss: 0.8959 - val_accuracy: 0.7028\n",
            "Epoch 5/10\n",
            "8863/8863 [==============================] - 410s 46ms/step - loss: 0.5827 - accuracy: 0.8148 - val_loss: 0.9576 - val_accuracy: 0.6890\n",
            "Epoch 6/10\n",
            "8863/8863 [==============================] - 412s 46ms/step - loss: 0.4941 - accuracy: 0.8465 - val_loss: 1.0073 - val_accuracy: 0.6867\n",
            "Epoch 7/10\n",
            "8863/8863 [==============================] - 413s 47ms/step - loss: 0.4169 - accuracy: 0.8730 - val_loss: 1.0819 - val_accuracy: 0.6814\n",
            "Epoch 8/10\n",
            "8863/8863 [==============================] - 410s 46ms/step - loss: 0.3520 - accuracy: 0.8959 - val_loss: 1.2065 - val_accuracy: 0.6664\n"
          ]
        }
      ]
    },
    {
      "cell_type": "code",
      "source": [
        "#Lets plot accuracy curve\n",
        "plot_accuracy(history2)"
      ],
      "metadata": {
        "id": "N5n5_CRYo8cX",
        "colab": {
          "base_uri": "https://localhost:8080/",
          "height": 334
        },
        "outputId": "9860f801-c0d2-447a-b8ab-c89488f1c066"
      },
      "execution_count": null,
      "outputs": [
        {
          "output_type": "display_data",
          "data": {
            "text/plain": [
              "<Figure size 576x360 with 1 Axes>"
            ],
            "image/png": "[encoded data removed]"
          },
          "metadata": {
            "needs_background": "light"
          }
        }
      ]
    },
    {
      "cell_type": "code",
      "source": [
        "#Lets plot loss curve\n",
        "plot_loss(history2)"
      ],
      "metadata": {
        "id": "0WxEUrQlo8eY",
        "colab": {
          "base_uri": "https://localhost:8080/",
          "height": 337
        },
        "outputId": "bdcb919f-981d-40ed-ec23-00d4c82616ef"
      },
      "execution_count": null,
      "outputs": [
        {
          "output_type": "display_data",
          "data": {
            "text/plain": [
              "<Figure size 576x360 with 1 Axes>"
            ],
            "image/png": "[encoded data removed]"
          },
          "metadata": {
            "needs_background": "light"
          }
        }
      ]
    },
    {
      "cell_type": "code",
      "source": [],
      "metadata": {
        "id": "Dir-uYAKo8gd"
      },
      "execution_count": null,
      "outputs": []
    },
    {
      "cell_type": "code",
      "source": [],
      "metadata": {
        "id": "G9zVgdeio8jk"
      },
      "execution_count": null,
      "outputs": []
    },
    {
      "cell_type": "code",
      "source": [
        "from keras.models import load_model\n",
        "\n",
        "'''# Save the model1 and model2\n",
        "model1.save('model1.h5')'''\n",
        "model2.save('model2.h5')\n",
        "\n"
      ],
      "metadata": {
        "id": "FOJzSZo0BQ3j"
      },
      "execution_count": null,
      "outputs": []
    },
    {
      "cell_type": "code",
      "source": [
        "# Download the model file\n",
        "# from google.colab import files\n",
        "'''files.download('model1.h5')'''\n",
        "# files.download('model2.h5')\n",
        "!cp model2.h5 drive/MyDrive/Colab\\ Notebooks/model1.h5\n",
        "\n",
        "'''loaded_model1 = load_model('model1.h5')'''\n",
        "loaded_model2 = load_model('model2.h5')"
      ],
      "metadata": {
        "id": "3xViZ1A2UDT6"
      },
      "execution_count": null,
      "outputs": []
    },
    {
      "cell_type": "code",
      "source": [
        "test = pd.read_csv('/content/drive/MyDrive/dataset/test.csv')"
      ],
      "metadata": {
        "id": "NyHD-6KGA2si"
      },
      "execution_count": null,
      "outputs": []
    },
    {
      "cell_type": "code",
      "source": [
        "test.head()"
      ],
      "metadata": {
        "colab": {
          "base_uri": "https://localhost:8080/",
          "height": 206
        },
        "id": "XaZFMux_BACz",
        "outputId": "11846573-4d5f-4109-998a-5ddc678976dd"
      },
      "execution_count": null,
      "outputs": [
        {
          "output_type": "execute_result",
          "data": {
            "text/plain": [
              "           id                                              title  \\\n",
              "0  2107.01095  Who Votes for Library Bonds? A Principal Compo...   \n",
              "1  1906.08519  Crystal structure and the magnetic properties ...   \n",
              "2  2105.05523  Trimmed extreme value estimators for censored ...   \n",
              "3  1906.08731  Gray-box Monitoring of Hyperproperties (Extend...   \n",
              "4  1703.08445  On the sectional curvature along central confi...   \n",
              "\n",
              "                                            abstract  category  \n",
              "0    Previous research has shown a relationship b...     q-fin  \n",
              "1    We synthesized the 5d1-transition metal oxid...  cond-mat  \n",
              "2    We consider estimation of the extreme value ...      math  \n",
              "3    Many important system properties, particular...        cs  \n",
              "4    In this paper we characterize planar central...      math  "
            ],
            "text/html": [
              "\n",
              "  <div id=\"df-63961747-33d0-4403-b050-ec6441ee3b5a\">\n",
              "    <div class=\"colab-df-container\">\n",
              "      <div>\n",
              "<style scoped>\n",
              "    .dataframe tbody tr th:only-of-type {\n",
              "        vertical-align: middle;\n",
              "    }\n",
              "\n",
              "    .dataframe tbody tr th {\n",
              "        vertical-align: top;\n",
              "    }\n",
              "\n",
              "    .dataframe thead th {\n",
              "        text-align: right;\n",
              "    }\n",
              "</style>\n",
              "<table border=\"1\" class=\"dataframe\">\n",
              "  <thead>\n",
              "    <tr style=\"text-align: right;\">\n",
              "      <th></th>\n",
              "      <th>id</th>\n",
              "      <th>title</th>\n",
              "      <th>abstract</th>\n",
              "      <th>category</th>\n",
              "    </tr>\n",
              "  </thead>\n",
              "  <tbody>\n",
              "    <tr>\n",
              "      <th>0</th>\n",
              "      <td>2107.01095</td>\n",
              "      <td>Who Votes for Library Bonds? A Principal Compo...</td>\n",
              "      <td>Previous research has shown a relationship b...</td>\n",
              "      <td>q-fin</td>\n",
              "    </tr>\n",
              "    <tr>\n",
              "      <th>1</th>\n",
              "      <td>1906.08519</td>\n",
              "      <td>Crystal structure and the magnetic properties ...</td>\n",
              "      <td>We synthesized the 5d1-transition metal oxid...</td>\n",
              "      <td>cond-mat</td>\n",
              "    </tr>\n",
              "    <tr>\n",
              "      <th>2</th>\n",
              "      <td>2105.05523</td>\n",
              "      <td>Trimmed extreme value estimators for censored ...</td>\n",
              "      <td>We consider estimation of the extreme value ...</td>\n",
              "      <td>math</td>\n",
              "    </tr>\n",
              "    <tr>\n",
              "      <th>3</th>\n",
              "      <td>1906.08731</td>\n",
              "      <td>Gray-box Monitoring of Hyperproperties (Extend...</td>\n",
              "      <td>Many important system properties, particular...</td>\n",
              "      <td>cs</td>\n",
              "    </tr>\n",
              "    <tr>\n",
              "      <th>4</th>\n",
              "      <td>1703.08445</td>\n",
              "      <td>On the sectional curvature along central confi...</td>\n",
              "      <td>In this paper we characterize planar central...</td>\n",
              "      <td>math</td>\n",
              "    </tr>\n",
              "  </tbody>\n",
              "</table>\n",
              "</div>\n",
              "      <button class=\"colab-df-convert\" onclick=\"convertToInteractive('df-63961747-33d0-4403-b050-ec6441ee3b5a')\"\n",
              "              title=\"Convert this dataframe to an interactive table.\"\n",
              "              style=\"display:none;\">\n",
              "        \n",
              "  <svg xmlns=\"http://www.w3.org/2000/svg\" height=\"24px\"viewBox=\"0 0 24 24\"\n",
              "       width=\"24px\">\n",
              "    <path d=\"M0 0h24v24H0V0z\" fill=\"none\"/>\n",
              "    <path d=\"M18.56 5.44l.94 2.06.94-2.06 2.06-.94-2.06-.94-.94-2.06-.94 2.06-2.06.94zm-11 1L8.5 8.5l.94-2.06 2.06-.94-2.06-.94L8.5 2.5l-.94 2.06-2.06.94zm10 10l.94 2.06.94-2.06 2.06-.94-2.06-.94-.94-2.06-.94 2.06-2.06.94z\"/><path d=\"M17.41 7.96l-1.37-1.37c-.4-.4-.92-.59-1.43-.59-.52 0-1.04.2-1.43.59L10.3 9.45l-7.72 7.72c-.78.78-.78 2.05 0 2.83L4 21.41c.39.39.9.59 1.41.59.51 0 1.02-.2 1.41-.59l7.78-7.78 2.81-2.81c.8-.78.8-2.07 0-2.86zM5.41 20L4 18.59l7.72-7.72 1.47 1.35L5.41 20z\"/>\n",
              "  </svg>\n",
              "      </button>\n",
              "      \n",
              "  <style>\n",
              "    .colab-df-container {\n",
              "      display:flex;\n",
              "      flex-wrap:wrap;\n",
              "      gap: 12px;\n",
              "    }\n",
              "\n",
              "    .colab-df-convert {\n",
              "      background-color: #E8F0FE;\n",
              "      border: none;\n",
              "      border-radius: 50%;\n",
              "      cursor: pointer;\n",
              "      display: none;\n",
              "      fill: #1967D2;\n",
              "      height: 32px;\n",
              "      padding: 0 0 0 0;\n",
              "      width: 32px;\n",
              "    }\n",
              "\n",
              "    .colab-df-convert:hover {\n",
              "      background-color: #E2EBFA;\n",
              "      box-shadow: 0px 1px 2px rgba(60, 64, 67, 0.3), 0px 1px 3px 1px rgba(60, 64, 67, 0.15);\n",
              "      fill: #174EA6;\n",
              "    }\n",
              "\n",
              "    [theme=dark] .colab-df-convert {\n",
              "      background-color: #3B4455;\n",
              "      fill: #D2E3FC;\n",
              "    }\n",
              "\n",
              "    [theme=dark] .colab-df-convert:hover {\n",
              "      background-color: #434B5C;\n",
              "      box-shadow: 0px 1px 3px 1px rgba(0, 0, 0, 0.15);\n",
              "      filter: drop-shadow(0px 1px 2px rgba(0, 0, 0, 0.3));\n",
              "      fill: #FFFFFF;\n",
              "    }\n",
              "  </style>\n",
              "\n",
              "      <script>\n",
              "        const buttonEl =\n",
              "          document.querySelector('#df-63961747-33d0-4403-b050-ec6441ee3b5a button.colab-df-convert');\n",
              "        buttonEl.style.display =\n",
              "          google.colab.kernel.accessAllowed ? 'block' : 'none';\n",
              "\n",
              "        async function convertToInteractive(key) {\n",
              "          const element = document.querySelector('#df-63961747-33d0-4403-b050-ec6441ee3b5a');\n",
              "          const dataTable =\n",
              "            await google.colab.kernel.invokeFunction('convertToInteractive',\n",
              "                                                     [key], {});\n",
              "          if (!dataTable) return;\n",
              "\n",
              "          const docLinkHtml = 'Like what you see? Visit the ' +\n",
              "            '<a target=\"_blank\" href=https://colab.research.google.com/notebooks/data_table.ipynb>data table notebook</a>'\n",
              "            + ' to learn more about interactive tables.';\n",
              "          element.innerHTML = '';\n",
              "          dataTable['output_type'] = 'display_data';\n",
              "          await google.colab.output.renderOutput(dataTable, element);\n",
              "          const docLink = document.createElement('div');\n",
              "          docLink.innerHTML = docLinkHtml;\n",
              "          element.appendChild(docLink);\n",
              "        }\n",
              "      </script>\n",
              "    </div>\n",
              "  </div>\n",
              "  "
            ]
          },
          "metadata": {},
          "execution_count": 73
        }
      ]
    },
    {
      "cell_type": "code",
      "source": [
        "#Preprocess and clean the test set as necessary\n",
        "test_df = test.drop_duplicates(subset='title')"
      ],
      "metadata": {
        "id": "m8ErwWkxBB3O"
      },
      "execution_count": null,
      "outputs": []
    },
    {
      "cell_type": "code",
      "source": [
        "#Cleaning test set\n",
        "REPLACE_BY_SPACE_RE = re.compile('[/(){}\\[\\]\\|@,;]')\n",
        "BAD_SYMBOLS_RE = re.compile('[^0-9a-z #+_]')\n",
        "STOPWORDS = set(stopwords.words('english'))\n",
        "\n",
        "def clean_text(text):\n",
        "    text = text.lower() # lowercase text\n",
        "    text = REPLACE_BY_SPACE_RE.sub(' ', text) # replace REPLACE_BY_SPACE_RE symbols by space in text\n",
        "    text = BAD_SYMBOLS_RE.sub(' ', text) # delete symbols which are in BAD_SYMBOLS_RE from text\n",
        "    text = ' '.join(word for word in text.split() if word not in STOPWORDS) # delete stopwors from text\n",
        "    return text\n",
        "\n",
        "test_df['abstract'] = test_df['abstract'].apply(clean_text)\n",
        "test_df['title'] = test_df['title'].apply(clean_text)"
      ],
      "metadata": {
        "id": "-vnOUlWgDS0D",
        "colab": {
          "base_uri": "https://localhost:8080/"
        },
        "outputId": "c3b8b6da-eb51-4a16-e5d0-7be9840c5ba8"
      },
      "execution_count": null,
      "outputs": [
        {
          "output_type": "stream",
          "name": "stderr",
          "text": [
            "<ipython-input-75-d210793e7402>:13: SettingWithCopyWarning: \n",
            "A value is trying to be set on a copy of a slice from a DataFrame.\n",
            "Try using .loc[row_indexer,col_indexer] = value instead\n",
            "\n",
            "See the caveats in the documentation: https://pandas.pydata.org/pandas-docs/stable/user_guide/indexing.html#returning-a-view-versus-a-copy\n",
            "  test_df['abstract'] = test_df['abstract'].apply(clean_text)\n",
            "<ipython-input-75-d210793e7402>:14: SettingWithCopyWarning: \n",
            "A value is trying to be set on a copy of a slice from a DataFrame.\n",
            "Try using .loc[row_indexer,col_indexer] = value instead\n",
            "\n",
            "See the caveats in the documentation: https://pandas.pydata.org/pandas-docs/stable/user_guide/indexing.html#returning-a-view-versus-a-copy\n",
            "  test_df['title'] = test_df['title'].apply(clean_text)\n"
          ]
        }
      ]
    },
    {
      "cell_type": "code",
      "source": [
        "#Preparing the features\n",
        "test_X1 = test_df['title'].values #same as X1\n",
        "test_X2 = test_df['abstract'].values #same as X2\n",
        "\n",
        "test_X = test_X1+test_X2 #same as texts"
      ],
      "metadata": {
        "id": "vCz0Ln2GDf_Q"
      },
      "execution_count": null,
      "outputs": []
    },
    {
      "cell_type": "code",
      "source": [
        "# Tokenize the texts\n",
        "tokenizer = Tokenizer()\n",
        "tokenizer.fit_on_texts(test_X)\n",
        "sequences = tokenizer.texts_to_sequences(test_X)\n",
        "\n",
        "# Pad the sequences\n",
        "max_length = max([len(s) for s in sequences])\n",
        "test_data = pad_sequences(sequences, maxlen=max_length)"
      ],
      "metadata": {
        "id": "fgUY8krwDgBX"
      },
      "execution_count": null,
      "outputs": []
    },
    {
      "cell_type": "code",
      "source": [
        "test_data"
      ],
      "metadata": {
        "colab": {
          "base_uri": "https://localhost:8080/"
        },
        "id": "XRPBHw93DgDw",
        "outputId": "a1f3bde6-86ba-4f30-da64-feb5fdeaeb0f"
      },
      "execution_count": null,
      "outputs": [
        {
          "output_type": "execute_result",
          "data": {
            "text/plain": [
              "array([[     0,      0,      0, ...,    245,    759,   4822],\n",
              "       [     0,      0,      0, ...,   4645,     42,   4621],\n",
              "       [     0,      0,      0, ...,  55507,   6517,      2],\n",
              "       ...,\n",
              "       [     0,      0,      0, ...,   2280,   2411,     23],\n",
              "       [     0,      0,      0, ...,   1373, 117739, 117740],\n",
              "       [     0,      0,      0, ...,    633,     27,     41]], dtype=int32)"
            ]
          },
          "metadata": {},
          "execution_count": 78
        }
      ]
    },
    {
      "cell_type": "code",
      "source": [
        "'''#Now, make predictions on test data.\n",
        "# make predictions on test data using model 1\n",
        "predictions1 =loaded_model1.predict(test_data)'''"
      ],
      "metadata": {
        "id": "fyNW2V4aDgFx",
        "colab": {
          "base_uri": "https://localhost:8080/",
          "height": 35
        },
        "outputId": "5ec9e1ef-3631-457e-fb3b-65aa68cbe201"
      },
      "execution_count": null,
      "outputs": [
        {
          "output_type": "execute_result",
          "data": {
            "text/plain": [
              "'#Now, make predictions on test data.\\n# make predictions on test data using model 1\\npredictions1 =loaded_model1.predict(test_data)'"
            ],
            "application/vnd.google.colaboratory.intrinsic+json": {
              "type": "string"
            }
          },
          "metadata": {},
          "execution_count": 79
        }
      ]
    },
    {
      "cell_type": "code",
      "source": [
        "'''predictions1'''"
      ],
      "metadata": {
        "colab": {
          "base_uri": "https://localhost:8080/",
          "height": 35
        },
        "id": "R6RVLsmvVs-V",
        "outputId": "daa3b2d5-f27d-4b41-bd22-46090e0949b5"
      },
      "execution_count": null,
      "outputs": [
        {
          "output_type": "execute_result",
          "data": {
            "text/plain": [
              "'predictions1'"
            ],
            "application/vnd.google.colaboratory.intrinsic+json": {
              "type": "string"
            }
          },
          "metadata": {},
          "execution_count": 80
        }
      ]
    },
    {
      "cell_type": "code",
      "source": [
        "# make predictions on test data using model 2\n",
        "predictions2 =loaded_model2.predict(test_data)"
      ],
      "metadata": {
        "id": "GVmarnVNdeeK",
        "colab": {
          "base_uri": "https://localhost:8080/"
        },
        "outputId": "2cdd8fa1-0ec8-48eb-92cc-84abf1ef2d3e"
      },
      "execution_count": null,
      "outputs": [
        {
          "output_type": "stream",
          "name": "stdout",
          "text": [
            "1369/1369 [==============================] - 12s 9ms/step\n"
          ]
        }
      ]
    },
    {
      "cell_type": "code",
      "source": [
        "predictions2"
      ],
      "metadata": {
        "id": "vnqxArETdlcG",
        "colab": {
          "base_uri": "https://localhost:8080/"
        },
        "outputId": "32a507af-7ff7-49c1-ad78-f99db09c4d76"
      },
      "execution_count": null,
      "outputs": [
        {
          "output_type": "execute_result",
          "data": {
            "text/plain": [
              "array([[8.4708643e-01, 4.3471446e-03, 4.7149933e-03, ..., 3.3815274e-06,\n",
              "        5.3399447e-03, 3.0441354e-03],\n",
              "       [9.3718606e-01, 1.1859360e-04, 1.4672763e-02, ..., 4.6558439e-06,\n",
              "        1.2474718e-04, 2.4860878e-02],\n",
              "       [5.5939972e-04, 2.8841408e-02, 8.8908635e-02, ..., 1.6756542e-02,\n",
              "        9.0581883e-04, 3.3128428e-01],\n",
              "       ...,\n",
              "       [2.5262183e-02, 1.3374564e-01, 2.9533643e-02, ..., 2.4030224e-04,\n",
              "        8.7795099e-03, 1.5787818e-01],\n",
              "       [7.1027744e-01, 1.5442683e-03, 9.9288044e-04, ..., 2.0957801e-04,\n",
              "        5.6452358e-05, 5.1444396e-03],\n",
              "       [6.3893720e-05, 9.7026676e-01, 1.3611137e-04, ..., 6.2804173e-07,\n",
              "        1.1498075e-02, 1.6629243e-04]], dtype=float32)"
            ]
          },
          "metadata": {},
          "execution_count": 82
        }
      ]
    },
    {
      "cell_type": "code",
      "source": [
        "'''predictions1 == predictions2'''"
      ],
      "metadata": {
        "id": "tMzcW1Inel8d",
        "colab": {
          "base_uri": "https://localhost:8080/",
          "height": 35
        },
        "outputId": "acad7e00-755c-4476-9042-5903dec2ced6"
      },
      "execution_count": null,
      "outputs": [
        {
          "output_type": "execute_result",
          "data": {
            "text/plain": [
              "'predictions1 == predictions2'"
            ],
            "application/vnd.google.colaboratory.intrinsic+json": {
              "type": "string"
            }
          },
          "metadata": {},
          "execution_count": 83
        }
      ]
    },
    {
      "cell_type": "code",
      "source": [
        "'''len((predictions1 == predictions2) == True)'''"
      ],
      "metadata": {
        "id": "Cvq3thIZepSJ",
        "colab": {
          "base_uri": "https://localhost:8080/",
          "height": 35
        },
        "outputId": "db940d20-5ba0-4c5f-93e9-9d309515d638"
      },
      "execution_count": null,
      "outputs": [
        {
          "output_type": "execute_result",
          "data": {
            "text/plain": [
              "'len((predictions1 == predictions2) == True)'"
            ],
            "application/vnd.google.colaboratory.intrinsic+json": {
              "type": "string"
            }
          },
          "metadata": {},
          "execution_count": 84
        }
      ]
    },
    {
      "cell_type": "code",
      "source": [
        "'''#Predicted labels are in encoded format\n",
        "#Now, let's deocode them \n",
        "decoded_labels1 = le.inverse_transform(np.argmax(predictions1, axis=1))'''\n",
        "decoded_labels2 = le.inverse_transform(np.argmax(predictions2, axis=1))"
      ],
      "metadata": {
        "id": "Mk10LH64V7aX"
      },
      "execution_count": null,
      "outputs": []
    },
    {
      "cell_type": "code",
      "source": [
        "'''decoded_labels1'''"
      ],
      "metadata": {
        "colab": {
          "base_uri": "https://localhost:8080/",
          "height": 35
        },
        "id": "YpdRu3xiWj5h",
        "outputId": "298ff05d-f2b0-4469-ae16-c187810354ce"
      },
      "execution_count": null,
      "outputs": [
        {
          "output_type": "execute_result",
          "data": {
            "text/plain": [
              "'decoded_labels1'"
            ],
            "application/vnd.google.colaboratory.intrinsic+json": {
              "type": "string"
            }
          },
          "metadata": {},
          "execution_count": 86
        }
      ]
    },
    {
      "cell_type": "code",
      "source": [
        "decoded_labels2"
      ],
      "metadata": {
        "id": "pVtTA6dNd0_9",
        "colab": {
          "base_uri": "https://localhost:8080/"
        },
        "outputId": "81abd849-3693-4190-e423-bcb2e51cd64a"
      },
      "execution_count": null,
      "outputs": [
        {
          "output_type": "execute_result",
          "data": {
            "text/plain": [
              "array(['astro-ph', 'astro-ph', 'math', ..., 'physics', 'astro-ph',\n",
              "       'cond-mat'], dtype=object)"
            ]
          },
          "metadata": {},
          "execution_count": 87
        }
      ]
    },
    {
      "cell_type": "code",
      "source": [
        "#Let's see the format of test_df\n",
        "test_df"
      ],
      "metadata": {
        "colab": {
          "base_uri": "https://localhost:8080/",
          "height": 423
        },
        "id": "OTK5wDGnWyR-",
        "outputId": "81275844-c079-47b0-8cb4-a9bfdbd384e2"
      },
      "execution_count": null,
      "outputs": [
        {
          "output_type": "execute_result",
          "data": {
            "text/plain": [
              "               id                                              title  \\\n",
              "0      2107.01095  votes library bonds principal component explor...   \n",
              "1      1906.08519  crystal structure magnetic properties 5d trans...   \n",
              "2      2105.05523  trimmed extreme value estimators censored heav...   \n",
              "3      1906.08731  gray box monitoring hyperproperties extended v...   \n",
              "4      1703.08445   sectional curvature along central configurations   \n",
              "...           ...                                                ...   \n",
              "43780  1908.05557  towards automated machine learning evaluation ...   \n",
              "43781  2006.00502  defect deferred correction method based subgri...   \n",
              "43782  2009.09826  learning safe neural network controllers barri...   \n",
              "43783  2007.06959  learning semantics enriched representation via...   \n",
              "43784  1911.12157  intelligent reflecting surface massive device ...   \n",
              "\n",
              "                                                abstract  category  \n",
              "0      previous research shown relationship voter cha...     q-fin  \n",
              "1      synthesized 5d1 transition metal oxides aoso4 ...  cond-mat  \n",
              "2      consider estimation extreme value index extrem...      math  \n",
              "3      many important system properties particularly ...        cs  \n",
              "4      paper characterize planar central configuratio...      math  \n",
              "...                                                  ...       ...  \n",
              "43780  considerable growth interest industrial applic...      stat  \n",
              "43781  alternative first step approximation based sub...        cs  \n",
              "43782  provide novel approach synthesize controllers ...        cs  \n",
              "43783  medical images naturally associated rich seman...      eess  \n",
              "43784  intelligent reflecting surface irs promising s...        cs  \n",
              "\n",
              "[43782 rows x 4 columns]"
            ],
            "text/html": [
              "\n",
              "  <div id=\"df-4d912529-c4bd-42c9-99e3-3ff7e08f922b\">\n",
              "    <div class=\"colab-df-container\">\n",
              "      <div>\n",
              "<style scoped>\n",
              "    .dataframe tbody tr th:only-of-type {\n",
              "        vertical-align: middle;\n",
              "    }\n",
              "\n",
              "    .dataframe tbody tr th {\n",
              "        vertical-align: top;\n",
              "    }\n",
              "\n",
              "    .dataframe thead th {\n",
              "        text-align: right;\n",
              "    }\n",
              "</style>\n",
              "<table border=\"1\" class=\"dataframe\">\n",
              "  <thead>\n",
              "    <tr style=\"text-align: right;\">\n",
              "      <th></th>\n",
              "      <th>id</th>\n",
              "      <th>title</th>\n",
              "      <th>abstract</th>\n",
              "      <th>category</th>\n",
              "    </tr>\n",
              "  </thead>\n",
              "  <tbody>\n",
              "    <tr>\n",
              "      <th>0</th>\n",
              "      <td>2107.01095</td>\n",
              "      <td>votes library bonds principal component explor...</td>\n",
              "      <td>previous research shown relationship voter cha...</td>\n",
              "      <td>q-fin</td>\n",
              "    </tr>\n",
              "    <tr>\n",
              "      <th>1</th>\n",
              "      <td>1906.08519</td>\n",
              "      <td>crystal structure magnetic properties 5d trans...</td>\n",
              "      <td>synthesized 5d1 transition metal oxides aoso4 ...</td>\n",
              "      <td>cond-mat</td>\n",
              "    </tr>\n",
              "    <tr>\n",
              "      <th>2</th>\n",
              "      <td>2105.05523</td>\n",
              "      <td>trimmed extreme value estimators censored heav...</td>\n",
              "      <td>consider estimation extreme value index extrem...</td>\n",
              "      <td>math</td>\n",
              "    </tr>\n",
              "    <tr>\n",
              "      <th>3</th>\n",
              "      <td>1906.08731</td>\n",
              "      <td>gray box monitoring hyperproperties extended v...</td>\n",
              "      <td>many important system properties particularly ...</td>\n",
              "      <td>cs</td>\n",
              "    </tr>\n",
              "    <tr>\n",
              "      <th>4</th>\n",
              "      <td>1703.08445</td>\n",
              "      <td>sectional curvature along central configurations</td>\n",
              "      <td>paper characterize planar central configuratio...</td>\n",
              "      <td>math</td>\n",
              "    </tr>\n",
              "    <tr>\n",
              "      <th>...</th>\n",
              "      <td>...</td>\n",
              "      <td>...</td>\n",
              "      <td>...</td>\n",
              "      <td>...</td>\n",
              "    </tr>\n",
              "    <tr>\n",
              "      <th>43780</th>\n",
              "      <td>1908.05557</td>\n",
              "      <td>towards automated machine learning evaluation ...</td>\n",
              "      <td>considerable growth interest industrial applic...</td>\n",
              "      <td>stat</td>\n",
              "    </tr>\n",
              "    <tr>\n",
              "      <th>43781</th>\n",
              "      <td>2006.00502</td>\n",
              "      <td>defect deferred correction method based subgri...</td>\n",
              "      <td>alternative first step approximation based sub...</td>\n",
              "      <td>cs</td>\n",
              "    </tr>\n",
              "    <tr>\n",
              "      <th>43782</th>\n",
              "      <td>2009.09826</td>\n",
              "      <td>learning safe neural network controllers barri...</td>\n",
              "      <td>provide novel approach synthesize controllers ...</td>\n",
              "      <td>cs</td>\n",
              "    </tr>\n",
              "    <tr>\n",
              "      <th>43783</th>\n",
              "      <td>2007.06959</td>\n",
              "      <td>learning semantics enriched representation via...</td>\n",
              "      <td>medical images naturally associated rich seman...</td>\n",
              "      <td>eess</td>\n",
              "    </tr>\n",
              "    <tr>\n",
              "      <th>43784</th>\n",
              "      <td>1911.12157</td>\n",
              "      <td>intelligent reflecting surface massive device ...</td>\n",
              "      <td>intelligent reflecting surface irs promising s...</td>\n",
              "      <td>cs</td>\n",
              "    </tr>\n",
              "  </tbody>\n",
              "</table>\n",
              "<p>43782 rows × 4 columns</p>\n",
              "</div>\n",
              "      <button class=\"colab-df-convert\" onclick=\"convertToInteractive('df-4d912529-c4bd-42c9-99e3-3ff7e08f922b')\"\n",
              "              title=\"Convert this dataframe to an interactive table.\"\n",
              "              style=\"display:none;\">\n",
              "        \n",
              "  <svg xmlns=\"http://www.w3.org/2000/svg\" height=\"24px\"viewBox=\"0 0 24 24\"\n",
              "       width=\"24px\">\n",
              "    <path d=\"M0 0h24v24H0V0z\" fill=\"none\"/>\n",
              "    <path d=\"M18.56 5.44l.94 2.06.94-2.06 2.06-.94-2.06-.94-.94-2.06-.94 2.06-2.06.94zm-11 1L8.5 8.5l.94-2.06 2.06-.94-2.06-.94L8.5 2.5l-.94 2.06-2.06.94zm10 10l.94 2.06.94-2.06 2.06-.94-2.06-.94-.94-2.06-.94 2.06-2.06.94z\"/><path d=\"M17.41 7.96l-1.37-1.37c-.4-.4-.92-.59-1.43-.59-.52 0-1.04.2-1.43.59L10.3 9.45l-7.72 7.72c-.78.78-.78 2.05 0 2.83L4 21.41c.39.39.9.59 1.41.59.51 0 1.02-.2 1.41-.59l7.78-7.78 2.81-2.81c.8-.78.8-2.07 0-2.86zM5.41 20L4 18.59l7.72-7.72 1.47 1.35L5.41 20z\"/>\n",
              "  </svg>\n",
              "      </button>\n",
              "      \n",
              "  <style>\n",
              "    .colab-df-container {\n",
              "      display:flex;\n",
              "      flex-wrap:wrap;\n",
              "      gap: 12px;\n",
              "    }\n",
              "\n",
              "    .colab-df-convert {\n",
              "      background-color: #E8F0FE;\n",
              "      border: none;\n",
              "      border-radius: 50%;\n",
              "      cursor: pointer;\n",
              "      display: none;\n",
              "      fill: #1967D2;\n",
              "      height: 32px;\n",
              "      padding: 0 0 0 0;\n",
              "      width: 32px;\n",
              "    }\n",
              "\n",
              "    .colab-df-convert:hover {\n",
              "      background-color: #E2EBFA;\n",
              "      box-shadow: 0px 1px 2px rgba(60, 64, 67, 0.3), 0px 1px 3px 1px rgba(60, 64, 67, 0.15);\n",
              "      fill: #174EA6;\n",
              "    }\n",
              "\n",
              "    [theme=dark] .colab-df-convert {\n",
              "      background-color: #3B4455;\n",
              "      fill: #D2E3FC;\n",
              "    }\n",
              "\n",
              "    [theme=dark] .colab-df-convert:hover {\n",
              "      background-color: #434B5C;\n",
              "      box-shadow: 0px 1px 3px 1px rgba(0, 0, 0, 0.15);\n",
              "      filter: drop-shadow(0px 1px 2px rgba(0, 0, 0, 0.3));\n",
              "      fill: #FFFFFF;\n",
              "    }\n",
              "  </style>\n",
              "\n",
              "      <script>\n",
              "        const buttonEl =\n",
              "          document.querySelector('#df-4d912529-c4bd-42c9-99e3-3ff7e08f922b button.colab-df-convert');\n",
              "        buttonEl.style.display =\n",
              "          google.colab.kernel.accessAllowed ? 'block' : 'none';\n",
              "\n",
              "        async function convertToInteractive(key) {\n",
              "          const element = document.querySelector('#df-4d912529-c4bd-42c9-99e3-3ff7e08f922b');\n",
              "          const dataTable =\n",
              "            await google.colab.kernel.invokeFunction('convertToInteractive',\n",
              "                                                     [key], {});\n",
              "          if (!dataTable) return;\n",
              "\n",
              "          const docLinkHtml = 'Like what you see? Visit the ' +\n",
              "            '<a target=\"_blank\" href=https://colab.research.google.com/notebooks/data_table.ipynb>data table notebook</a>'\n",
              "            + ' to learn more about interactive tables.';\n",
              "          element.innerHTML = '';\n",
              "          dataTable['output_type'] = 'display_data';\n",
              "          await google.colab.output.renderOutput(dataTable, element);\n",
              "          const docLink = document.createElement('div');\n",
              "          docLink.innerHTML = docLinkHtml;\n",
              "          element.appendChild(docLink);\n",
              "        }\n",
              "      </script>\n",
              "    </div>\n",
              "  </div>\n",
              "  "
            ]
          },
          "metadata": {},
          "execution_count": 88
        }
      ]
    },
    {
      "cell_type": "code",
      "source": [
        "'''test_df1 = test_df.copy()'''"
      ],
      "metadata": {
        "id": "bdbURvtCd8lW",
        "colab": {
          "base_uri": "https://localhost:8080/",
          "height": 35
        },
        "outputId": "49c881c2-5858-44c9-93d1-61bb71adbf5e"
      },
      "execution_count": null,
      "outputs": [
        {
          "output_type": "execute_result",
          "data": {
            "text/plain": [
              "'test_df1 = test_df.copy()'"
            ],
            "application/vnd.google.colaboratory.intrinsic+json": {
              "type": "string"
            }
          },
          "metadata": {},
          "execution_count": 89
        }
      ]
    },
    {
      "cell_type": "code",
      "source": [
        "test_df2 = test_df.copy()"
      ],
      "metadata": {
        "id": "kKAhM0Rvd8nu"
      },
      "execution_count": null,
      "outputs": []
    },
    {
      "cell_type": "code",
      "source": [
        "'''len(test_df), len(decoded_labels1), len(decoded_labels2)'''"
      ],
      "metadata": {
        "colab": {
          "base_uri": "https://localhost:8080/",
          "height": 35
        },
        "id": "ZXimSLwVX9cu",
        "outputId": "eaf04d0f-8308-4244-e4b2-a4dc0e75cc98"
      },
      "execution_count": null,
      "outputs": [
        {
          "output_type": "execute_result",
          "data": {
            "text/plain": [
              "'len(test_df), len(decoded_labels1), len(decoded_labels2)'"
            ],
            "application/vnd.google.colaboratory.intrinsic+json": {
              "type": "string"
            }
          },
          "metadata": {},
          "execution_count": 91
        }
      ]
    },
    {
      "cell_type": "code",
      "source": [
        "'''#Lets try to put our predictions in this format\n",
        "test_df1['category']= decoded_labels1'''"
      ],
      "metadata": {
        "id": "2AVbUPPKCX9i",
        "colab": {
          "base_uri": "https://localhost:8080/",
          "height": 35
        },
        "outputId": "4e2cf0cf-4914-4b5b-bffc-878d60061d31"
      },
      "execution_count": null,
      "outputs": [
        {
          "output_type": "execute_result",
          "data": {
            "text/plain": [
              "\"#Lets try to put our predictions in this format\\ntest_df1['category']= decoded_labels1\""
            ],
            "application/vnd.google.colaboratory.intrinsic+json": {
              "type": "string"
            }
          },
          "metadata": {},
          "execution_count": 92
        }
      ]
    },
    {
      "cell_type": "code",
      "source": [
        "test_df2['category']= decoded_labels2"
      ],
      "metadata": {
        "id": "ah5ELGjReTNt"
      },
      "execution_count": null,
      "outputs": []
    },
    {
      "cell_type": "code",
      "source": [
        "'''test_df1.head()'''"
      ],
      "metadata": {
        "colab": {
          "base_uri": "https://localhost:8080/",
          "height": 35
        },
        "id": "PDFHNMK2XdEM",
        "outputId": "65475920-91f8-4565-8f98-62a263d2ce0a"
      },
      "execution_count": null,
      "outputs": [
        {
          "output_type": "execute_result",
          "data": {
            "text/plain": [
              "'test_df1.head()'"
            ],
            "application/vnd.google.colaboratory.intrinsic+json": {
              "type": "string"
            }
          },
          "metadata": {},
          "execution_count": 94
        }
      ]
    },
    {
      "cell_type": "code",
      "source": [
        "test_df2.head()"
      ],
      "metadata": {
        "id": "bOgOyVtAfBNP",
        "colab": {
          "base_uri": "https://localhost:8080/",
          "height": 206
        },
        "outputId": "045c48a1-3193-4b71-de14-8bab7dfdca83"
      },
      "execution_count": null,
      "outputs": [
        {
          "output_type": "execute_result",
          "data": {
            "text/plain": [
              "           id                                              title  \\\n",
              "0  2107.01095  votes library bonds principal component explor...   \n",
              "1  1906.08519  crystal structure magnetic properties 5d trans...   \n",
              "2  2105.05523  trimmed extreme value estimators censored heav...   \n",
              "3  1906.08731  gray box monitoring hyperproperties extended v...   \n",
              "4  1703.08445   sectional curvature along central configurations   \n",
              "\n",
              "                                            abstract  category  \n",
              "0  previous research shown relationship voter cha...  astro-ph  \n",
              "1  synthesized 5d1 transition metal oxides aoso4 ...  astro-ph  \n",
              "2  consider estimation extreme value index extrem...      math  \n",
              "3  many important system properties particularly ...   physics  \n",
              "4  paper characterize planar central configuratio...      eess  "
            ],
            "text/html": [
              "\n",
              "  <div id=\"df-2dbc493d-c96b-4fde-aa61-60faf4809cdc\">\n",
              "    <div class=\"colab-df-container\">\n",
              "      <div>\n",
              "<style scoped>\n",
              "    .dataframe tbody tr th:only-of-type {\n",
              "        vertical-align: middle;\n",
              "    }\n",
              "\n",
              "    .dataframe tbody tr th {\n",
              "        vertical-align: top;\n",
              "    }\n",
              "\n",
              "    .dataframe thead th {\n",
              "        text-align: right;\n",
              "    }\n",
              "</style>\n",
              "<table border=\"1\" class=\"dataframe\">\n",
              "  <thead>\n",
              "    <tr style=\"text-align: right;\">\n",
              "      <th></th>\n",
              "      <th>id</th>\n",
              "      <th>title</th>\n",
              "      <th>abstract</th>\n",
              "      <th>category</th>\n",
              "    </tr>\n",
              "  </thead>\n",
              "  <tbody>\n",
              "    <tr>\n",
              "      <th>0</th>\n",
              "      <td>2107.01095</td>\n",
              "      <td>votes library bonds principal component explor...</td>\n",
              "      <td>previous research shown relationship voter cha...</td>\n",
              "      <td>astro-ph</td>\n",
              "    </tr>\n",
              "    <tr>\n",
              "      <th>1</th>\n",
              "      <td>1906.08519</td>\n",
              "      <td>crystal structure magnetic properties 5d trans...</td>\n",
              "      <td>synthesized 5d1 transition metal oxides aoso4 ...</td>\n",
              "      <td>astro-ph</td>\n",
              "    </tr>\n",
              "    <tr>\n",
              "      <th>2</th>\n",
              "      <td>2105.05523</td>\n",
              "      <td>trimmed extreme value estimators censored heav...</td>\n",
              "      <td>consider estimation extreme value index extrem...</td>\n",
              "      <td>math</td>\n",
              "    </tr>\n",
              "    <tr>\n",
              "      <th>3</th>\n",
              "      <td>1906.08731</td>\n",
              "      <td>gray box monitoring hyperproperties extended v...</td>\n",
              "      <td>many important system properties particularly ...</td>\n",
              "      <td>physics</td>\n",
              "    </tr>\n",
              "    <tr>\n",
              "      <th>4</th>\n",
              "      <td>1703.08445</td>\n",
              "      <td>sectional curvature along central configurations</td>\n",
              "      <td>paper characterize planar central configuratio...</td>\n",
              "      <td>eess</td>\n",
              "    </tr>\n",
              "  </tbody>\n",
              "</table>\n",
              "</div>\n",
              "      <button class=\"colab-df-convert\" onclick=\"convertToInteractive('df-2dbc493d-c96b-4fde-aa61-60faf4809cdc')\"\n",
              "              title=\"Convert this dataframe to an interactive table.\"\n",
              "              style=\"display:none;\">\n",
              "        \n",
              "  <svg xmlns=\"http://www.w3.org/2000/svg\" height=\"24px\"viewBox=\"0 0 24 24\"\n",
              "       width=\"24px\">\n",
              "    <path d=\"M0 0h24v24H0V0z\" fill=\"none\"/>\n",
              "    <path d=\"M18.56 5.44l.94 2.06.94-2.06 2.06-.94-2.06-.94-.94-2.06-.94 2.06-2.06.94zm-11 1L8.5 8.5l.94-2.06 2.06-.94-2.06-.94L8.5 2.5l-.94 2.06-2.06.94zm10 10l.94 2.06.94-2.06 2.06-.94-2.06-.94-.94-2.06-.94 2.06-2.06.94z\"/><path d=\"M17.41 7.96l-1.37-1.37c-.4-.4-.92-.59-1.43-.59-.52 0-1.04.2-1.43.59L10.3 9.45l-7.72 7.72c-.78.78-.78 2.05 0 2.83L4 21.41c.39.39.9.59 1.41.59.51 0 1.02-.2 1.41-.59l7.78-7.78 2.81-2.81c.8-.78.8-2.07 0-2.86zM5.41 20L4 18.59l7.72-7.72 1.47 1.35L5.41 20z\"/>\n",
              "  </svg>\n",
              "      </button>\n",
              "      \n",
              "  <style>\n",
              "    .colab-df-container {\n",
              "      display:flex;\n",
              "      flex-wrap:wrap;\n",
              "      gap: 12px;\n",
              "    }\n",
              "\n",
              "    .colab-df-convert {\n",
              "      background-color: #E8F0FE;\n",
              "      border: none;\n",
              "      border-radius: 50%;\n",
              "      cursor: pointer;\n",
              "      display: none;\n",
              "      fill: #1967D2;\n",
              "      height: 32px;\n",
              "      padding: 0 0 0 0;\n",
              "      width: 32px;\n",
              "    }\n",
              "\n",
              "    .colab-df-convert:hover {\n",
              "      background-color: #E2EBFA;\n",
              "      box-shadow: 0px 1px 2px rgba(60, 64, 67, 0.3), 0px 1px 3px 1px rgba(60, 64, 67, 0.15);\n",
              "      fill: #174EA6;\n",
              "    }\n",
              "\n",
              "    [theme=dark] .colab-df-convert {\n",
              "      background-color: #3B4455;\n",
              "      fill: #D2E3FC;\n",
              "    }\n",
              "\n",
              "    [theme=dark] .colab-df-convert:hover {\n",
              "      background-color: #434B5C;\n",
              "      box-shadow: 0px 1px 3px 1px rgba(0, 0, 0, 0.15);\n",
              "      filter: drop-shadow(0px 1px 2px rgba(0, 0, 0, 0.3));\n",
              "      fill: #FFFFFF;\n",
              "    }\n",
              "  </style>\n",
              "\n",
              "      <script>\n",
              "        const buttonEl =\n",
              "          document.querySelector('#df-2dbc493d-c96b-4fde-aa61-60faf4809cdc button.colab-df-convert');\n",
              "        buttonEl.style.display =\n",
              "          google.colab.kernel.accessAllowed ? 'block' : 'none';\n",
              "\n",
              "        async function convertToInteractive(key) {\n",
              "          const element = document.querySelector('#df-2dbc493d-c96b-4fde-aa61-60faf4809cdc');\n",
              "          const dataTable =\n",
              "            await google.colab.kernel.invokeFunction('convertToInteractive',\n",
              "                                                     [key], {});\n",
              "          if (!dataTable) return;\n",
              "\n",
              "          const docLinkHtml = 'Like what you see? Visit the ' +\n",
              "            '<a target=\"_blank\" href=https://colab.research.google.com/notebooks/data_table.ipynb>data table notebook</a>'\n",
              "            + ' to learn more about interactive tables.';\n",
              "          element.innerHTML = '';\n",
              "          dataTable['output_type'] = 'display_data';\n",
              "          await google.colab.output.renderOutput(dataTable, element);\n",
              "          const docLink = document.createElement('div');\n",
              "          docLink.innerHTML = docLinkHtml;\n",
              "          element.appendChild(docLink);\n",
              "        }\n",
              "      </script>\n",
              "    </div>\n",
              "  </div>\n",
              "  "
            ]
          },
          "metadata": {},
          "execution_count": 95
        }
      ]
    },
    {
      "cell_type": "code",
      "source": [
        "#Let's make it like the provided format\n",
        "# submission_df1 = test_df1.drop(['title', 'abstract'], axis=1)"
      ],
      "metadata": {
        "id": "7DWmIjnnfEGc"
      },
      "execution_count": null,
      "outputs": []
    },
    {
      "cell_type": "code",
      "source": [
        "#Let's make it like the provided format\n",
        "submission_df2 = test_df2.drop(['title', 'abstract'], axis=1)"
      ],
      "metadata": {
        "id": "QmfMOa04eUYq"
      },
      "execution_count": null,
      "outputs": []
    },
    {
      "cell_type": "code",
      "source": [
        "# submission_df1.head()"
      ],
      "metadata": {
        "id": "KsKcK9gneiNc"
      },
      "execution_count": null,
      "outputs": []
    },
    {
      "cell_type": "code",
      "source": [
        "submission_df2.head()"
      ],
      "metadata": {
        "id": "PDMSgTqrfNdZ",
        "colab": {
          "base_uri": "https://localhost:8080/",
          "height": 206
        },
        "outputId": "1a2ece59-52b6-4b85-c6b6-53a34aacb1ac"
      },
      "execution_count": null,
      "outputs": [
        {
          "output_type": "execute_result",
          "data": {
            "text/plain": [
              "           id  category\n",
              "0  2107.01095  astro-ph\n",
              "1  1906.08519  astro-ph\n",
              "2  2105.05523      math\n",
              "3  1906.08731   physics\n",
              "4  1703.08445      eess"
            ],
            "text/html": [
              "\n",
              "  <div id=\"df-bdc984cb-2e70-4113-aed8-1de39b360d31\">\n",
              "    <div class=\"colab-df-container\">\n",
              "      <div>\n",
              "<style scoped>\n",
              "    .dataframe tbody tr th:only-of-type {\n",
              "        vertical-align: middle;\n",
              "    }\n",
              "\n",
              "    .dataframe tbody tr th {\n",
              "        vertical-align: top;\n",
              "    }\n",
              "\n",
              "    .dataframe thead th {\n",
              "        text-align: right;\n",
              "    }\n",
              "</style>\n",
              "<table border=\"1\" class=\"dataframe\">\n",
              "  <thead>\n",
              "    <tr style=\"text-align: right;\">\n",
              "      <th></th>\n",
              "      <th>id</th>\n",
              "      <th>category</th>\n",
              "    </tr>\n",
              "  </thead>\n",
              "  <tbody>\n",
              "    <tr>\n",
              "      <th>0</th>\n",
              "      <td>2107.01095</td>\n",
              "      <td>astro-ph</td>\n",
              "    </tr>\n",
              "    <tr>\n",
              "      <th>1</th>\n",
              "      <td>1906.08519</td>\n",
              "      <td>astro-ph</td>\n",
              "    </tr>\n",
              "    <tr>\n",
              "      <th>2</th>\n",
              "      <td>2105.05523</td>\n",
              "      <td>math</td>\n",
              "    </tr>\n",
              "    <tr>\n",
              "      <th>3</th>\n",
              "      <td>1906.08731</td>\n",
              "      <td>physics</td>\n",
              "    </tr>\n",
              "    <tr>\n",
              "      <th>4</th>\n",
              "      <td>1703.08445</td>\n",
              "      <td>eess</td>\n",
              "    </tr>\n",
              "  </tbody>\n",
              "</table>\n",
              "</div>\n",
              "      <button class=\"colab-df-convert\" onclick=\"convertToInteractive('df-bdc984cb-2e70-4113-aed8-1de39b360d31')\"\n",
              "              title=\"Convert this dataframe to an interactive table.\"\n",
              "              style=\"display:none;\">\n",
              "        \n",
              "  <svg xmlns=\"http://www.w3.org/2000/svg\" height=\"24px\"viewBox=\"0 0 24 24\"\n",
              "       width=\"24px\">\n",
              "    <path d=\"M0 0h24v24H0V0z\" fill=\"none\"/>\n",
              "    <path d=\"M18.56 5.44l.94 2.06.94-2.06 2.06-.94-2.06-.94-.94-2.06-.94 2.06-2.06.94zm-11 1L8.5 8.5l.94-2.06 2.06-.94-2.06-.94L8.5 2.5l-.94 2.06-2.06.94zm10 10l.94 2.06.94-2.06 2.06-.94-2.06-.94-.94-2.06-.94 2.06-2.06.94z\"/><path d=\"M17.41 7.96l-1.37-1.37c-.4-.4-.92-.59-1.43-.59-.52 0-1.04.2-1.43.59L10.3 9.45l-7.72 7.72c-.78.78-.78 2.05 0 2.83L4 21.41c.39.39.9.59 1.41.59.51 0 1.02-.2 1.41-.59l7.78-7.78 2.81-2.81c.8-.78.8-2.07 0-2.86zM5.41 20L4 18.59l7.72-7.72 1.47 1.35L5.41 20z\"/>\n",
              "  </svg>\n",
              "      </button>\n",
              "      \n",
              "  <style>\n",
              "    .colab-df-container {\n",
              "      display:flex;\n",
              "      flex-wrap:wrap;\n",
              "      gap: 12px;\n",
              "    }\n",
              "\n",
              "    .colab-df-convert {\n",
              "      background-color: #E8F0FE;\n",
              "      border: none;\n",
              "      border-radius: 50%;\n",
              "      cursor: pointer;\n",
              "      display: none;\n",
              "      fill: #1967D2;\n",
              "      height: 32px;\n",
              "      padding: 0 0 0 0;\n",
              "      width: 32px;\n",
              "    }\n",
              "\n",
              "    .colab-df-convert:hover {\n",
              "      background-color: #E2EBFA;\n",
              "      box-shadow: 0px 1px 2px rgba(60, 64, 67, 0.3), 0px 1px 3px 1px rgba(60, 64, 67, 0.15);\n",
              "      fill: #174EA6;\n",
              "    }\n",
              "\n",
              "    [theme=dark] .colab-df-convert {\n",
              "      background-color: #3B4455;\n",
              "      fill: #D2E3FC;\n",
              "    }\n",
              "\n",
              "    [theme=dark] .colab-df-convert:hover {\n",
              "      background-color: #434B5C;\n",
              "      box-shadow: 0px 1px 3px 1px rgba(0, 0, 0, 0.15);\n",
              "      filter: drop-shadow(0px 1px 2px rgba(0, 0, 0, 0.3));\n",
              "      fill: #FFFFFF;\n",
              "    }\n",
              "  </style>\n",
              "\n",
              "      <script>\n",
              "        const buttonEl =\n",
              "          document.querySelector('#df-bdc984cb-2e70-4113-aed8-1de39b360d31 button.colab-df-convert');\n",
              "        buttonEl.style.display =\n",
              "          google.colab.kernel.accessAllowed ? 'block' : 'none';\n",
              "\n",
              "        async function convertToInteractive(key) {\n",
              "          const element = document.querySelector('#df-bdc984cb-2e70-4113-aed8-1de39b360d31');\n",
              "          const dataTable =\n",
              "            await google.colab.kernel.invokeFunction('convertToInteractive',\n",
              "                                                     [key], {});\n",
              "          if (!dataTable) return;\n",
              "\n",
              "          const docLinkHtml = 'Like what you see? Visit the ' +\n",
              "            '<a target=\"_blank\" href=https://colab.research.google.com/notebooks/data_table.ipynb>data table notebook</a>'\n",
              "            + ' to learn more about interactive tables.';\n",
              "          element.innerHTML = '';\n",
              "          dataTable['output_type'] = 'display_data';\n",
              "          await google.colab.output.renderOutput(dataTable, element);\n",
              "          const docLink = document.createElement('div');\n",
              "          docLink.innerHTML = docLinkHtml;\n",
              "          element.appendChild(docLink);\n",
              "        }\n",
              "      </script>\n",
              "    </div>\n",
              "  </div>\n",
              "  "
            ]
          },
          "metadata": {},
          "execution_count": 100
        }
      ]
    },
    {
      "cell_type": "code",
      "source": [
        "submission_df2.to_csv(\"submission.csv\",index=False,index_label=False)\n",
        "!cp submission.csv drive/MyDrive/Colab\\ Notebooks/submission.csv"
      ],
      "metadata": {
        "id": "fBYBCGWQeonl"
      },
      "execution_count": null,
      "outputs": []
    }
  ]
}