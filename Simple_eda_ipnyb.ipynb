{
  "nbformat": 4,
  "nbformat_minor": 0,
  "metadata": {
    "colab": {
      "provenance": []
    },
    "kernelspec": {
      "name": "python3",
      "display_name": "Python 3"
    },
    "language_info": {
      "name": "python"
    },
    "gpuClass": "standard",
    "accelerator": "GPU"
  },
  "cells": [
    {
      "cell_type": "code",
      "execution_count": null,
      "metadata": {
        "colab": {
          "base_uri": "https://localhost:8080/"
        },
        "id": "lEoruXNMJ4TJ",
        "outputId": "3cd2bb6e-9027-4e9c-c4eb-a0d6708c124e"
      },
      "outputs": [
        {
          "output_type": "stream",
          "name": "stdout",
          "text": [
            "Mounted at /content/drive\n"
          ]
        }
      ],
      "source": [
        "from google.colab import drive\n",
        "drive.mount('/content/drive')"
      ]
    },
    {
      "cell_type": "code",
      "source": [
        "import pandas as pd\n",
        "import numpy as np\n",
        "from sklearn.model_selection import train_test_split"
      ],
      "metadata": {
        "id": "B2eNoluAJ6ro"
      },
      "execution_count": null,
      "outputs": []
    },
    {
      "cell_type": "code",
      "source": [
        "df = pd.read_csv(\"/content/drive/MyDrive/dataset/train.csv\")\n",
        "df.head()"
      ],
      "metadata": {
        "colab": {
          "base_uri": "https://localhost:8080/",
          "height": 206
        },
        "id": "G4_wJbiFJ8e2",
        "outputId": "8a90d85f-073e-4f3a-bc43-6f9f761449b8"
      },
      "execution_count": null,
      "outputs": [
        {
          "output_type": "execute_result",
          "data": {
            "text/plain": [
              "           id                                              title  \\\n",
              "0   2009.0642  Completely Self-Supervised Crowd Counting via ...   \n",
              "1  2010.13821  Wavelet Flow: Fast Training of High Resolution...   \n",
              "2  1904.12782  Transversally Elliptic Complex and Cohomologic...   \n",
              "3  2105.00878  On the Malliavin-Rubel theorem on small entire...   \n",
              "4  1906.04024          On the Odd Cycle Game and Connected Rules   \n",
              "\n",
              "                                            abstract category  \n",
              "0    Dense crowd counting is a challenging task t...       cs  \n",
              "1    Normalizing flows are a class of probabilist...       cs  \n",
              "2    This work is a continuation of our previous ...     math  \n",
              "3    In the early 1960s, P. Malliavin and L. A. R...     math  \n",
              "4    We study the positional game where two playe...     math  "
            ],
            "text/html": [
              "\n",
              "  <div id=\"df-bea8e52a-4126-46f9-9ad8-153de151d8c2\">\n",
              "    <div class=\"colab-df-container\">\n",
              "      <div>\n",
              "<style scoped>\n",
              "    .dataframe tbody tr th:only-of-type {\n",
              "        vertical-align: middle;\n",
              "    }\n",
              "\n",
              "    .dataframe tbody tr th {\n",
              "        vertical-align: top;\n",
              "    }\n",
              "\n",
              "    .dataframe thead th {\n",
              "        text-align: right;\n",
              "    }\n",
              "</style>\n",
              "<table border=\"1\" class=\"dataframe\">\n",
              "  <thead>\n",
              "    <tr style=\"text-align: right;\">\n",
              "      <th></th>\n",
              "      <th>id</th>\n",
              "      <th>title</th>\n",
              "      <th>abstract</th>\n",
              "      <th>category</th>\n",
              "    </tr>\n",
              "  </thead>\n",
              "  <tbody>\n",
              "    <tr>\n",
              "      <th>0</th>\n",
              "      <td>2009.0642</td>\n",
              "      <td>Completely Self-Supervised Crowd Counting via ...</td>\n",
              "      <td>Dense crowd counting is a challenging task t...</td>\n",
              "      <td>cs</td>\n",
              "    </tr>\n",
              "    <tr>\n",
              "      <th>1</th>\n",
              "      <td>2010.13821</td>\n",
              "      <td>Wavelet Flow: Fast Training of High Resolution...</td>\n",
              "      <td>Normalizing flows are a class of probabilist...</td>\n",
              "      <td>cs</td>\n",
              "    </tr>\n",
              "    <tr>\n",
              "      <th>2</th>\n",
              "      <td>1904.12782</td>\n",
              "      <td>Transversally Elliptic Complex and Cohomologic...</td>\n",
              "      <td>This work is a continuation of our previous ...</td>\n",
              "      <td>math</td>\n",
              "    </tr>\n",
              "    <tr>\n",
              "      <th>3</th>\n",
              "      <td>2105.00878</td>\n",
              "      <td>On the Malliavin-Rubel theorem on small entire...</td>\n",
              "      <td>In the early 1960s, P. Malliavin and L. A. R...</td>\n",
              "      <td>math</td>\n",
              "    </tr>\n",
              "    <tr>\n",
              "      <th>4</th>\n",
              "      <td>1906.04024</td>\n",
              "      <td>On the Odd Cycle Game and Connected Rules</td>\n",
              "      <td>We study the positional game where two playe...</td>\n",
              "      <td>math</td>\n",
              "    </tr>\n",
              "  </tbody>\n",
              "</table>\n",
              "</div>\n",
              "      <button class=\"colab-df-convert\" onclick=\"convertToInteractive('df-bea8e52a-4126-46f9-9ad8-153de151d8c2')\"\n",
              "              title=\"Convert this dataframe to an interactive table.\"\n",
              "              style=\"display:none;\">\n",
              "        \n",
              "  <svg xmlns=\"http://www.w3.org/2000/svg\" height=\"24px\"viewBox=\"0 0 24 24\"\n",
              "       width=\"24px\">\n",
              "    <path d=\"M0 0h24v24H0V0z\" fill=\"none\"/>\n",
              "    <path d=\"M18.56 5.44l.94 2.06.94-2.06 2.06-.94-2.06-.94-.94-2.06-.94 2.06-2.06.94zm-11 1L8.5 8.5l.94-2.06 2.06-.94-2.06-.94L8.5 2.5l-.94 2.06-2.06.94zm10 10l.94 2.06.94-2.06 2.06-.94-2.06-.94-.94-2.06-.94 2.06-2.06.94z\"/><path d=\"M17.41 7.96l-1.37-1.37c-.4-.4-.92-.59-1.43-.59-.52 0-1.04.2-1.43.59L10.3 9.45l-7.72 7.72c-.78.78-.78 2.05 0 2.83L4 21.41c.39.39.9.59 1.41.59.51 0 1.02-.2 1.41-.59l7.78-7.78 2.81-2.81c.8-.78.8-2.07 0-2.86zM5.41 20L4 18.59l7.72-7.72 1.47 1.35L5.41 20z\"/>\n",
              "  </svg>\n",
              "      </button>\n",
              "      \n",
              "  <style>\n",
              "    .colab-df-container {\n",
              "      display:flex;\n",
              "      flex-wrap:wrap;\n",
              "      gap: 12px;\n",
              "    }\n",
              "\n",
              "    .colab-df-convert {\n",
              "      background-color: #E8F0FE;\n",
              "      border: none;\n",
              "      border-radius: 50%;\n",
              "      cursor: pointer;\n",
              "      display: none;\n",
              "      fill: #1967D2;\n",
              "      height: 32px;\n",
              "      padding: 0 0 0 0;\n",
              "      width: 32px;\n",
              "    }\n",
              "\n",
              "    .colab-df-convert:hover {\n",
              "      background-color: #E2EBFA;\n",
              "      box-shadow: 0px 1px 2px rgba(60, 64, 67, 0.3), 0px 1px 3px 1px rgba(60, 64, 67, 0.15);\n",
              "      fill: #174EA6;\n",
              "    }\n",
              "\n",
              "    [theme=dark] .colab-df-convert {\n",
              "      background-color: #3B4455;\n",
              "      fill: #D2E3FC;\n",
              "    }\n",
              "\n",
              "    [theme=dark] .colab-df-convert:hover {\n",
              "      background-color: #434B5C;\n",
              "      box-shadow: 0px 1px 3px 1px rgba(0, 0, 0, 0.15);\n",
              "      filter: drop-shadow(0px 1px 2px rgba(0, 0, 0, 0.3));\n",
              "      fill: #FFFFFF;\n",
              "    }\n",
              "  </style>\n",
              "\n",
              "      <script>\n",
              "        const buttonEl =\n",
              "          document.querySelector('#df-bea8e52a-4126-46f9-9ad8-153de151d8c2 button.colab-df-convert');\n",
              "        buttonEl.style.display =\n",
              "          google.colab.kernel.accessAllowed ? 'block' : 'none';\n",
              "\n",
              "        async function convertToInteractive(key) {\n",
              "          const element = document.querySelector('#df-bea8e52a-4126-46f9-9ad8-153de151d8c2');\n",
              "          const dataTable =\n",
              "            await google.colab.kernel.invokeFunction('convertToInteractive',\n",
              "                                                     [key], {});\n",
              "          if (!dataTable) return;\n",
              "\n",
              "          const docLinkHtml = 'Like what you see? Visit the ' +\n",
              "            '<a target=\"_blank\" href=https://colab.research.google.com/notebooks/data_table.ipynb>data table notebook</a>'\n",
              "            + ' to learn more about interactive tables.';\n",
              "          element.innerHTML = '';\n",
              "          dataTable['output_type'] = 'display_data';\n",
              "          await google.colab.output.renderOutput(dataTable, element);\n",
              "          const docLink = document.createElement('div');\n",
              "          docLink.innerHTML = docLinkHtml;\n",
              "          element.appendChild(docLink);\n",
              "        }\n",
              "      </script>\n",
              "    </div>\n",
              "  </div>\n",
              "  "
            ]
          },
          "metadata": {},
          "execution_count": 4
        }
      ]
    },
    {
      "cell_type": "code",
      "source": [
        "df = df[~df['category'].isin(['q-alg', 'funct-an', 'alg-geom'])]"
      ],
      "metadata": {
        "id": "T96HSkFuKfY6"
      },
      "execution_count": null,
      "outputs": []
    },
    {
      "cell_type": "code",
      "source": [
        "# Create a dataframe with 2538 samples for each category\n",
        "df_balanced = df.groupby('category').apply(lambda x: x.sample(2538))\n",
        "\n",
        "# Reset the index of the new dataframe\n",
        "df_balanced.reset_index(drop=True, inplace=True)"
      ],
      "metadata": {
        "id": "ALiaANtyKi4W"
      },
      "execution_count": null,
      "outputs": []
    },
    {
      "cell_type": "code",
      "source": [
        "df_balanced['category'].value_counts()"
      ],
      "metadata": {
        "colab": {
          "base_uri": "https://localhost:8080/"
        },
        "id": "BwtjUAlYKmth",
        "outputId": "b0a42cd3-2e5d-40d8-adc4-189e58967f7c"
      },
      "execution_count": null,
      "outputs": [
        {
          "output_type": "execute_result",
          "data": {
            "text/plain": [
              "astro-ph    2538\n",
              "cond-mat    2538\n",
              "quant-ph    2538\n",
              "q-fin       2538\n",
              "q-bio       2538\n",
              "physics     2538\n",
              "nucl-th     2538\n",
              "nucl-ex     2538\n",
              "nlin        2538\n",
              "math-ph     2538\n",
              "math        2538\n",
              "hep-th      2538\n",
              "hep-ph      2538\n",
              "hep-lat     2538\n",
              "hep-ex      2538\n",
              "gr-qc       2538\n",
              "eess        2538\n",
              "econ        2538\n",
              "cs          2538\n",
              "stat        2538\n",
              "Name: category, dtype: int64"
            ]
          },
          "metadata": {},
          "execution_count": 7
        }
      ]
    },
    {
      "cell_type": "code",
      "source": [
        "import nltk\n",
        "nltk.download('stopwords')"
      ],
      "metadata": {
        "colab": {
          "base_uri": "https://localhost:8080/"
        },
        "id": "H1XzVQTUKo9T",
        "outputId": "c5ec537f-0cc2-46ec-96e1-2755bb43ecde"
      },
      "execution_count": null,
      "outputs": [
        {
          "output_type": "stream",
          "name": "stderr",
          "text": [
            "[nltk_data] Downloading package stopwords to /root/nltk_data...\n",
            "[nltk_data]   Unzipping corpora/stopwords.zip.\n"
          ]
        },
        {
          "output_type": "execute_result",
          "data": {
            "text/plain": [
              "True"
            ]
          },
          "metadata": {},
          "execution_count": 8
        }
      ]
    },
    {
      "cell_type": "code",
      "source": [
        "import logging\n",
        "from numpy import random\n",
        "from nltk.corpus import stopwords\n",
        "import re"
      ],
      "metadata": {
        "id": "AjveOPyZKrvY"
      },
      "execution_count": null,
      "outputs": []
    },
    {
      "cell_type": "code",
      "source": [
        "REPLACE_BY_SPACE_RE = re.compile('[/(){}\\[\\]\\|@,;]')\n",
        "BAD_SYMBOLS_RE = re.compile('[^0-9a-z #+_]')\n",
        "STOPWORDS = set(stopwords.words('english'))\n",
        "\n",
        "def clean_text(text):\n",
        "    text = text.lower() # lowercase text\n",
        "    text = REPLACE_BY_SPACE_RE.sub(' ', text) # replace REPLACE_BY_SPACE_RE symbols by space in text\n",
        "    text = BAD_SYMBOLS_RE.sub(' ', text) # delete symbols which are in BAD_SYMBOLS_RE from text\n",
        "    text = ' '.join(word for word in text.split() if word not in STOPWORDS) # delete stopwors from text\n",
        "    return text\n",
        "\n",
        "df_balanced['abstract'] = df_balanced['abstract'].apply(clean_text)\n",
        "df_balanced['title'] = df_balanced['title'].apply(clean_text)"
      ],
      "metadata": {
        "id": "dTgP4Il_KuSV"
      },
      "execution_count": null,
      "outputs": []
    },
    {
      "cell_type": "code",
      "source": [
        "df_balanced.isna().sum()"
      ],
      "metadata": {
        "colab": {
          "base_uri": "https://localhost:8080/"
        },
        "id": "uH7EvM8cKxz9",
        "outputId": "388032db-7aa0-48fd-8018-898686db9c4b"
      },
      "execution_count": null,
      "outputs": [
        {
          "output_type": "execute_result",
          "data": {
            "text/plain": [
              "id          0\n",
              "title       0\n",
              "abstract    0\n",
              "category    0\n",
              "dtype: int64"
            ]
          },
          "metadata": {},
          "execution_count": 11
        }
      ]
    },
    {
      "cell_type": "code",
      "source": [
        "from nltk.stem import WordNetLemmatizer\n",
        "nltk.download('wordnet')\n",
        "nltk.download('omw-1.4')"
      ],
      "metadata": {
        "colab": {
          "base_uri": "https://localhost:8080/"
        },
        "id": "iPqteK1FK02D",
        "outputId": "7a699de9-151d-434c-81c5-524e563a02a9"
      },
      "execution_count": null,
      "outputs": [
        {
          "output_type": "stream",
          "name": "stderr",
          "text": [
            "[nltk_data] Downloading package wordnet to /root/nltk_data...\n",
            "[nltk_data] Downloading package omw-1.4 to /root/nltk_data...\n"
          ]
        },
        {
          "output_type": "execute_result",
          "data": {
            "text/plain": [
              "True"
            ]
          },
          "metadata": {},
          "execution_count": 12
        }
      ]
    },
    {
      "cell_type": "code",
      "source": [
        "df_balanced"
      ],
      "metadata": {
        "colab": {
          "base_uri": "https://localhost:8080/",
          "height": 423
        },
        "id": "ZFffBmbuK4_k",
        "outputId": "1d06d79f-9833-47fe-bfc3-d5b6db3e6221"
      },
      "execution_count": null,
      "outputs": [
        {
          "output_type": "execute_result",
          "data": {
            "text/plain": [
              "               id                                              title  \\\n",
              "0      2003.13862  technologies supporting high order geodesic me...   \n",
              "1      1902.03992  carmenes search exoplanets around dwarfs chrom...   \n",
              "2      2102.05068  low metallicity young clusters outer galaxy ii...   \n",
              "3      2005.13957  linear perturbations spectra dynamical dark en...   \n",
              "4      2009.10555                           orbits five triple stars   \n",
              "...           ...                                                ...   \n",
              "50755  2105.03109  laplace matching fast approximate inference ge...   \n",
              "50756  2102.07771  online learning riemannian hidden markov model...   \n",
              "50757  2007.01675  stochastic variational bayesian inference nonl...   \n",
              "50758  2104.01115  local global topics text modeling web pages ne...   \n",
              "50759  1510.06871  mgm estimating time varying mixed graphical mo...   \n",
              "\n",
              "                                                abstract  category  \n",
              "0      many important problems astrophysics space phy...  astro-ph  \n",
              "1      chromospheric modeling observed differences st...  astro-ph  \n",
              "2      deep near infrared imaging low metallicity rm ...  astro-ph  \n",
              "3      paper study particular modified gravity equati...  astro-ph  \n",
              "4      joint analysis radial velocities position meas...  astro-ph  \n",
              "...                                                  ...       ...  \n",
              "50755  bayesian inference generalized linear models g...      stat  \n",
              "50756  hidden markov models observations euclidean sp...      stat  \n",
              "50757  variational bayes vb used facilitate calculati...      stat  \n",
              "50758  topic models popular models analyzing collecti...      stat  \n",
              "50759  present r package mgm estimation k order mixed...      stat  \n",
              "\n",
              "[50760 rows x 4 columns]"
            ],
            "text/html": [
              "\n",
              "  <div id=\"df-a4863fa8-06e0-4042-b49d-bda1d302e1de\">\n",
              "    <div class=\"colab-df-container\">\n",
              "      <div>\n",
              "<style scoped>\n",
              "    .dataframe tbody tr th:only-of-type {\n",
              "        vertical-align: middle;\n",
              "    }\n",
              "\n",
              "    .dataframe tbody tr th {\n",
              "        vertical-align: top;\n",
              "    }\n",
              "\n",
              "    .dataframe thead th {\n",
              "        text-align: right;\n",
              "    }\n",
              "</style>\n",
              "<table border=\"1\" class=\"dataframe\">\n",
              "  <thead>\n",
              "    <tr style=\"text-align: right;\">\n",
              "      <th></th>\n",
              "      <th>id</th>\n",
              "      <th>title</th>\n",
              "      <th>abstract</th>\n",
              "      <th>category</th>\n",
              "    </tr>\n",
              "  </thead>\n",
              "  <tbody>\n",
              "    <tr>\n",
              "      <th>0</th>\n",
              "      <td>2003.13862</td>\n",
              "      <td>technologies supporting high order geodesic me...</td>\n",
              "      <td>many important problems astrophysics space phy...</td>\n",
              "      <td>astro-ph</td>\n",
              "    </tr>\n",
              "    <tr>\n",
              "      <th>1</th>\n",
              "      <td>1902.03992</td>\n",
              "      <td>carmenes search exoplanets around dwarfs chrom...</td>\n",
              "      <td>chromospheric modeling observed differences st...</td>\n",
              "      <td>astro-ph</td>\n",
              "    </tr>\n",
              "    <tr>\n",
              "      <th>2</th>\n",
              "      <td>2102.05068</td>\n",
              "      <td>low metallicity young clusters outer galaxy ii...</td>\n",
              "      <td>deep near infrared imaging low metallicity rm ...</td>\n",
              "      <td>astro-ph</td>\n",
              "    </tr>\n",
              "    <tr>\n",
              "      <th>3</th>\n",
              "      <td>2005.13957</td>\n",
              "      <td>linear perturbations spectra dynamical dark en...</td>\n",
              "      <td>paper study particular modified gravity equati...</td>\n",
              "      <td>astro-ph</td>\n",
              "    </tr>\n",
              "    <tr>\n",
              "      <th>4</th>\n",
              "      <td>2009.10555</td>\n",
              "      <td>orbits five triple stars</td>\n",
              "      <td>joint analysis radial velocities position meas...</td>\n",
              "      <td>astro-ph</td>\n",
              "    </tr>\n",
              "    <tr>\n",
              "      <th>...</th>\n",
              "      <td>...</td>\n",
              "      <td>...</td>\n",
              "      <td>...</td>\n",
              "      <td>...</td>\n",
              "    </tr>\n",
              "    <tr>\n",
              "      <th>50755</th>\n",
              "      <td>2105.03109</td>\n",
              "      <td>laplace matching fast approximate inference ge...</td>\n",
              "      <td>bayesian inference generalized linear models g...</td>\n",
              "      <td>stat</td>\n",
              "    </tr>\n",
              "    <tr>\n",
              "      <th>50756</th>\n",
              "      <td>2102.07771</td>\n",
              "      <td>online learning riemannian hidden markov model...</td>\n",
              "      <td>hidden markov models observations euclidean sp...</td>\n",
              "      <td>stat</td>\n",
              "    </tr>\n",
              "    <tr>\n",
              "      <th>50757</th>\n",
              "      <td>2007.01675</td>\n",
              "      <td>stochastic variational bayesian inference nonl...</td>\n",
              "      <td>variational bayes vb used facilitate calculati...</td>\n",
              "      <td>stat</td>\n",
              "    </tr>\n",
              "    <tr>\n",
              "      <th>50758</th>\n",
              "      <td>2104.01115</td>\n",
              "      <td>local global topics text modeling web pages ne...</td>\n",
              "      <td>topic models popular models analyzing collecti...</td>\n",
              "      <td>stat</td>\n",
              "    </tr>\n",
              "    <tr>\n",
              "      <th>50759</th>\n",
              "      <td>1510.06871</td>\n",
              "      <td>mgm estimating time varying mixed graphical mo...</td>\n",
              "      <td>present r package mgm estimation k order mixed...</td>\n",
              "      <td>stat</td>\n",
              "    </tr>\n",
              "  </tbody>\n",
              "</table>\n",
              "<p>50760 rows × 4 columns</p>\n",
              "</div>\n",
              "      <button class=\"colab-df-convert\" onclick=\"convertToInteractive('df-a4863fa8-06e0-4042-b49d-bda1d302e1de')\"\n",
              "              title=\"Convert this dataframe to an interactive table.\"\n",
              "              style=\"display:none;\">\n",
              "        \n",
              "  <svg xmlns=\"http://www.w3.org/2000/svg\" height=\"24px\"viewBox=\"0 0 24 24\"\n",
              "       width=\"24px\">\n",
              "    <path d=\"M0 0h24v24H0V0z\" fill=\"none\"/>\n",
              "    <path d=\"M18.56 5.44l.94 2.06.94-2.06 2.06-.94-2.06-.94-.94-2.06-.94 2.06-2.06.94zm-11 1L8.5 8.5l.94-2.06 2.06-.94-2.06-.94L8.5 2.5l-.94 2.06-2.06.94zm10 10l.94 2.06.94-2.06 2.06-.94-2.06-.94-.94-2.06-.94 2.06-2.06.94z\"/><path d=\"M17.41 7.96l-1.37-1.37c-.4-.4-.92-.59-1.43-.59-.52 0-1.04.2-1.43.59L10.3 9.45l-7.72 7.72c-.78.78-.78 2.05 0 2.83L4 21.41c.39.39.9.59 1.41.59.51 0 1.02-.2 1.41-.59l7.78-7.78 2.81-2.81c.8-.78.8-2.07 0-2.86zM5.41 20L4 18.59l7.72-7.72 1.47 1.35L5.41 20z\"/>\n",
              "  </svg>\n",
              "      </button>\n",
              "      \n",
              "  <style>\n",
              "    .colab-df-container {\n",
              "      display:flex;\n",
              "      flex-wrap:wrap;\n",
              "      gap: 12px;\n",
              "    }\n",
              "\n",
              "    .colab-df-convert {\n",
              "      background-color: #E8F0FE;\n",
              "      border: none;\n",
              "      border-radius: 50%;\n",
              "      cursor: pointer;\n",
              "      display: none;\n",
              "      fill: #1967D2;\n",
              "      height: 32px;\n",
              "      padding: 0 0 0 0;\n",
              "      width: 32px;\n",
              "    }\n",
              "\n",
              "    .colab-df-convert:hover {\n",
              "      background-color: #E2EBFA;\n",
              "      box-shadow: 0px 1px 2px rgba(60, 64, 67, 0.3), 0px 1px 3px 1px rgba(60, 64, 67, 0.15);\n",
              "      fill: #174EA6;\n",
              "    }\n",
              "\n",
              "    [theme=dark] .colab-df-convert {\n",
              "      background-color: #3B4455;\n",
              "      fill: #D2E3FC;\n",
              "    }\n",
              "\n",
              "    [theme=dark] .colab-df-convert:hover {\n",
              "      background-color: #434B5C;\n",
              "      box-shadow: 0px 1px 3px 1px rgba(0, 0, 0, 0.15);\n",
              "      filter: drop-shadow(0px 1px 2px rgba(0, 0, 0, 0.3));\n",
              "      fill: #FFFFFF;\n",
              "    }\n",
              "  </style>\n",
              "\n",
              "      <script>\n",
              "        const buttonEl =\n",
              "          document.querySelector('#df-a4863fa8-06e0-4042-b49d-bda1d302e1de button.colab-df-convert');\n",
              "        buttonEl.style.display =\n",
              "          google.colab.kernel.accessAllowed ? 'block' : 'none';\n",
              "\n",
              "        async function convertToInteractive(key) {\n",
              "          const element = document.querySelector('#df-a4863fa8-06e0-4042-b49d-bda1d302e1de');\n",
              "          const dataTable =\n",
              "            await google.colab.kernel.invokeFunction('convertToInteractive',\n",
              "                                                     [key], {});\n",
              "          if (!dataTable) return;\n",
              "\n",
              "          const docLinkHtml = 'Like what you see? Visit the ' +\n",
              "            '<a target=\"_blank\" href=https://colab.research.google.com/notebooks/data_table.ipynb>data table notebook</a>'\n",
              "            + ' to learn more about interactive tables.';\n",
              "          element.innerHTML = '';\n",
              "          dataTable['output_type'] = 'display_data';\n",
              "          await google.colab.output.renderOutput(dataTable, element);\n",
              "          const docLink = document.createElement('div');\n",
              "          docLink.innerHTML = docLinkHtml;\n",
              "          element.appendChild(docLink);\n",
              "        }\n",
              "      </script>\n",
              "    </div>\n",
              "  </div>\n",
              "  "
            ]
          },
          "metadata": {},
          "execution_count": 13
        }
      ]
    },
    {
      "cell_type": "code",
      "source": [
        "texts = df_balanced['abstract'].values\n",
        "labels = df_balanced['category'].values"
      ],
      "metadata": {
        "id": "C-w3wUH-LFGW"
      },
      "execution_count": null,
      "outputs": []
    },
    {
      "cell_type": "code",
      "source": [
        "labels"
      ],
      "metadata": {
        "colab": {
          "base_uri": "https://localhost:8080/"
        },
        "id": "gNXX7SkbLPjC",
        "outputId": "c312016c-905a-4cfb-e83b-ac67b2ce1a52"
      },
      "execution_count": null,
      "outputs": [
        {
          "output_type": "execute_result",
          "data": {
            "text/plain": [
              "array(['astro-ph', 'astro-ph', 'astro-ph', ..., 'stat', 'stat', 'stat'],\n",
              "      dtype=object)"
            ]
          },
          "metadata": {},
          "execution_count": 19
        }
      ]
    },
    {
      "cell_type": "code",
      "source": [
        "from keras.preprocessing.text import Tokenizer\n",
        "from keras_preprocessing.sequence import pad_sequences\n",
        "from keras.layers import Dense, Embedding, LSTM\n",
        "from keras.models import Sequential\n",
        "from keras.utils import to_categorical"
      ],
      "metadata": {
        "id": "3nmh2924LQgv"
      },
      "execution_count": null,
      "outputs": []
    },
    {
      "cell_type": "code",
      "source": [
        "num_classes = len(set(labels))\n",
        "num_classes"
      ],
      "metadata": {
        "colab": {
          "base_uri": "https://localhost:8080/"
        },
        "id": "t97cYiwILy9q",
        "outputId": "5545f14f-bc20-4e45-80e1-eb564d4b70b7"
      },
      "execution_count": null,
      "outputs": [
        {
          "output_type": "execute_result",
          "data": {
            "text/plain": [
              "20"
            ]
          },
          "metadata": {},
          "execution_count": 22
        }
      ]
    },
    {
      "cell_type": "code",
      "source": [
        "# Tokenize the texts\n",
        "tokenizer = Tokenizer()\n",
        "tokenizer.fit_on_texts(texts)\n",
        "sequences = tokenizer.texts_to_sequences(texts)\n",
        "\n",
        "# Pad the sequences\n",
        "max_length = max([len(s) for s in sequences])\n",
        "padded_sequences = pad_sequences(sequences, maxlen=max_length)"
      ],
      "metadata": {
        "id": "YpQomq7uL1js"
      },
      "execution_count": null,
      "outputs": []
    },
    {
      "cell_type": "code",
      "source": [
        "from sklearn.preprocessing import LabelEncoder\n",
        "le = LabelEncoder()\n",
        "label = le.fit_transform(labels)\n",
        "labels = to_categorical(label, num_classes=num_classes)"
      ],
      "metadata": {
        "id": "gzeF5Ek6L7Y2"
      },
      "execution_count": null,
      "outputs": []
    },
    {
      "cell_type": "code",
      "source": [
        "# Split the dataset into train and test sets\n",
        "x_train, x_test, y_train, y_test = train_test_split(padded_sequences, labels, test_size=0.2)"
      ],
      "metadata": {
        "id": "jp7NiLOpMCTd"
      },
      "execution_count": null,
      "outputs": []
    },
    {
      "cell_type": "code",
      "source": [
        "# Build the model\n",
        "model = Sequential()\n",
        "model.add(Embedding(len(tokenizer.word_index)+1, 100, input_length=max_length))\n",
        "model.add(LSTM(100))\n",
        "model.add(Dense(num_classes, activation='softmax'))\n",
        "model.compile(loss='categorical_crossentropy', optimizer='adam', metrics=['accuracy'])"
      ],
      "metadata": {
        "id": "uBam-pmIMFZP"
      },
      "execution_count": null,
      "outputs": []
    },
    {
      "cell_type": "code",
      "source": [
        "# Train the model\n",
        "#history_1 = model.fit(padded_sequences, labels, epochs=25)\n",
        "history = model.fit(x_train, y_train, validation_data=(x_test, y_test), epochs = 10)"
      ],
      "metadata": {
        "colab": {
          "base_uri": "https://localhost:8080/"
        },
        "id": "0VDP-cufMj2f",
        "outputId": "0970e86f-f827-4c01-e2c7-a7f60163a776"
      },
      "execution_count": null,
      "outputs": [
        {
          "output_type": "stream",
          "name": "stdout",
          "text": [
            "Epoch 1/10\n",
            "1269/1269 [==============================] - 462s 364ms/step - loss: 2.0465 - accuracy: 0.2836 - val_loss: 1.8702 - val_accuracy: 0.3519\n",
            "Epoch 2/10\n",
            "1269/1269 [==============================] - 418s 330ms/step - loss: 1.4533 - accuracy: 0.4851 - val_loss: 1.5998 - val_accuracy: 0.4566\n",
            "Epoch 3/10\n",
            "1269/1269 [==============================] - 417s 328ms/step - loss: 1.1425 - accuracy: 0.5973 - val_loss: 1.4697 - val_accuracy: 0.4986\n",
            "Epoch 4/10\n",
            "1269/1269 [==============================] - 416s 328ms/step - loss: 0.9328 - accuracy: 0.6731 - val_loss: 1.5254 - val_accuracy: 0.4979\n",
            "Epoch 5/10\n",
            "1269/1269 [==============================] - 414s 327ms/step - loss: 0.7676 - accuracy: 0.7368 - val_loss: 1.5919 - val_accuracy: 0.4959\n",
            "Epoch 6/10\n",
            "1269/1269 [==============================] - 415s 327ms/step - loss: 0.6345 - accuracy: 0.7811 - val_loss: 1.7324 - val_accuracy: 0.4842\n",
            "Epoch 7/10\n",
            "1269/1269 [==============================] - 416s 328ms/step - loss: 0.5335 - accuracy: 0.8137 - val_loss: 1.8354 - val_accuracy: 0.4837\n",
            "Epoch 8/10\n",
            "1269/1269 [==============================] - 414s 326ms/step - loss: 0.4412 - accuracy: 0.8438 - val_loss: 1.9665 - val_accuracy: 0.4734\n",
            "Epoch 9/10\n",
            "1269/1269 [==============================] - 414s 326ms/step - loss: 0.3721 - accuracy: 0.8668 - val_loss: 2.1394 - val_accuracy: 0.4654\n",
            "Epoch 10/10\n",
            "1269/1269 [==============================] - 414s 326ms/step - loss: 0.3171 - accuracy: 0.8826 - val_loss: 2.2494 - val_accuracy: 0.4667\n"
          ]
        }
      ]
    },
    {
      "cell_type": "code",
      "source": [
        "#Build another model\n",
        "model_2 = Sequential()\n",
        "model_2.add(Embedding(len(tokenizer.word_index)+1, 100, input_length=max_length))\n",
        "model_2.add(LSTM(100))\n",
        "#model2.add()\n",
        "model_2.add(Dense(128, activation='relu'))\n",
        "model_2.add(Dense(num_classes, activation='softmax'))\n",
        "model_2.compile(loss='categorical_crossentropy', optimizer='adam', metrics=['accuracy'])"
      ],
      "metadata": {
        "id": "K71Osh1pNeA5"
      },
      "execution_count": null,
      "outputs": []
    },
    {
      "cell_type": "code",
      "source": [
        "#Train the model\n",
        "history2 = model_2.fit(x_train, y_train, validation_data=(x_test, y_test), epochs = 10)"
      ],
      "metadata": {
        "colab": {
          "base_uri": "https://localhost:8080/"
        },
        "id": "gCHI_Nn8OBlF",
        "outputId": "a75e5879-d089-4e65-b389-b7479d53df50"
      },
      "execution_count": null,
      "outputs": [
        {
          "output_type": "stream",
          "name": "stdout",
          "text": [
            "Epoch 1/10\n",
            "1269/1269 [==============================] - 415s 327ms/step - loss: 2.0433 - accuracy: 0.2708 - val_loss: 1.6327 - val_accuracy: 0.4145\n",
            "Epoch 2/10\n",
            "1269/1269 [==============================] - 413s 325ms/step - loss: 1.3956 - accuracy: 0.4993 - val_loss: 1.4812 - val_accuracy: 0.4947\n",
            "Epoch 3/10\n",
            "1269/1269 [==============================] - 427s 336ms/step - loss: 1.0883 - accuracy: 0.6200 - val_loss: 1.5596 - val_accuracy: 0.4810\n",
            "Epoch 4/10\n",
            "1269/1269 [==============================] - 417s 328ms/step - loss: 0.8810 - accuracy: 0.6963 - val_loss: 1.6105 - val_accuracy: 0.4840\n",
            "Epoch 5/10\n",
            "1269/1269 [==============================] - 414s 327ms/step - loss: 0.7148 - accuracy: 0.7519 - val_loss: 1.7308 - val_accuracy: 0.4792\n",
            "Epoch 6/10\n",
            "1269/1269 [==============================] - 416s 328ms/step - loss: 0.5854 - accuracy: 0.7990 - val_loss: 1.9023 - val_accuracy: 0.4640\n",
            "Epoch 7/10\n",
            "1269/1269 [==============================] - 416s 328ms/step - loss: 0.4793 - accuracy: 0.8314 - val_loss: 2.0717 - val_accuracy: 0.4639\n",
            "Epoch 8/10\n",
            "1269/1269 [==============================] - 418s 329ms/step - loss: 0.4027 - accuracy: 0.8584 - val_loss: 2.1866 - val_accuracy: 0.4582\n",
            "Epoch 9/10\n",
            "1269/1269 [==============================] - 417s 329ms/step - loss: 0.3471 - accuracy: 0.8723 - val_loss: 2.4230 - val_accuracy: 0.4631\n",
            "Epoch 10/10\n",
            "1269/1269 [==============================] - 420s 331ms/step - loss: 0.3068 - accuracy: 0.8854 - val_loss: 2.5135 - val_accuracy: 0.4552\n"
          ]
        }
      ]
    },
    {
      "cell_type": "code",
      "source": [
        "# Save the model's architecture and weights\n",
        "model.save('model_1.h5')"
      ],
      "metadata": {
        "id": "36ikuHHmde1J"
      },
      "execution_count": null,
      "outputs": []
    },
    {
      "cell_type": "code",
      "source": [
        "model_2.save('model_2.h5')"
      ],
      "metadata": {
        "id": "QplJGo1ohNZf"
      },
      "execution_count": null,
      "outputs": []
    }
  ]
}