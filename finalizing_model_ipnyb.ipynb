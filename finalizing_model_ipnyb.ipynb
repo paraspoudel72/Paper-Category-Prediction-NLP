{
  "nbformat": 4,
  "nbformat_minor": 0,
  "metadata": {
    "colab": {
      "provenance": []
    },
    "kernelspec": {
      "name": "python3",
      "display_name": "Python 3"
    },
    "language_info": {
      "name": "python"
    },
    "accelerator": "GPU",
    "gpuClass": "standard"
  },
  "cells": [
    {
      "cell_type": "code",
      "execution_count": null,
      "metadata": {
        "colab": {
          "base_uri": "https://localhost:8080/"
        },
        "id": "aLONudmCGGYB",
        "outputId": "67f0f968-628a-4550-ed8e-a5b1ea392c5b"
      },
      "outputs": [
        {
          "output_type": "stream",
          "name": "stdout",
          "text": [
            "Mounted at /content/drive\n"
          ]
        }
      ],
      "source": [
        "from google.colab import drive\n",
        "drive.mount(\"/content/drive\")"
      ]
    },
    {
      "cell_type": "code",
      "source": [
        "#Importing necessary libraries\n",
        "import pandas as pd\n",
        "import nltk\n",
        "nltk.download('stopwords')\n",
        "import logging\n",
        "from numpy import random\n",
        "from nltk.corpus import stopwords\n",
        "import re\n",
        "from nltk.util import ngrams\n",
        "import random\n",
        "from nltk.corpus import wordnet\n",
        "nltk.download('punkt')\n",
        "nltk.download('wordnet')\n",
        "nltk.download('omw-1.4')\n",
        "from nltk.tokenize import word_tokenize"
      ],
      "metadata": {
        "id": "ic-sqF79GLP4",
        "colab": {
          "base_uri": "https://localhost:8080/"
        },
        "outputId": "765152ad-53a4-4d07-ac01-3f175f5ecdd8"
      },
      "execution_count": null,
      "outputs": [
        {
          "output_type": "stream",
          "name": "stderr",
          "text": [
            "[nltk_data] Downloading package stopwords to /root/nltk_data...\n",
            "[nltk_data]   Unzipping corpora/stopwords.zip.\n",
            "[nltk_data] Downloading package punkt to /root/nltk_data...\n",
            "[nltk_data]   Unzipping tokenizers/punkt.zip.\n",
            "[nltk_data] Downloading package wordnet to /root/nltk_data...\n",
            "[nltk_data] Downloading package omw-1.4 to /root/nltk_data...\n"
          ]
        }
      ]
    },
    {
      "cell_type": "code",
      "source": [
        "#Loading data from google drive\n",
        "train_data = pd.read_csv(\"/content/drive/MyDrive/Colab Notebooks/DataRush/train.csv\")"
      ],
      "metadata": {
        "id": "-PnJnphNGOG6"
      },
      "execution_count": null,
      "outputs": []
    },
    {
      "cell_type": "code",
      "source": [
        "train_data.head()"
      ],
      "metadata": {
        "id": "2sgFtksUGUwL",
        "colab": {
          "base_uri": "https://localhost:8080/",
          "height": 206
        },
        "outputId": "b01bd22f-8121-4537-a1f9-295bf2f04bce"
      },
      "execution_count": null,
      "outputs": [
        {
          "output_type": "execute_result",
          "data": {
            "text/plain": [
              "           id                                              title  \\\n",
              "0   2009.0642  Completely Self-Supervised Crowd Counting via ...   \n",
              "1  2010.13821  Wavelet Flow: Fast Training of High Resolution...   \n",
              "2  1904.12782  Transversally Elliptic Complex and Cohomologic...   \n",
              "3  2105.00878  On the Malliavin-Rubel theorem on small entire...   \n",
              "4  1906.04024          On the Odd Cycle Game and Connected Rules   \n",
              "\n",
              "                                            abstract category  \n",
              "0    Dense crowd counting is a challenging task t...       cs  \n",
              "1    Normalizing flows are a class of probabilist...       cs  \n",
              "2    This work is a continuation of our previous ...     math  \n",
              "3    In the early 1960s, P. Malliavin and L. A. R...     math  \n",
              "4    We study the positional game where two playe...     math  "
            ],
            "text/html": [
              "\n",
              "  <div id=\"df-bb92afe4-4520-4424-b7b6-3506a8f786a6\">\n",
              "    <div class=\"colab-df-container\">\n",
              "      <div>\n",
              "<style scoped>\n",
              "    .dataframe tbody tr th:only-of-type {\n",
              "        vertical-align: middle;\n",
              "    }\n",
              "\n",
              "    .dataframe tbody tr th {\n",
              "        vertical-align: top;\n",
              "    }\n",
              "\n",
              "    .dataframe thead th {\n",
              "        text-align: right;\n",
              "    }\n",
              "</style>\n",
              "<table border=\"1\" class=\"dataframe\">\n",
              "  <thead>\n",
              "    <tr style=\"text-align: right;\">\n",
              "      <th></th>\n",
              "      <th>id</th>\n",
              "      <th>title</th>\n",
              "      <th>abstract</th>\n",
              "      <th>category</th>\n",
              "    </tr>\n",
              "  </thead>\n",
              "  <tbody>\n",
              "    <tr>\n",
              "      <th>0</th>\n",
              "      <td>2009.0642</td>\n",
              "      <td>Completely Self-Supervised Crowd Counting via ...</td>\n",
              "      <td>Dense crowd counting is a challenging task t...</td>\n",
              "      <td>cs</td>\n",
              "    </tr>\n",
              "    <tr>\n",
              "      <th>1</th>\n",
              "      <td>2010.13821</td>\n",
              "      <td>Wavelet Flow: Fast Training of High Resolution...</td>\n",
              "      <td>Normalizing flows are a class of probabilist...</td>\n",
              "      <td>cs</td>\n",
              "    </tr>\n",
              "    <tr>\n",
              "      <th>2</th>\n",
              "      <td>1904.12782</td>\n",
              "      <td>Transversally Elliptic Complex and Cohomologic...</td>\n",
              "      <td>This work is a continuation of our previous ...</td>\n",
              "      <td>math</td>\n",
              "    </tr>\n",
              "    <tr>\n",
              "      <th>3</th>\n",
              "      <td>2105.00878</td>\n",
              "      <td>On the Malliavin-Rubel theorem on small entire...</td>\n",
              "      <td>In the early 1960s, P. Malliavin and L. A. R...</td>\n",
              "      <td>math</td>\n",
              "    </tr>\n",
              "    <tr>\n",
              "      <th>4</th>\n",
              "      <td>1906.04024</td>\n",
              "      <td>On the Odd Cycle Game and Connected Rules</td>\n",
              "      <td>We study the positional game where two playe...</td>\n",
              "      <td>math</td>\n",
              "    </tr>\n",
              "  </tbody>\n",
              "</table>\n",
              "</div>\n",
              "      <button class=\"colab-df-convert\" onclick=\"convertToInteractive('df-bb92afe4-4520-4424-b7b6-3506a8f786a6')\"\n",
              "              title=\"Convert this dataframe to an interactive table.\"\n",
              "              style=\"display:none;\">\n",
              "        \n",
              "  <svg xmlns=\"http://www.w3.org/2000/svg\" height=\"24px\"viewBox=\"0 0 24 24\"\n",
              "       width=\"24px\">\n",
              "    <path d=\"M0 0h24v24H0V0z\" fill=\"none\"/>\n",
              "    <path d=\"M18.56 5.44l.94 2.06.94-2.06 2.06-.94-2.06-.94-.94-2.06-.94 2.06-2.06.94zm-11 1L8.5 8.5l.94-2.06 2.06-.94-2.06-.94L8.5 2.5l-.94 2.06-2.06.94zm10 10l.94 2.06.94-2.06 2.06-.94-2.06-.94-.94-2.06-.94 2.06-2.06.94z\"/><path d=\"M17.41 7.96l-1.37-1.37c-.4-.4-.92-.59-1.43-.59-.52 0-1.04.2-1.43.59L10.3 9.45l-7.72 7.72c-.78.78-.78 2.05 0 2.83L4 21.41c.39.39.9.59 1.41.59.51 0 1.02-.2 1.41-.59l7.78-7.78 2.81-2.81c.8-.78.8-2.07 0-2.86zM5.41 20L4 18.59l7.72-7.72 1.47 1.35L5.41 20z\"/>\n",
              "  </svg>\n",
              "      </button>\n",
              "      \n",
              "  <style>\n",
              "    .colab-df-container {\n",
              "      display:flex;\n",
              "      flex-wrap:wrap;\n",
              "      gap: 12px;\n",
              "    }\n",
              "\n",
              "    .colab-df-convert {\n",
              "      background-color: #E8F0FE;\n",
              "      border: none;\n",
              "      border-radius: 50%;\n",
              "      cursor: pointer;\n",
              "      display: none;\n",
              "      fill: #1967D2;\n",
              "      height: 32px;\n",
              "      padding: 0 0 0 0;\n",
              "      width: 32px;\n",
              "    }\n",
              "\n",
              "    .colab-df-convert:hover {\n",
              "      background-color: #E2EBFA;\n",
              "      box-shadow: 0px 1px 2px rgba(60, 64, 67, 0.3), 0px 1px 3px 1px rgba(60, 64, 67, 0.15);\n",
              "      fill: #174EA6;\n",
              "    }\n",
              "\n",
              "    [theme=dark] .colab-df-convert {\n",
              "      background-color: #3B4455;\n",
              "      fill: #D2E3FC;\n",
              "    }\n",
              "\n",
              "    [theme=dark] .colab-df-convert:hover {\n",
              "      background-color: #434B5C;\n",
              "      box-shadow: 0px 1px 3px 1px rgba(0, 0, 0, 0.15);\n",
              "      filter: drop-shadow(0px 1px 2px rgba(0, 0, 0, 0.3));\n",
              "      fill: #FFFFFF;\n",
              "    }\n",
              "  </style>\n",
              "\n",
              "      <script>\n",
              "        const buttonEl =\n",
              "          document.querySelector('#df-bb92afe4-4520-4424-b7b6-3506a8f786a6 button.colab-df-convert');\n",
              "        buttonEl.style.display =\n",
              "          google.colab.kernel.accessAllowed ? 'block' : 'none';\n",
              "\n",
              "        async function convertToInteractive(key) {\n",
              "          const element = document.querySelector('#df-bb92afe4-4520-4424-b7b6-3506a8f786a6');\n",
              "          const dataTable =\n",
              "            await google.colab.kernel.invokeFunction('convertToInteractive',\n",
              "                                                     [key], {});\n",
              "          if (!dataTable) return;\n",
              "\n",
              "          const docLinkHtml = 'Like what you see? Visit the ' +\n",
              "            '<a target=\"_blank\" href=https://colab.research.google.com/notebooks/data_table.ipynb>data table notebook</a>'\n",
              "            + ' to learn more about interactive tables.';\n",
              "          element.innerHTML = '';\n",
              "          dataTable['output_type'] = 'display_data';\n",
              "          await google.colab.output.renderOutput(dataTable, element);\n",
              "          const docLink = document.createElement('div');\n",
              "          docLink.innerHTML = docLinkHtml;\n",
              "          element.appendChild(docLink);\n",
              "        }\n",
              "      </script>\n",
              "    </div>\n",
              "  </div>\n",
              "  "
            ]
          },
          "metadata": {},
          "execution_count": 5
        }
      ]
    },
    {
      "cell_type": "code",
      "source": [
        "#Let's visualize data distribution\n",
        "train_data['category'].value_counts()"
      ],
      "metadata": {
        "id": "G8IwC-6KGWn3",
        "colab": {
          "base_uri": "https://localhost:8080/"
        },
        "outputId": "58c8aebe-f546-48ea-eee1-b1af7a8c049b"
      },
      "execution_count": null,
      "outputs": [
        {
          "output_type": "execute_result",
          "data": {
            "text/plain": [
              "cs          262503\n",
              "math        177679\n",
              "cond-mat     71772\n",
              "physics      66282\n",
              "astro-ph     58737\n",
              "stat         51308\n",
              "eess         34330\n",
              "quant-ph     25171\n",
              "hep-th       19706\n",
              "hep-ph       19207\n",
              "gr-qc        15590\n",
              "math-ph      12238\n",
              "q-bio        10530\n",
              "hep-ex        7435\n",
              "nucl-th       6662\n",
              "nlin          6047\n",
              "q-fin         5942\n",
              "econ          3924\n",
              "nucl-ex       3627\n",
              "hep-lat       2538\n",
              "q-alg            2\n",
              "funct-an         1\n",
              "alg-geom         1\n",
              "Name: category, dtype: int64"
            ]
          },
          "metadata": {},
          "execution_count": 6
        }
      ]
    },
    {
      "cell_type": "code",
      "source": [
        "#Drop duplicate values\n",
        "\n",
        "#replacing titile with abstract\n",
        "# train_data = train_data.drop_duplicates(subset='title')\n",
        "train_data = train_data.drop_duplicates(subset='abstract')\n",
        "train_data['category'].value_counts()"
      ],
      "metadata": {
        "colab": {
          "base_uri": "https://localhost:8080/"
        },
        "id": "XomngL7hOGSE",
        "outputId": "7d64aecf-533c-47c7-9eaa-7d11f89685b7"
      },
      "execution_count": null,
      "outputs": [
        {
          "output_type": "execute_result",
          "data": {
            "text/plain": [
              "cs          139252\n",
              "math        105162\n",
              "cond-mat     42786\n",
              "physics      38243\n",
              "astro-ph     38059\n",
              "stat         22747\n",
              "quant-ph     16021\n",
              "eess         15847\n",
              "hep-ph       11420\n",
              "hep-th       10695\n",
              "gr-qc         8663\n",
              "q-bio         5665\n",
              "hep-ex        3955\n",
              "math-ph       3823\n",
              "nucl-th       3521\n",
              "q-fin         3053\n",
              "nlin          2894\n",
              "econ          2050\n",
              "nucl-ex       1792\n",
              "hep-lat       1136\n",
              "funct-an         1\n",
              "alg-geom         1\n",
              "Name: category, dtype: int64"
            ]
          },
          "metadata": {},
          "execution_count": 7
        }
      ]
    },
    {
      "cell_type": "code",
      "source": [
        "#dropping rows with just 1 sample\n",
        "df = train_data[~train_data['category'].isin(['funct-an', 'alg-geom'])]"
      ],
      "metadata": {
        "id": "MCHdKxpJGa2q"
      },
      "execution_count": null,
      "outputs": []
    },
    {
      "cell_type": "code",
      "source": [
        "#Cleaning text data\n",
        "REPLACE_BY_SPACE_RE = re.compile('[/(){}\\[\\]\\|@,;]')\n",
        "BAD_SYMBOLS_RE = re.compile('[^0-9a-z #+_]')\n",
        "STOPWORDS = set(stopwords.words('english'))\n",
        "\n",
        "def clean_text(text):\n",
        "    text = text.lower() # lowercase text\n",
        "    text = REPLACE_BY_SPACE_RE.sub(' ', text) # replace REPLACE_BY_SPACE_RE symbols by space in text\n",
        "    text = BAD_SYMBOLS_RE.sub(' ', text) # delete symbols which are in BAD_SYMBOLS_RE from text\n",
        "    text = ' '.join(word for word in text.split() if word not in STOPWORDS) # delete stopwors from text\n",
        "    return text\n",
        "\n",
        "df['abstract'] = df['abstract'].apply(clean_text)\n",
        "df['title'] = df['title'].apply(clean_text)"
      ],
      "metadata": {
        "id": "nbUDUTIBGdlp",
        "colab": {
          "base_uri": "https://localhost:8080/"
        },
        "outputId": "e6319d3a-f24f-4c69-a857-364a4a527694"
      },
      "execution_count": null,
      "outputs": [
        {
          "output_type": "stream",
          "name": "stderr",
          "text": [
            "<ipython-input-9-5cd7b47524b9>:13: SettingWithCopyWarning: \n",
            "A value is trying to be set on a copy of a slice from a DataFrame.\n",
            "Try using .loc[row_indexer,col_indexer] = value instead\n",
            "\n",
            "See the caveats in the documentation: https://pandas.pydata.org/pandas-docs/stable/user_guide/indexing.html#returning-a-view-versus-a-copy\n",
            "  df['abstract'] = df['abstract'].apply(clean_text)\n",
            "<ipython-input-9-5cd7b47524b9>:14: SettingWithCopyWarning: \n",
            "A value is trying to be set on a copy of a slice from a DataFrame.\n",
            "Try using .loc[row_indexer,col_indexer] = value instead\n",
            "\n",
            "See the caveats in the documentation: https://pandas.pydata.org/pandas-docs/stable/user_guide/indexing.html#returning-a-view-versus-a-copy\n",
            "  df['title'] = df['title'].apply(clean_text)\n"
          ]
        }
      ]
    },
    {
      "cell_type": "code",
      "source": [
        "#Visualize\n",
        "df['category'].value_counts()"
      ],
      "metadata": {
        "id": "eJYb5lsZGf0r",
        "colab": {
          "base_uri": "https://localhost:8080/"
        },
        "outputId": "63c9f7ed-b42b-4fdf-9537-c07469274787"
      },
      "execution_count": null,
      "outputs": [
        {
          "output_type": "execute_result",
          "data": {
            "text/plain": [
              "cs          139252\n",
              "math        105162\n",
              "cond-mat     42786\n",
              "physics      38243\n",
              "astro-ph     38059\n",
              "stat         22747\n",
              "quant-ph     16021\n",
              "eess         15847\n",
              "hep-ph       11420\n",
              "hep-th       10695\n",
              "gr-qc         8663\n",
              "q-bio         5665\n",
              "hep-ex        3955\n",
              "math-ph       3823\n",
              "nucl-th       3521\n",
              "q-fin         3053\n",
              "nlin          2894\n",
              "econ          2050\n",
              "nucl-ex       1792\n",
              "hep-lat       1136\n",
              "Name: category, dtype: int64"
            ]
          },
          "metadata": {},
          "execution_count": 10
        }
      ]
    },
    {
      "cell_type": "code",
      "source": [
        "len(df)"
      ],
      "metadata": {
        "colab": {
          "base_uri": "https://localhost:8080/"
        },
        "id": "tP5uKuPehE1A",
        "outputId": "c26f5d0b-5eeb-4971-a3af-b249fe3cbfe1"
      },
      "execution_count": null,
      "outputs": [
        {
          "output_type": "execute_result",
          "data": {
            "text/plain": [
              "476784"
            ]
          },
          "metadata": {},
          "execution_count": 11
        }
      ]
    },
    {
      "cell_type": "markdown",
      "source": [
        "Since some classes have very few data, let's try to generate more data through augmentation so that the model will have enough data to be trained later."
      ],
      "metadata": {
        "id": "txlfv8nk0rXP"
      }
    },
    {
      "cell_type": "code",
      "source": [
        "#Function for text augmentation\n",
        "#thorai data vako class ma apply gareko xa, to generate more data\n",
        "def augment(sentences):\n",
        "\n",
        "  augmented_sentences = []\n",
        "\n",
        "  for sentence in sentences:\n",
        "    tokens = word_tokenize(sentence)\n",
        "    new_tokens = []\n",
        "    for token in tokens:\n",
        "        synonyms = wordnet.synsets(token)\n",
        "        if synonyms:\n",
        "            new_token = random.choice(synonyms).lemmas()[0].name()\n",
        "            new_tokens.append(new_token)\n",
        "        else:\n",
        "            new_tokens.append(token)\n",
        "    augmented_sentence = \" \".join(new_tokens)\n",
        "    augmented_sentences.append(augmented_sentence)\n",
        "\n",
        "  return(augmented_sentences)"
      ],
      "metadata": {
        "id": "V-HIUh-AGiBe"
      },
      "execution_count": null,
      "outputs": []
    },
    {
      "cell_type": "code",
      "source": [
        "#Creating a copy\n",
        "df_copy = df.copy()"
      ],
      "metadata": {
        "id": "l0hmltQrqxRn"
      },
      "execution_count": null,
      "outputs": []
    },
    {
      "cell_type": "code",
      "source": [
        "df_copy['category'].value_counts()"
      ],
      "metadata": {
        "id": "18rHmwl-Glj4",
        "colab": {
          "base_uri": "https://localhost:8080/"
        },
        "outputId": "64f3be93-ba4a-469b-b4ed-ea563ca30688"
      },
      "execution_count": null,
      "outputs": [
        {
          "output_type": "execute_result",
          "data": {
            "text/plain": [
              "cs          139252\n",
              "math        105162\n",
              "cond-mat     42786\n",
              "physics      38243\n",
              "astro-ph     38059\n",
              "stat         22747\n",
              "quant-ph     16021\n",
              "eess         15847\n",
              "hep-ph       11420\n",
              "hep-th       10695\n",
              "gr-qc         8663\n",
              "q-bio         5665\n",
              "hep-ex        3955\n",
              "math-ph       3823\n",
              "nucl-th       3521\n",
              "q-fin         3053\n",
              "nlin          2894\n",
              "econ          2050\n",
              "nucl-ex       1792\n",
              "hep-lat       1136\n",
              "Name: category, dtype: int64"
            ]
          },
          "metadata": {},
          "execution_count": 14
        }
      ]
    },
    {
      "cell_type": "code",
      "source": [
        "#Listing classes which have low number of data\n",
        "less = ['gr-qc', 'q-bio', 'hep-ex', 'math-ph', 'nucl-th', 'q-fin', 'nlin', 'econ', 'nucl-ex', 'hep-lat']"
      ],
      "metadata": {
        "id": "EeiBB-6iGnz-"
      },
      "execution_count": null,
      "outputs": []
    },
    {
      "cell_type": "code",
      "source": [
        "#classes with extremely high number of training data\n",
        "#excess data vako class bata chai data remove garinxa (after sometime)\n",
        "more = ['cs', 'math']\n",
        "import numpy as np"
      ],
      "metadata": {
        "id": "bzXJB9qSWXKQ"
      },
      "execution_count": null,
      "outputs": []
    },
    {
      "cell_type": "code",
      "source": [
        "#some ugly code\n",
        "#ke trick le ramro banauna sakxau vane give it a try\n",
        "A = df.loc[df['category'] == 'gr-qc']\n",
        "B = df.loc[df['category'] == 'q-bio']\n",
        "C = df.loc[df['category'] == 'hep-ex']\n",
        "D = df.loc[df['category'] == 'math-ph']\n",
        "E = df.loc[df['category'] == 'nucl-th']\n",
        "F = df.loc[df['category'] == 'q-fin']\n",
        "G = df.loc[df['category'] == 'nlin']\n",
        "H = df.loc[df['category'] == 'econ']\n",
        "I = df.loc[df['category'] == 'nucl-ex']\n",
        "J = df.loc[df['category'] == 'hep-lat']"
      ],
      "metadata": {
        "id": "Qs1ihePfGqSF"
      },
      "execution_count": null,
      "outputs": []
    },
    {
      "cell_type": "code",
      "source": [
        "#some more ugly code XD\n",
        "A1 = A['title'].values\n",
        "A2 = A['abstract'].values\n",
        "B1 = B['title'].values\n",
        "B2 = B['abstract'].values\n",
        "C1 = C['title'].values\n",
        "C2 = C['abstract'].values\n",
        "D1 = D['title'].values\n",
        "D2 = D['abstract'].values\n",
        "E1 = E['title'].values\n",
        "E2 = E['abstract'].values\n",
        "F1 = F['title'].values\n",
        "F2 = F['abstract'].values\n",
        "G1 = G['title'].values\n",
        "G2 = G['abstract'].values\n",
        "H1 = H['title'].values\n",
        "H2 = H['abstract'].values\n",
        "I1 = I['title'].values\n",
        "I2 = I['abstract'].values\n",
        "J1 = J['title'].values\n",
        "J2 = J['abstract'].values"
      ],
      "metadata": {
        "id": "LN8LQojhGtKt"
      },
      "execution_count": null,
      "outputs": []
    },
    {
      "cell_type": "code",
      "source": [
        "A11 = augment(A1)\n",
        "A21 = augment(A2)\n",
        "B11 = augment(B1)\n",
        "B21 = augment(B2)\n",
        "C11 = augment(C1)\n",
        "C21 = augment(C2)\n",
        "D11 = augment(D1)\n",
        "D21 = augment(D2)\n",
        "E11 = augment(E1)\n",
        "E21 = augment(E2)\n",
        "F11 = augment(F1)\n",
        "F21 = augment(F2)\n",
        "G11 = augment(G1)\n",
        "G21 = augment(G2)\n",
        "H11 = augment(H1)\n",
        "H21 = augment(H2)\n",
        "I11 = augment(I1)\n",
        "I21 = augment(I2)\n",
        "J11 = augment(J1)\n",
        "J21 = augment(J2)"
      ],
      "metadata": {
        "id": "kzHJCOdZG0J2"
      },
      "execution_count": null,
      "outputs": []
    },
    {
      "cell_type": "code",
      "source": [
        "# Create a DataFrame from the lists\n",
        "#less = ['gr-qc', 'q-bio', 'hep-ex', 'math-ph', 'nucl-th', 'q-fin', 'nlin', 'econ', 'nucl-ex', 'hep-lat']\n",
        "dfA = pd.DataFrame({'title': A11, 'abstract': A21, 'category':'gr-qc'})\n",
        "dfB = pd.DataFrame({'title': B11, 'abstract': B21, 'category':'q-bio'})\n",
        "dfC = pd.DataFrame({'title': C11, 'abstract': C21, 'category':'hep-ex'})\n",
        "dfD = pd.DataFrame({'title': D11, 'abstract': D21, 'category':'math-ph'})\n",
        "dfE = pd.DataFrame({'title': E11, 'abstract': E21, 'category':'nucl-th'})\n",
        "dfF = pd.DataFrame({'title': F11, 'abstract': F21, 'category':'q-fin'})\n",
        "dfG = pd.DataFrame({'title': G11, 'abstract': G21, 'category':'nlin'})\n",
        "dfH = pd.DataFrame({'title': H11, 'abstract': H21, 'category':'econ'})\n",
        "dfI = pd.DataFrame({'title': I11, 'abstract': I21, 'category':'nucl-ex'})\n",
        "dfJ = pd.DataFrame({'title': J11, 'abstract': J21, 'category':'hep-lat'})"
      ],
      "metadata": {
        "id": "rhxlG81WKJAY"
      },
      "execution_count": null,
      "outputs": []
    },
    {
      "cell_type": "markdown",
      "source": [
        "Yo result_df ma hamile regenerate gareko data xa (10 ota class ko data)"
      ],
      "metadata": {
        "id": "Cjkr6NJ01-eB"
      }
    },
    {
      "cell_type": "markdown",
      "source": [
        "result_df contains data generated from text augmentation"
      ],
      "metadata": {
        "id": "g0OaZRsc2NxV"
      }
    },
    {
      "cell_type": "code",
      "source": [
        "result_df = pd.concat([dfA, dfB, dfC, dfD, dfE, dfF, dfG, dfH, dfI, dfJ], ignore_index=True)"
      ],
      "metadata": {
        "id": "wUtrtNIQgL1R"
      },
      "execution_count": null,
      "outputs": []
    },
    {
      "cell_type": "code",
      "source": [
        "#Let's visualize\n",
        "result_df.tail()"
      ],
      "metadata": {
        "id": "I2pYtCQ3gV0s",
        "colab": {
          "base_uri": "https://localhost:8080/",
          "height": 206
        },
        "outputId": "1e9d43bd-c09c-4a5d-9b00-f05a255cd8c3"
      },
      "execution_count": null,
      "outputs": [
        {
          "output_type": "execute_result",
          "data": {
            "text/plain": [
              "                                                   title  \\\n",
              "36547  real fourth_dimension evolution heavy quark_ch...   \n",
              "36548  tinge electric correlation_coefficient functio...   \n",
              "36549  study pion pion disperse combination propagato...   \n",
              "36550  overtone beckon mix hamiltonian effective fiel...   \n",
              "36551            wicket barn kind component radius v_ cb   \n",
              "\n",
              "                                                abstract category  \n",
              "36547  introduce fresh real time conceptualization la...  hep-lat  \n",
              "36548  report_card build_up cogitation color electric...  hep-lat  \n",
              "36549  wallpaper report Holocene development hal quan...  hep-lat  \n",
              "36550  spectrum excite state note finite volume latti...  hep-lat  \n",
              "36551  discourse late progress lattice calculation Be...  hep-lat  "
            ],
            "text/html": [
              "\n",
              "  <div id=\"df-38a03a0f-0b51-4183-90f7-bb41b87faa46\">\n",
              "    <div class=\"colab-df-container\">\n",
              "      <div>\n",
              "<style scoped>\n",
              "    .dataframe tbody tr th:only-of-type {\n",
              "        vertical-align: middle;\n",
              "    }\n",
              "\n",
              "    .dataframe tbody tr th {\n",
              "        vertical-align: top;\n",
              "    }\n",
              "\n",
              "    .dataframe thead th {\n",
              "        text-align: right;\n",
              "    }\n",
              "</style>\n",
              "<table border=\"1\" class=\"dataframe\">\n",
              "  <thead>\n",
              "    <tr style=\"text-align: right;\">\n",
              "      <th></th>\n",
              "      <th>title</th>\n",
              "      <th>abstract</th>\n",
              "      <th>category</th>\n",
              "    </tr>\n",
              "  </thead>\n",
              "  <tbody>\n",
              "    <tr>\n",
              "      <th>36547</th>\n",
              "      <td>real fourth_dimension evolution heavy quark_ch...</td>\n",
              "      <td>introduce fresh real time conceptualization la...</td>\n",
              "      <td>hep-lat</td>\n",
              "    </tr>\n",
              "    <tr>\n",
              "      <th>36548</th>\n",
              "      <td>tinge electric correlation_coefficient functio...</td>\n",
              "      <td>report_card build_up cogitation color electric...</td>\n",
              "      <td>hep-lat</td>\n",
              "    </tr>\n",
              "    <tr>\n",
              "      <th>36549</th>\n",
              "      <td>study pion pion disperse combination propagato...</td>\n",
              "      <td>wallpaper report Holocene development hal quan...</td>\n",
              "      <td>hep-lat</td>\n",
              "    </tr>\n",
              "    <tr>\n",
              "      <th>36550</th>\n",
              "      <td>overtone beckon mix hamiltonian effective fiel...</td>\n",
              "      <td>spectrum excite state note finite volume latti...</td>\n",
              "      <td>hep-lat</td>\n",
              "    </tr>\n",
              "    <tr>\n",
              "      <th>36551</th>\n",
              "      <td>wicket barn kind component radius v_ cb</td>\n",
              "      <td>discourse late progress lattice calculation Be...</td>\n",
              "      <td>hep-lat</td>\n",
              "    </tr>\n",
              "  </tbody>\n",
              "</table>\n",
              "</div>\n",
              "      <button class=\"colab-df-convert\" onclick=\"convertToInteractive('df-38a03a0f-0b51-4183-90f7-bb41b87faa46')\"\n",
              "              title=\"Convert this dataframe to an interactive table.\"\n",
              "              style=\"display:none;\">\n",
              "        \n",
              "  <svg xmlns=\"http://www.w3.org/2000/svg\" height=\"24px\"viewBox=\"0 0 24 24\"\n",
              "       width=\"24px\">\n",
              "    <path d=\"M0 0h24v24H0V0z\" fill=\"none\"/>\n",
              "    <path d=\"M18.56 5.44l.94 2.06.94-2.06 2.06-.94-2.06-.94-.94-2.06-.94 2.06-2.06.94zm-11 1L8.5 8.5l.94-2.06 2.06-.94-2.06-.94L8.5 2.5l-.94 2.06-2.06.94zm10 10l.94 2.06.94-2.06 2.06-.94-2.06-.94-.94-2.06-.94 2.06-2.06.94z\"/><path d=\"M17.41 7.96l-1.37-1.37c-.4-.4-.92-.59-1.43-.59-.52 0-1.04.2-1.43.59L10.3 9.45l-7.72 7.72c-.78.78-.78 2.05 0 2.83L4 21.41c.39.39.9.59 1.41.59.51 0 1.02-.2 1.41-.59l7.78-7.78 2.81-2.81c.8-.78.8-2.07 0-2.86zM5.41 20L4 18.59l7.72-7.72 1.47 1.35L5.41 20z\"/>\n",
              "  </svg>\n",
              "      </button>\n",
              "      \n",
              "  <style>\n",
              "    .colab-df-container {\n",
              "      display:flex;\n",
              "      flex-wrap:wrap;\n",
              "      gap: 12px;\n",
              "    }\n",
              "\n",
              "    .colab-df-convert {\n",
              "      background-color: #E8F0FE;\n",
              "      border: none;\n",
              "      border-radius: 50%;\n",
              "      cursor: pointer;\n",
              "      display: none;\n",
              "      fill: #1967D2;\n",
              "      height: 32px;\n",
              "      padding: 0 0 0 0;\n",
              "      width: 32px;\n",
              "    }\n",
              "\n",
              "    .colab-df-convert:hover {\n",
              "      background-color: #E2EBFA;\n",
              "      box-shadow: 0px 1px 2px rgba(60, 64, 67, 0.3), 0px 1px 3px 1px rgba(60, 64, 67, 0.15);\n",
              "      fill: #174EA6;\n",
              "    }\n",
              "\n",
              "    [theme=dark] .colab-df-convert {\n",
              "      background-color: #3B4455;\n",
              "      fill: #D2E3FC;\n",
              "    }\n",
              "\n",
              "    [theme=dark] .colab-df-convert:hover {\n",
              "      background-color: #434B5C;\n",
              "      box-shadow: 0px 1px 3px 1px rgba(0, 0, 0, 0.15);\n",
              "      filter: drop-shadow(0px 1px 2px rgba(0, 0, 0, 0.3));\n",
              "      fill: #FFFFFF;\n",
              "    }\n",
              "  </style>\n",
              "\n",
              "      <script>\n",
              "        const buttonEl =\n",
              "          document.querySelector('#df-38a03a0f-0b51-4183-90f7-bb41b87faa46 button.colab-df-convert');\n",
              "        buttonEl.style.display =\n",
              "          google.colab.kernel.accessAllowed ? 'block' : 'none';\n",
              "\n",
              "        async function convertToInteractive(key) {\n",
              "          const element = document.querySelector('#df-38a03a0f-0b51-4183-90f7-bb41b87faa46');\n",
              "          const dataTable =\n",
              "            await google.colab.kernel.invokeFunction('convertToInteractive',\n",
              "                                                     [key], {});\n",
              "          if (!dataTable) return;\n",
              "\n",
              "          const docLinkHtml = 'Like what you see? Visit the ' +\n",
              "            '<a target=\"_blank\" href=https://colab.research.google.com/notebooks/data_table.ipynb>data table notebook</a>'\n",
              "            + ' to learn more about interactive tables.';\n",
              "          element.innerHTML = '';\n",
              "          dataTable['output_type'] = 'display_data';\n",
              "          await google.colab.output.renderOutput(dataTable, element);\n",
              "          const docLink = document.createElement('div');\n",
              "          docLink.innerHTML = docLinkHtml;\n",
              "          element.appendChild(docLink);\n",
              "        }\n",
              "      </script>\n",
              "    </div>\n",
              "  </div>\n",
              "  "
            ]
          },
          "metadata": {},
          "execution_count": 22
        }
      ]
    },
    {
      "cell_type": "code",
      "source": [
        "#comparision with the original\n",
        "df.tail()"
      ],
      "metadata": {
        "id": "ZmTAIZbegkOs",
        "colab": {
          "base_uri": "https://localhost:8080/",
          "height": 206
        },
        "outputId": "c2998877-2ef1-41b1-ff12-02e44e835645"
      },
      "execution_count": null,
      "outputs": [
        {
          "output_type": "execute_result",
          "data": {
            "text/plain": [
              "                id                                              title  \\\n",
              "861212  2102.00941  fast greedy subset selection large candidate s...   \n",
              "861221  2106.06956                billiard tables rotational symmetry   \n",
              "861222  1909.02882  implications increased lambda separation energ...   \n",
              "861226  1902.05287  risk management machine learning based algorithms   \n",
              "861233  1904.00375  lightchain dht based blockchain resource const...   \n",
              "\n",
              "                                                 abstract category  \n",
              "861212  subset selection interesting important topic f...       cs  \n",
              "861221  generalize following simple geometric fact cen...     math  \n",
              "861222  stimulated recent indications binding energy h...  nucl-th  \n",
              "861226  propose machine learning based algorithms solv...    q-fin  \n",
              "861233  append distributed database blockchain utilize...       cs  "
            ],
            "text/html": [
              "\n",
              "  <div id=\"df-c0048255-008f-4ca6-99b6-3babbabf1ec9\">\n",
              "    <div class=\"colab-df-container\">\n",
              "      <div>\n",
              "<style scoped>\n",
              "    .dataframe tbody tr th:only-of-type {\n",
              "        vertical-align: middle;\n",
              "    }\n",
              "\n",
              "    .dataframe tbody tr th {\n",
              "        vertical-align: top;\n",
              "    }\n",
              "\n",
              "    .dataframe thead th {\n",
              "        text-align: right;\n",
              "    }\n",
              "</style>\n",
              "<table border=\"1\" class=\"dataframe\">\n",
              "  <thead>\n",
              "    <tr style=\"text-align: right;\">\n",
              "      <th></th>\n",
              "      <th>id</th>\n",
              "      <th>title</th>\n",
              "      <th>abstract</th>\n",
              "      <th>category</th>\n",
              "    </tr>\n",
              "  </thead>\n",
              "  <tbody>\n",
              "    <tr>\n",
              "      <th>861212</th>\n",
              "      <td>2102.00941</td>\n",
              "      <td>fast greedy subset selection large candidate s...</td>\n",
              "      <td>subset selection interesting important topic f...</td>\n",
              "      <td>cs</td>\n",
              "    </tr>\n",
              "    <tr>\n",
              "      <th>861221</th>\n",
              "      <td>2106.06956</td>\n",
              "      <td>billiard tables rotational symmetry</td>\n",
              "      <td>generalize following simple geometric fact cen...</td>\n",
              "      <td>math</td>\n",
              "    </tr>\n",
              "    <tr>\n",
              "      <th>861222</th>\n",
              "      <td>1909.02882</td>\n",
              "      <td>implications increased lambda separation energ...</td>\n",
              "      <td>stimulated recent indications binding energy h...</td>\n",
              "      <td>nucl-th</td>\n",
              "    </tr>\n",
              "    <tr>\n",
              "      <th>861226</th>\n",
              "      <td>1902.05287</td>\n",
              "      <td>risk management machine learning based algorithms</td>\n",
              "      <td>propose machine learning based algorithms solv...</td>\n",
              "      <td>q-fin</td>\n",
              "    </tr>\n",
              "    <tr>\n",
              "      <th>861233</th>\n",
              "      <td>1904.00375</td>\n",
              "      <td>lightchain dht based blockchain resource const...</td>\n",
              "      <td>append distributed database blockchain utilize...</td>\n",
              "      <td>cs</td>\n",
              "    </tr>\n",
              "  </tbody>\n",
              "</table>\n",
              "</div>\n",
              "      <button class=\"colab-df-convert\" onclick=\"convertToInteractive('df-c0048255-008f-4ca6-99b6-3babbabf1ec9')\"\n",
              "              title=\"Convert this dataframe to an interactive table.\"\n",
              "              style=\"display:none;\">\n",
              "        \n",
              "  <svg xmlns=\"http://www.w3.org/2000/svg\" height=\"24px\"viewBox=\"0 0 24 24\"\n",
              "       width=\"24px\">\n",
              "    <path d=\"M0 0h24v24H0V0z\" fill=\"none\"/>\n",
              "    <path d=\"M18.56 5.44l.94 2.06.94-2.06 2.06-.94-2.06-.94-.94-2.06-.94 2.06-2.06.94zm-11 1L8.5 8.5l.94-2.06 2.06-.94-2.06-.94L8.5 2.5l-.94 2.06-2.06.94zm10 10l.94 2.06.94-2.06 2.06-.94-2.06-.94-.94-2.06-.94 2.06-2.06.94z\"/><path d=\"M17.41 7.96l-1.37-1.37c-.4-.4-.92-.59-1.43-.59-.52 0-1.04.2-1.43.59L10.3 9.45l-7.72 7.72c-.78.78-.78 2.05 0 2.83L4 21.41c.39.39.9.59 1.41.59.51 0 1.02-.2 1.41-.59l7.78-7.78 2.81-2.81c.8-.78.8-2.07 0-2.86zM5.41 20L4 18.59l7.72-7.72 1.47 1.35L5.41 20z\"/>\n",
              "  </svg>\n",
              "      </button>\n",
              "      \n",
              "  <style>\n",
              "    .colab-df-container {\n",
              "      display:flex;\n",
              "      flex-wrap:wrap;\n",
              "      gap: 12px;\n",
              "    }\n",
              "\n",
              "    .colab-df-convert {\n",
              "      background-color: #E8F0FE;\n",
              "      border: none;\n",
              "      border-radius: 50%;\n",
              "      cursor: pointer;\n",
              "      display: none;\n",
              "      fill: #1967D2;\n",
              "      height: 32px;\n",
              "      padding: 0 0 0 0;\n",
              "      width: 32px;\n",
              "    }\n",
              "\n",
              "    .colab-df-convert:hover {\n",
              "      background-color: #E2EBFA;\n",
              "      box-shadow: 0px 1px 2px rgba(60, 64, 67, 0.3), 0px 1px 3px 1px rgba(60, 64, 67, 0.15);\n",
              "      fill: #174EA6;\n",
              "    }\n",
              "\n",
              "    [theme=dark] .colab-df-convert {\n",
              "      background-color: #3B4455;\n",
              "      fill: #D2E3FC;\n",
              "    }\n",
              "\n",
              "    [theme=dark] .colab-df-convert:hover {\n",
              "      background-color: #434B5C;\n",
              "      box-shadow: 0px 1px 3px 1px rgba(0, 0, 0, 0.15);\n",
              "      filter: drop-shadow(0px 1px 2px rgba(0, 0, 0, 0.3));\n",
              "      fill: #FFFFFF;\n",
              "    }\n",
              "  </style>\n",
              "\n",
              "      <script>\n",
              "        const buttonEl =\n",
              "          document.querySelector('#df-c0048255-008f-4ca6-99b6-3babbabf1ec9 button.colab-df-convert');\n",
              "        buttonEl.style.display =\n",
              "          google.colab.kernel.accessAllowed ? 'block' : 'none';\n",
              "\n",
              "        async function convertToInteractive(key) {\n",
              "          const element = document.querySelector('#df-c0048255-008f-4ca6-99b6-3babbabf1ec9');\n",
              "          const dataTable =\n",
              "            await google.colab.kernel.invokeFunction('convertToInteractive',\n",
              "                                                     [key], {});\n",
              "          if (!dataTable) return;\n",
              "\n",
              "          const docLinkHtml = 'Like what you see? Visit the ' +\n",
              "            '<a target=\"_blank\" href=https://colab.research.google.com/notebooks/data_table.ipynb>data table notebook</a>'\n",
              "            + ' to learn more about interactive tables.';\n",
              "          element.innerHTML = '';\n",
              "          dataTable['output_type'] = 'display_data';\n",
              "          await google.colab.output.renderOutput(dataTable, element);\n",
              "          const docLink = document.createElement('div');\n",
              "          docLink.innerHTML = docLinkHtml;\n",
              "          element.appendChild(docLink);\n",
              "        }\n",
              "      </script>\n",
              "    </div>\n",
              "  </div>\n",
              "  "
            ]
          },
          "metadata": {},
          "execution_count": 23
        }
      ]
    },
    {
      "cell_type": "code",
      "source": [
        "#final_df = pd.concat([df, result_df], ignore_index=True)"
      ],
      "metadata": {
        "id": "R62JgRR-H8gC"
      },
      "execution_count": null,
      "outputs": []
    },
    {
      "cell_type": "code",
      "source": [
        "#final_df.tail()"
      ],
      "metadata": {
        "id": "MUTjUFG8JvLe"
      },
      "execution_count": null,
      "outputs": []
    },
    {
      "cell_type": "code",
      "source": [
        "# Shuffling a Pandas dataframe with .shuffle()\n",
        "#Shuffle gareko because category wise serially xa data haru\n",
        "shuffled = result_df.sample(frac=1)"
      ],
      "metadata": {
        "id": "Pb7uKv6Il-ta"
      },
      "execution_count": null,
      "outputs": []
    },
    {
      "cell_type": "code",
      "source": [
        "shuffled.head()"
      ],
      "metadata": {
        "id": "1BI1Bwlgn4bq",
        "colab": {
          "base_uri": "https://localhost:8080/",
          "height": 206
        },
        "outputId": "d98fc54e-7f50-4b7a-f817-51205c720a8c"
      },
      "execution_count": null,
      "outputs": [
        {
          "output_type": "execute_result",
          "data": {
            "text/plain": [
              "                                                   title  \\\n",
              "30107  stable spatially set shape simple structure gl...   \n",
              "23910  remark consecutive single pion output explain ...   \n",
              "10496        repurposing surround framework tr screening   \n",
              "22819  lambda bar lambda spin interaction meson field...   \n",
              "9811   discrepancy finite difference method_acting re...   \n",
              "\n",
              "                                                abstract category  \n",
              "30107  revisit classic constancy problem buckle nonex...     nlin  \n",
              "23910  arxiv 2102 05575 two tone march pn pp private_...  nucl-th  \n",
              "10496  drug repurposing overture chemically diverse p...    q-bio  \n",
              "22819  propose dynamic mechanism provide interaction ...  nucl-th  \n",
              "9811   parametric sensitivity analysis critical compo...    q-bio  "
            ],
            "text/html": [
              "\n",
              "  <div id=\"df-090e5b71-02a4-4f77-a7a6-1720d0e0b798\">\n",
              "    <div class=\"colab-df-container\">\n",
              "      <div>\n",
              "<style scoped>\n",
              "    .dataframe tbody tr th:only-of-type {\n",
              "        vertical-align: middle;\n",
              "    }\n",
              "\n",
              "    .dataframe tbody tr th {\n",
              "        vertical-align: top;\n",
              "    }\n",
              "\n",
              "    .dataframe thead th {\n",
              "        text-align: right;\n",
              "    }\n",
              "</style>\n",
              "<table border=\"1\" class=\"dataframe\">\n",
              "  <thead>\n",
              "    <tr style=\"text-align: right;\">\n",
              "      <th></th>\n",
              "      <th>title</th>\n",
              "      <th>abstract</th>\n",
              "      <th>category</th>\n",
              "    </tr>\n",
              "  </thead>\n",
              "  <tbody>\n",
              "    <tr>\n",
              "      <th>30107</th>\n",
              "      <td>stable spatially set shape simple structure gl...</td>\n",
              "      <td>revisit classic constancy problem buckle nonex...</td>\n",
              "      <td>nlin</td>\n",
              "    </tr>\n",
              "    <tr>\n",
              "      <th>23910</th>\n",
              "      <td>remark consecutive single pion output explain ...</td>\n",
              "      <td>arxiv 2102 05575 two tone march pn pp private_...</td>\n",
              "      <td>nucl-th</td>\n",
              "    </tr>\n",
              "    <tr>\n",
              "      <th>10496</th>\n",
              "      <td>repurposing surround framework tr screening</td>\n",
              "      <td>drug repurposing overture chemically diverse p...</td>\n",
              "      <td>q-bio</td>\n",
              "    </tr>\n",
              "    <tr>\n",
              "      <th>22819</th>\n",
              "      <td>lambda bar lambda spin interaction meson field...</td>\n",
              "      <td>propose dynamic mechanism provide interaction ...</td>\n",
              "      <td>nucl-th</td>\n",
              "    </tr>\n",
              "    <tr>\n",
              "      <th>9811</th>\n",
              "      <td>discrepancy finite difference method_acting re...</td>\n",
              "      <td>parametric sensitivity analysis critical compo...</td>\n",
              "      <td>q-bio</td>\n",
              "    </tr>\n",
              "  </tbody>\n",
              "</table>\n",
              "</div>\n",
              "      <button class=\"colab-df-convert\" onclick=\"convertToInteractive('df-090e5b71-02a4-4f77-a7a6-1720d0e0b798')\"\n",
              "              title=\"Convert this dataframe to an interactive table.\"\n",
              "              style=\"display:none;\">\n",
              "        \n",
              "  <svg xmlns=\"http://www.w3.org/2000/svg\" height=\"24px\"viewBox=\"0 0 24 24\"\n",
              "       width=\"24px\">\n",
              "    <path d=\"M0 0h24v24H0V0z\" fill=\"none\"/>\n",
              "    <path d=\"M18.56 5.44l.94 2.06.94-2.06 2.06-.94-2.06-.94-.94-2.06-.94 2.06-2.06.94zm-11 1L8.5 8.5l.94-2.06 2.06-.94-2.06-.94L8.5 2.5l-.94 2.06-2.06.94zm10 10l.94 2.06.94-2.06 2.06-.94-2.06-.94-.94-2.06-.94 2.06-2.06.94z\"/><path d=\"M17.41 7.96l-1.37-1.37c-.4-.4-.92-.59-1.43-.59-.52 0-1.04.2-1.43.59L10.3 9.45l-7.72 7.72c-.78.78-.78 2.05 0 2.83L4 21.41c.39.39.9.59 1.41.59.51 0 1.02-.2 1.41-.59l7.78-7.78 2.81-2.81c.8-.78.8-2.07 0-2.86zM5.41 20L4 18.59l7.72-7.72 1.47 1.35L5.41 20z\"/>\n",
              "  </svg>\n",
              "      </button>\n",
              "      \n",
              "  <style>\n",
              "    .colab-df-container {\n",
              "      display:flex;\n",
              "      flex-wrap:wrap;\n",
              "      gap: 12px;\n",
              "    }\n",
              "\n",
              "    .colab-df-convert {\n",
              "      background-color: #E8F0FE;\n",
              "      border: none;\n",
              "      border-radius: 50%;\n",
              "      cursor: pointer;\n",
              "      display: none;\n",
              "      fill: #1967D2;\n",
              "      height: 32px;\n",
              "      padding: 0 0 0 0;\n",
              "      width: 32px;\n",
              "    }\n",
              "\n",
              "    .colab-df-convert:hover {\n",
              "      background-color: #E2EBFA;\n",
              "      box-shadow: 0px 1px 2px rgba(60, 64, 67, 0.3), 0px 1px 3px 1px rgba(60, 64, 67, 0.15);\n",
              "      fill: #174EA6;\n",
              "    }\n",
              "\n",
              "    [theme=dark] .colab-df-convert {\n",
              "      background-color: #3B4455;\n",
              "      fill: #D2E3FC;\n",
              "    }\n",
              "\n",
              "    [theme=dark] .colab-df-convert:hover {\n",
              "      background-color: #434B5C;\n",
              "      box-shadow: 0px 1px 3px 1px rgba(0, 0, 0, 0.15);\n",
              "      filter: drop-shadow(0px 1px 2px rgba(0, 0, 0, 0.3));\n",
              "      fill: #FFFFFF;\n",
              "    }\n",
              "  </style>\n",
              "\n",
              "      <script>\n",
              "        const buttonEl =\n",
              "          document.querySelector('#df-090e5b71-02a4-4f77-a7a6-1720d0e0b798 button.colab-df-convert');\n",
              "        buttonEl.style.display =\n",
              "          google.colab.kernel.accessAllowed ? 'block' : 'none';\n",
              "\n",
              "        async function convertToInteractive(key) {\n",
              "          const element = document.querySelector('#df-090e5b71-02a4-4f77-a7a6-1720d0e0b798');\n",
              "          const dataTable =\n",
              "            await google.colab.kernel.invokeFunction('convertToInteractive',\n",
              "                                                     [key], {});\n",
              "          if (!dataTable) return;\n",
              "\n",
              "          const docLinkHtml = 'Like what you see? Visit the ' +\n",
              "            '<a target=\"_blank\" href=https://colab.research.google.com/notebooks/data_table.ipynb>data table notebook</a>'\n",
              "            + ' to learn more about interactive tables.';\n",
              "          element.innerHTML = '';\n",
              "          dataTable['output_type'] = 'display_data';\n",
              "          await google.colab.output.renderOutput(dataTable, element);\n",
              "          const docLink = document.createElement('div');\n",
              "          docLink.innerHTML = docLinkHtml;\n",
              "          element.appendChild(docLink);\n",
              "        }\n",
              "      </script>\n",
              "    </div>\n",
              "  </div>\n",
              "  "
            ]
          },
          "metadata": {},
          "execution_count": 27
        }
      ]
    },
    {
      "cell_type": "code",
      "source": [
        "#Thorai vako class ma add garne kaam sakkiyo\n",
        "#So aba dherai vako class bata remove garna try garam"
      ],
      "metadata": {
        "id": "lPdZ5sPN2pkH"
      },
      "execution_count": null,
      "outputs": []
    },
    {
      "cell_type": "code",
      "source": [
        "#dherai data vako class haru\n",
        "cs=df.loc[df['category'] == 'cs']\n",
        "math = df.loc[df['category'] == 'math']\n",
        "cond_mat = df.loc[df['category'] == 'cond-mat']"
      ],
      "metadata": {
        "id": "dWIp3OKX2pmX"
      },
      "execution_count": null,
      "outputs": []
    },
    {
      "cell_type": "code",
      "source": [
        "#Let's make a dataframe containing these 3 categories\n",
        "major = pd.concat([cs, math, cond_mat], axis=0)"
      ],
      "metadata": {
        "id": "51SVeRaB2pod"
      },
      "execution_count": null,
      "outputs": []
    },
    {
      "cell_type": "code",
      "source": [
        "major.tail()"
      ],
      "metadata": {
        "id": "GSRmdWWx2pqd",
        "colab": {
          "base_uri": "https://localhost:8080/",
          "height": 206
        },
        "outputId": "951eaa6a-8634-49dc-ca3e-245cd9b11c78"
      },
      "execution_count": null,
      "outputs": [
        {
          "output_type": "execute_result",
          "data": {
            "text/plain": [
              "                id                                              title  \\\n",
              "861114  2006.00349  ii vi organic inorganic hybrid nanostructures ...   \n",
              "861136  2106.05721  self oscillation synchronisation transitions e...   \n",
              "861171  2011.13215  oscillatory shear flows dense suspensions impo...   \n",
              "861192  2103.09143                         maximal diversity zipf law   \n",
              "861199  2005.09337  local thickness composition measurements scann...   \n",
              "\n",
              "                                                 abstract  category  \n",
              "861114  organic inorganic hybrids may offer material p...  cond-mat  \n",
              "861136  interplay activity elasticity often found acti...  cond-mat  \n",
              "861171  oscillatory shear widely used study rheologica...  cond-mat  \n",
              "861192  zipf law describes empirical size distribution...  cond-mat  \n",
              "861199  measured local composition thickness sio2 base...  cond-mat  "
            ],
            "text/html": [
              "\n",
              "  <div id=\"df-a65bb57f-2a4b-482c-912e-db057b27d9cd\">\n",
              "    <div class=\"colab-df-container\">\n",
              "      <div>\n",
              "<style scoped>\n",
              "    .dataframe tbody tr th:only-of-type {\n",
              "        vertical-align: middle;\n",
              "    }\n",
              "\n",
              "    .dataframe tbody tr th {\n",
              "        vertical-align: top;\n",
              "    }\n",
              "\n",
              "    .dataframe thead th {\n",
              "        text-align: right;\n",
              "    }\n",
              "</style>\n",
              "<table border=\"1\" class=\"dataframe\">\n",
              "  <thead>\n",
              "    <tr style=\"text-align: right;\">\n",
              "      <th></th>\n",
              "      <th>id</th>\n",
              "      <th>title</th>\n",
              "      <th>abstract</th>\n",
              "      <th>category</th>\n",
              "    </tr>\n",
              "  </thead>\n",
              "  <tbody>\n",
              "    <tr>\n",
              "      <th>861114</th>\n",
              "      <td>2006.00349</td>\n",
              "      <td>ii vi organic inorganic hybrid nanostructures ...</td>\n",
              "      <td>organic inorganic hybrids may offer material p...</td>\n",
              "      <td>cond-mat</td>\n",
              "    </tr>\n",
              "    <tr>\n",
              "      <th>861136</th>\n",
              "      <td>2106.05721</td>\n",
              "      <td>self oscillation synchronisation transitions e...</td>\n",
              "      <td>interplay activity elasticity often found acti...</td>\n",
              "      <td>cond-mat</td>\n",
              "    </tr>\n",
              "    <tr>\n",
              "      <th>861171</th>\n",
              "      <td>2011.13215</td>\n",
              "      <td>oscillatory shear flows dense suspensions impo...</td>\n",
              "      <td>oscillatory shear widely used study rheologica...</td>\n",
              "      <td>cond-mat</td>\n",
              "    </tr>\n",
              "    <tr>\n",
              "      <th>861192</th>\n",
              "      <td>2103.09143</td>\n",
              "      <td>maximal diversity zipf law</td>\n",
              "      <td>zipf law describes empirical size distribution...</td>\n",
              "      <td>cond-mat</td>\n",
              "    </tr>\n",
              "    <tr>\n",
              "      <th>861199</th>\n",
              "      <td>2005.09337</td>\n",
              "      <td>local thickness composition measurements scann...</td>\n",
              "      <td>measured local composition thickness sio2 base...</td>\n",
              "      <td>cond-mat</td>\n",
              "    </tr>\n",
              "  </tbody>\n",
              "</table>\n",
              "</div>\n",
              "      <button class=\"colab-df-convert\" onclick=\"convertToInteractive('df-a65bb57f-2a4b-482c-912e-db057b27d9cd')\"\n",
              "              title=\"Convert this dataframe to an interactive table.\"\n",
              "              style=\"display:none;\">\n",
              "        \n",
              "  <svg xmlns=\"http://www.w3.org/2000/svg\" height=\"24px\"viewBox=\"0 0 24 24\"\n",
              "       width=\"24px\">\n",
              "    <path d=\"M0 0h24v24H0V0z\" fill=\"none\"/>\n",
              "    <path d=\"M18.56 5.44l.94 2.06.94-2.06 2.06-.94-2.06-.94-.94-2.06-.94 2.06-2.06.94zm-11 1L8.5 8.5l.94-2.06 2.06-.94-2.06-.94L8.5 2.5l-.94 2.06-2.06.94zm10 10l.94 2.06.94-2.06 2.06-.94-2.06-.94-.94-2.06-.94 2.06-2.06.94z\"/><path d=\"M17.41 7.96l-1.37-1.37c-.4-.4-.92-.59-1.43-.59-.52 0-1.04.2-1.43.59L10.3 9.45l-7.72 7.72c-.78.78-.78 2.05 0 2.83L4 21.41c.39.39.9.59 1.41.59.51 0 1.02-.2 1.41-.59l7.78-7.78 2.81-2.81c.8-.78.8-2.07 0-2.86zM5.41 20L4 18.59l7.72-7.72 1.47 1.35L5.41 20z\"/>\n",
              "  </svg>\n",
              "      </button>\n",
              "      \n",
              "  <style>\n",
              "    .colab-df-container {\n",
              "      display:flex;\n",
              "      flex-wrap:wrap;\n",
              "      gap: 12px;\n",
              "    }\n",
              "\n",
              "    .colab-df-convert {\n",
              "      background-color: #E8F0FE;\n",
              "      border: none;\n",
              "      border-radius: 50%;\n",
              "      cursor: pointer;\n",
              "      display: none;\n",
              "      fill: #1967D2;\n",
              "      height: 32px;\n",
              "      padding: 0 0 0 0;\n",
              "      width: 32px;\n",
              "    }\n",
              "\n",
              "    .colab-df-convert:hover {\n",
              "      background-color: #E2EBFA;\n",
              "      box-shadow: 0px 1px 2px rgba(60, 64, 67, 0.3), 0px 1px 3px 1px rgba(60, 64, 67, 0.15);\n",
              "      fill: #174EA6;\n",
              "    }\n",
              "\n",
              "    [theme=dark] .colab-df-convert {\n",
              "      background-color: #3B4455;\n",
              "      fill: #D2E3FC;\n",
              "    }\n",
              "\n",
              "    [theme=dark] .colab-df-convert:hover {\n",
              "      background-color: #434B5C;\n",
              "      box-shadow: 0px 1px 3px 1px rgba(0, 0, 0, 0.15);\n",
              "      filter: drop-shadow(0px 1px 2px rgba(0, 0, 0, 0.3));\n",
              "      fill: #FFFFFF;\n",
              "    }\n",
              "  </style>\n",
              "\n",
              "      <script>\n",
              "        const buttonEl =\n",
              "          document.querySelector('#df-a65bb57f-2a4b-482c-912e-db057b27d9cd button.colab-df-convert');\n",
              "        buttonEl.style.display =\n",
              "          google.colab.kernel.accessAllowed ? 'block' : 'none';\n",
              "\n",
              "        async function convertToInteractive(key) {\n",
              "          const element = document.querySelector('#df-a65bb57f-2a4b-482c-912e-db057b27d9cd');\n",
              "          const dataTable =\n",
              "            await google.colab.kernel.invokeFunction('convertToInteractive',\n",
              "                                                     [key], {});\n",
              "          if (!dataTable) return;\n",
              "\n",
              "          const docLinkHtml = 'Like what you see? Visit the ' +\n",
              "            '<a target=\"_blank\" href=https://colab.research.google.com/notebooks/data_table.ipynb>data table notebook</a>'\n",
              "            + ' to learn more about interactive tables.';\n",
              "          element.innerHTML = '';\n",
              "          dataTable['output_type'] = 'display_data';\n",
              "          await google.colab.output.renderOutput(dataTable, element);\n",
              "          const docLink = document.createElement('div');\n",
              "          docLink.innerHTML = docLinkHtml;\n",
              "          element.appendChild(docLink);\n",
              "        }\n",
              "      </script>\n",
              "    </div>\n",
              "  </div>\n",
              "  "
            ]
          },
          "metadata": {},
          "execution_count": 31
        }
      ]
    },
    {
      "cell_type": "code",
      "source": [
        "# Separating the independent variables from dependent variables\n",
        "#major dataframe bata matra\n",
        "X = major.iloc[:,1:-1]\n",
        "y = major.iloc[:,-1]"
      ],
      "metadata": {
        "id": "CeeDTnpn2psl"
      },
      "execution_count": null,
      "outputs": []
    },
    {
      "cell_type": "code",
      "source": [
        "#Now, let's do undersampling\n",
        "from sklearn.datasets import make_classification\n",
        "from sklearn.model_selection import train_test_split\n",
        "from imblearn.under_sampling import RandomUnderSampler"
      ],
      "metadata": {
        "id": "xwUCj_E92puu"
      },
      "execution_count": null,
      "outputs": []
    },
    {
      "cell_type": "code",
      "source": [
        "# Apply the random under-sampling\n",
        "rus = RandomUnderSampler(random_state=0)\n",
        "X_resampled, y_resampled = rus.fit_resample(X, y)"
      ],
      "metadata": {
        "id": "oX7lSDtO3i94"
      },
      "execution_count": null,
      "outputs": []
    },
    {
      "cell_type": "code",
      "source": [
        "len(X_resampled), len(X)"
      ],
      "metadata": {
        "id": "QQvfoB-m3jBf",
        "colab": {
          "base_uri": "https://localhost:8080/"
        },
        "outputId": "f086d736-55bc-4fdd-96ee-336d8bf5484c"
      },
      "execution_count": null,
      "outputs": [
        {
          "output_type": "execute_result",
          "data": {
            "text/plain": [
              "(128358, 287200)"
            ]
          },
          "metadata": {},
          "execution_count": 35
        }
      ]
    },
    {
      "cell_type": "code",
      "source": [
        "#X_resampled, y_resampled vaneko 3ta class ko dherai data lai thorai banayepachi ko ho hai\n",
        "y_resampled.head()"
      ],
      "metadata": {
        "id": "_ip_Zi073jMW",
        "colab": {
          "base_uri": "https://localhost:8080/"
        },
        "outputId": "88a21f9a-c50c-4a82-fc44-377d2685b11a"
      },
      "execution_count": null,
      "outputs": [
        {
          "output_type": "execute_result",
          "data": {
            "text/plain": [
              "0    cond-mat\n",
              "1    cond-mat\n",
              "2    cond-mat\n",
              "3    cond-mat\n",
              "4    cond-mat\n",
              "Name: category, dtype: object"
            ]
          },
          "metadata": {},
          "execution_count": 36
        }
      ]
    },
    {
      "cell_type": "code",
      "source": [
        "#Now let's combine X_resampled and y_resampled into a new dataframe --reduced\n",
        "reduced = pd.concat([X_resampled, y_resampled], axis = 1)"
      ],
      "metadata": {
        "id": "HjFj62p535jw"
      },
      "execution_count": null,
      "outputs": []
    },
    {
      "cell_type": "code",
      "source": [
        "#Visualize\n",
        "reduced.tail()"
      ],
      "metadata": {
        "id": "M9Nrawx435l0",
        "colab": {
          "base_uri": "https://localhost:8080/",
          "height": 206
        },
        "outputId": "3331f691-a0a6-439c-b8fb-28dfaa74a4f6"
      },
      "execution_count": null,
      "outputs": [
        {
          "output_type": "execute_result",
          "data": {
            "text/plain": [
              "                                                    title  \\\n",
              "128353  measure rigidity solvable group actions space ...   \n",
              "128354  monotone lagrangian submanifolds mathbb c n to...   \n",
              "128355  numerical evidence towards positive answer mor...   \n",
              "128356  existence stationary fronts system two coupled...   \n",
              "128357                       1 absorbing prime submodules   \n",
              "\n",
              "                                                 abstract category  \n",
              "128353  study invariant probability measures homogeneo...     math  \n",
              "128354  mironov panov kotelskiy studied hamiltonian mi...     math  \n",
              "128355  report numerical experiments suggesting rank o...     math  \n",
              "128356  investigate existence stationary fronts couple...     math  \n",
              "128357  study aim introduce concept 1 absorbing prime ...     math  "
            ],
            "text/html": [
              "\n",
              "  <div id=\"df-f9445704-c10d-4f85-9d2b-9ae9ac87b99c\">\n",
              "    <div class=\"colab-df-container\">\n",
              "      <div>\n",
              "<style scoped>\n",
              "    .dataframe tbody tr th:only-of-type {\n",
              "        vertical-align: middle;\n",
              "    }\n",
              "\n",
              "    .dataframe tbody tr th {\n",
              "        vertical-align: top;\n",
              "    }\n",
              "\n",
              "    .dataframe thead th {\n",
              "        text-align: right;\n",
              "    }\n",
              "</style>\n",
              "<table border=\"1\" class=\"dataframe\">\n",
              "  <thead>\n",
              "    <tr style=\"text-align: right;\">\n",
              "      <th></th>\n",
              "      <th>title</th>\n",
              "      <th>abstract</th>\n",
              "      <th>category</th>\n",
              "    </tr>\n",
              "  </thead>\n",
              "  <tbody>\n",
              "    <tr>\n",
              "      <th>128353</th>\n",
              "      <td>measure rigidity solvable group actions space ...</td>\n",
              "      <td>study invariant probability measures homogeneo...</td>\n",
              "      <td>math</td>\n",
              "    </tr>\n",
              "    <tr>\n",
              "      <th>128354</th>\n",
              "      <td>monotone lagrangian submanifolds mathbb c n to...</td>\n",
              "      <td>mironov panov kotelskiy studied hamiltonian mi...</td>\n",
              "      <td>math</td>\n",
              "    </tr>\n",
              "    <tr>\n",
              "      <th>128355</th>\n",
              "      <td>numerical evidence towards positive answer mor...</td>\n",
              "      <td>report numerical experiments suggesting rank o...</td>\n",
              "      <td>math</td>\n",
              "    </tr>\n",
              "    <tr>\n",
              "      <th>128356</th>\n",
              "      <td>existence stationary fronts system two coupled...</td>\n",
              "      <td>investigate existence stationary fronts couple...</td>\n",
              "      <td>math</td>\n",
              "    </tr>\n",
              "    <tr>\n",
              "      <th>128357</th>\n",
              "      <td>1 absorbing prime submodules</td>\n",
              "      <td>study aim introduce concept 1 absorbing prime ...</td>\n",
              "      <td>math</td>\n",
              "    </tr>\n",
              "  </tbody>\n",
              "</table>\n",
              "</div>\n",
              "      <button class=\"colab-df-convert\" onclick=\"convertToInteractive('df-f9445704-c10d-4f85-9d2b-9ae9ac87b99c')\"\n",
              "              title=\"Convert this dataframe to an interactive table.\"\n",
              "              style=\"display:none;\">\n",
              "        \n",
              "  <svg xmlns=\"http://www.w3.org/2000/svg\" height=\"24px\"viewBox=\"0 0 24 24\"\n",
              "       width=\"24px\">\n",
              "    <path d=\"M0 0h24v24H0V0z\" fill=\"none\"/>\n",
              "    <path d=\"M18.56 5.44l.94 2.06.94-2.06 2.06-.94-2.06-.94-.94-2.06-.94 2.06-2.06.94zm-11 1L8.5 8.5l.94-2.06 2.06-.94-2.06-.94L8.5 2.5l-.94 2.06-2.06.94zm10 10l.94 2.06.94-2.06 2.06-.94-2.06-.94-.94-2.06-.94 2.06-2.06.94z\"/><path d=\"M17.41 7.96l-1.37-1.37c-.4-.4-.92-.59-1.43-.59-.52 0-1.04.2-1.43.59L10.3 9.45l-7.72 7.72c-.78.78-.78 2.05 0 2.83L4 21.41c.39.39.9.59 1.41.59.51 0 1.02-.2 1.41-.59l7.78-7.78 2.81-2.81c.8-.78.8-2.07 0-2.86zM5.41 20L4 18.59l7.72-7.72 1.47 1.35L5.41 20z\"/>\n",
              "  </svg>\n",
              "      </button>\n",
              "      \n",
              "  <style>\n",
              "    .colab-df-container {\n",
              "      display:flex;\n",
              "      flex-wrap:wrap;\n",
              "      gap: 12px;\n",
              "    }\n",
              "\n",
              "    .colab-df-convert {\n",
              "      background-color: #E8F0FE;\n",
              "      border: none;\n",
              "      border-radius: 50%;\n",
              "      cursor: pointer;\n",
              "      display: none;\n",
              "      fill: #1967D2;\n",
              "      height: 32px;\n",
              "      padding: 0 0 0 0;\n",
              "      width: 32px;\n",
              "    }\n",
              "\n",
              "    .colab-df-convert:hover {\n",
              "      background-color: #E2EBFA;\n",
              "      box-shadow: 0px 1px 2px rgba(60, 64, 67, 0.3), 0px 1px 3px 1px rgba(60, 64, 67, 0.15);\n",
              "      fill: #174EA6;\n",
              "    }\n",
              "\n",
              "    [theme=dark] .colab-df-convert {\n",
              "      background-color: #3B4455;\n",
              "      fill: #D2E3FC;\n",
              "    }\n",
              "\n",
              "    [theme=dark] .colab-df-convert:hover {\n",
              "      background-color: #434B5C;\n",
              "      box-shadow: 0px 1px 3px 1px rgba(0, 0, 0, 0.15);\n",
              "      filter: drop-shadow(0px 1px 2px rgba(0, 0, 0, 0.3));\n",
              "      fill: #FFFFFF;\n",
              "    }\n",
              "  </style>\n",
              "\n",
              "      <script>\n",
              "        const buttonEl =\n",
              "          document.querySelector('#df-f9445704-c10d-4f85-9d2b-9ae9ac87b99c button.colab-df-convert');\n",
              "        buttonEl.style.display =\n",
              "          google.colab.kernel.accessAllowed ? 'block' : 'none';\n",
              "\n",
              "        async function convertToInteractive(key) {\n",
              "          const element = document.querySelector('#df-f9445704-c10d-4f85-9d2b-9ae9ac87b99c');\n",
              "          const dataTable =\n",
              "            await google.colab.kernel.invokeFunction('convertToInteractive',\n",
              "                                                     [key], {});\n",
              "          if (!dataTable) return;\n",
              "\n",
              "          const docLinkHtml = 'Like what you see? Visit the ' +\n",
              "            '<a target=\"_blank\" href=https://colab.research.google.com/notebooks/data_table.ipynb>data table notebook</a>'\n",
              "            + ' to learn more about interactive tables.';\n",
              "          element.innerHTML = '';\n",
              "          dataTable['output_type'] = 'display_data';\n",
              "          await google.colab.output.renderOutput(dataTable, element);\n",
              "          const docLink = document.createElement('div');\n",
              "          docLink.innerHTML = docLinkHtml;\n",
              "          element.appendChild(docLink);\n",
              "        }\n",
              "      </script>\n",
              "    </div>\n",
              "  </div>\n",
              "  "
            ]
          },
          "metadata": {},
          "execution_count": 38
        }
      ]
    },
    {
      "cell_type": "code",
      "source": [
        "reduced['category'].value_counts()"
      ],
      "metadata": {
        "id": "RfHsVM0e35px",
        "colab": {
          "base_uri": "https://localhost:8080/"
        },
        "outputId": "32882fba-5813-4aaf-e268-c4a8c1e9aeb7"
      },
      "execution_count": null,
      "outputs": [
        {
          "output_type": "execute_result",
          "data": {
            "text/plain": [
              "cond-mat    42786\n",
              "cs          42786\n",
              "math        42786\n",
              "Name: category, dtype: int64"
            ]
          },
          "metadata": {},
          "execution_count": 39
        }
      ]
    },
    {
      "cell_type": "code",
      "source": [
        "# so among those three classes, math had the smallest number(42786)\n",
        "#That's why other two classes namely cond-mat and cs also are reduced to the size of math"
      ],
      "metadata": {
        "id": "RkbXqfUI2pxF"
      },
      "execution_count": null,
      "outputs": []
    },
    {
      "cell_type": "code",
      "source": [
        "#Mathi thorai vako data lai badhayera pani sakkiyo -- reduced\n",
        "#Ani tespachi dherai vako data lai ghatayera pani sakkiyo -- shuffled\n",
        "#Aba kunai kunai class ko data as it is xa - df\n",
        "#Aba sabailai appropriately combine garera final dataset banaune"
      ],
      "metadata": {
        "id": "wHwPBjyo4oxl"
      },
      "execution_count": null,
      "outputs": []
    },
    {
      "cell_type": "code",
      "source": [
        "#Now original dataframe bata major class haru remove garna paryo (3 ota class)\n",
        "rem_cs=df.loc[df['category'] != 'cs']\n",
        "rem_math = rem_cs.loc[rem_cs['category'] != 'math']\n",
        "major_removed = rem_math.loc[rem_math['category'] != 'cond-mat'] # 3ta class hatyo"
      ],
      "metadata": {
        "id": "Fc15ojHd5HJs"
      },
      "execution_count": null,
      "outputs": []
    },
    {
      "cell_type": "code",
      "source": [
        "#Let's see 3 ota class hatyo ki nai\n",
        "major_removed['category'].value_counts()"
      ],
      "metadata": {
        "id": "VhdKyP1G5HL5",
        "colab": {
          "base_uri": "https://localhost:8080/"
        },
        "outputId": "6f3e49dc-aad9-481d-8a9e-d734fac3f9eb"
      },
      "execution_count": null,
      "outputs": [
        {
          "output_type": "execute_result",
          "data": {
            "text/plain": [
              "physics     38243\n",
              "astro-ph    38059\n",
              "stat        22747\n",
              "quant-ph    16021\n",
              "eess        15847\n",
              "hep-ph      11420\n",
              "hep-th      10695\n",
              "gr-qc        8663\n",
              "q-bio        5665\n",
              "hep-ex       3955\n",
              "math-ph      3823\n",
              "nucl-th      3521\n",
              "q-fin        3053\n",
              "nlin         2894\n",
              "econ         2050\n",
              "nucl-ex      1792\n",
              "hep-lat      1136\n",
              "Name: category, dtype: int64"
            ]
          },
          "metadata": {},
          "execution_count": 43
        }
      ]
    },
    {
      "cell_type": "code",
      "source": [
        "#Visualize \n",
        "major_removed.head()"
      ],
      "metadata": {
        "id": "3f2I2R7A5HOI",
        "colab": {
          "base_uri": "https://localhost:8080/",
          "height": 206
        },
        "outputId": "3719f40e-7dc0-46bf-a9af-220160b5e7da"
      },
      "execution_count": null,
      "outputs": [
        {
          "output_type": "execute_result",
          "data": {
            "text/plain": [
              "            id                                              title  \\\n",
              "5   2102.10644    surface tension destabiliser vortical interface   \n",
              "7   1902.08524  acoustically modulated optical emission hexago...   \n",
              "13  1912.02502  monte carlo studies spin chirality decoupling ...   \n",
              "14  1911.08413  igatelink gateway library linking iot edge fog...   \n",
              "18  2005.00921  epidemic model sipherd application prediction ...   \n",
              "\n",
              "                                             abstract category  \n",
              "5   study dynamics initially flat interface two im...  physics  \n",
              "7   investigate effect surface acoustic waves atom...  physics  \n",
              "13  extensive equilibrium monte carlo simulation p...  physics  \n",
              "14  recent years internet things iot growing popul...     eess  \n",
              "18  propose epidemic model sipherd three categorie...    q-bio  "
            ],
            "text/html": [
              "\n",
              "  <div id=\"df-72114d6f-9af5-4c67-a64d-06d85371c933\">\n",
              "    <div class=\"colab-df-container\">\n",
              "      <div>\n",
              "<style scoped>\n",
              "    .dataframe tbody tr th:only-of-type {\n",
              "        vertical-align: middle;\n",
              "    }\n",
              "\n",
              "    .dataframe tbody tr th {\n",
              "        vertical-align: top;\n",
              "    }\n",
              "\n",
              "    .dataframe thead th {\n",
              "        text-align: right;\n",
              "    }\n",
              "</style>\n",
              "<table border=\"1\" class=\"dataframe\">\n",
              "  <thead>\n",
              "    <tr style=\"text-align: right;\">\n",
              "      <th></th>\n",
              "      <th>id</th>\n",
              "      <th>title</th>\n",
              "      <th>abstract</th>\n",
              "      <th>category</th>\n",
              "    </tr>\n",
              "  </thead>\n",
              "  <tbody>\n",
              "    <tr>\n",
              "      <th>5</th>\n",
              "      <td>2102.10644</td>\n",
              "      <td>surface tension destabiliser vortical interface</td>\n",
              "      <td>study dynamics initially flat interface two im...</td>\n",
              "      <td>physics</td>\n",
              "    </tr>\n",
              "    <tr>\n",
              "      <th>7</th>\n",
              "      <td>1902.08524</td>\n",
              "      <td>acoustically modulated optical emission hexago...</td>\n",
              "      <td>investigate effect surface acoustic waves atom...</td>\n",
              "      <td>physics</td>\n",
              "    </tr>\n",
              "    <tr>\n",
              "      <th>13</th>\n",
              "      <td>1912.02502</td>\n",
              "      <td>monte carlo studies spin chirality decoupling ...</td>\n",
              "      <td>extensive equilibrium monte carlo simulation p...</td>\n",
              "      <td>physics</td>\n",
              "    </tr>\n",
              "    <tr>\n",
              "      <th>14</th>\n",
              "      <td>1911.08413</td>\n",
              "      <td>igatelink gateway library linking iot edge fog...</td>\n",
              "      <td>recent years internet things iot growing popul...</td>\n",
              "      <td>eess</td>\n",
              "    </tr>\n",
              "    <tr>\n",
              "      <th>18</th>\n",
              "      <td>2005.00921</td>\n",
              "      <td>epidemic model sipherd application prediction ...</td>\n",
              "      <td>propose epidemic model sipherd three categorie...</td>\n",
              "      <td>q-bio</td>\n",
              "    </tr>\n",
              "  </tbody>\n",
              "</table>\n",
              "</div>\n",
              "      <button class=\"colab-df-convert\" onclick=\"convertToInteractive('df-72114d6f-9af5-4c67-a64d-06d85371c933')\"\n",
              "              title=\"Convert this dataframe to an interactive table.\"\n",
              "              style=\"display:none;\">\n",
              "        \n",
              "  <svg xmlns=\"http://www.w3.org/2000/svg\" height=\"24px\"viewBox=\"0 0 24 24\"\n",
              "       width=\"24px\">\n",
              "    <path d=\"M0 0h24v24H0V0z\" fill=\"none\"/>\n",
              "    <path d=\"M18.56 5.44l.94 2.06.94-2.06 2.06-.94-2.06-.94-.94-2.06-.94 2.06-2.06.94zm-11 1L8.5 8.5l.94-2.06 2.06-.94-2.06-.94L8.5 2.5l-.94 2.06-2.06.94zm10 10l.94 2.06.94-2.06 2.06-.94-2.06-.94-.94-2.06-.94 2.06-2.06.94z\"/><path d=\"M17.41 7.96l-1.37-1.37c-.4-.4-.92-.59-1.43-.59-.52 0-1.04.2-1.43.59L10.3 9.45l-7.72 7.72c-.78.78-.78 2.05 0 2.83L4 21.41c.39.39.9.59 1.41.59.51 0 1.02-.2 1.41-.59l7.78-7.78 2.81-2.81c.8-.78.8-2.07 0-2.86zM5.41 20L4 18.59l7.72-7.72 1.47 1.35L5.41 20z\"/>\n",
              "  </svg>\n",
              "      </button>\n",
              "      \n",
              "  <style>\n",
              "    .colab-df-container {\n",
              "      display:flex;\n",
              "      flex-wrap:wrap;\n",
              "      gap: 12px;\n",
              "    }\n",
              "\n",
              "    .colab-df-convert {\n",
              "      background-color: #E8F0FE;\n",
              "      border: none;\n",
              "      border-radius: 50%;\n",
              "      cursor: pointer;\n",
              "      display: none;\n",
              "      fill: #1967D2;\n",
              "      height: 32px;\n",
              "      padding: 0 0 0 0;\n",
              "      width: 32px;\n",
              "    }\n",
              "\n",
              "    .colab-df-convert:hover {\n",
              "      background-color: #E2EBFA;\n",
              "      box-shadow: 0px 1px 2px rgba(60, 64, 67, 0.3), 0px 1px 3px 1px rgba(60, 64, 67, 0.15);\n",
              "      fill: #174EA6;\n",
              "    }\n",
              "\n",
              "    [theme=dark] .colab-df-convert {\n",
              "      background-color: #3B4455;\n",
              "      fill: #D2E3FC;\n",
              "    }\n",
              "\n",
              "    [theme=dark] .colab-df-convert:hover {\n",
              "      background-color: #434B5C;\n",
              "      box-shadow: 0px 1px 3px 1px rgba(0, 0, 0, 0.15);\n",
              "      filter: drop-shadow(0px 1px 2px rgba(0, 0, 0, 0.3));\n",
              "      fill: #FFFFFF;\n",
              "    }\n",
              "  </style>\n",
              "\n",
              "      <script>\n",
              "        const buttonEl =\n",
              "          document.querySelector('#df-72114d6f-9af5-4c67-a64d-06d85371c933 button.colab-df-convert');\n",
              "        buttonEl.style.display =\n",
              "          google.colab.kernel.accessAllowed ? 'block' : 'none';\n",
              "\n",
              "        async function convertToInteractive(key) {\n",
              "          const element = document.querySelector('#df-72114d6f-9af5-4c67-a64d-06d85371c933');\n",
              "          const dataTable =\n",
              "            await google.colab.kernel.invokeFunction('convertToInteractive',\n",
              "                                                     [key], {});\n",
              "          if (!dataTable) return;\n",
              "\n",
              "          const docLinkHtml = 'Like what you see? Visit the ' +\n",
              "            '<a target=\"_blank\" href=https://colab.research.google.com/notebooks/data_table.ipynb>data table notebook</a>'\n",
              "            + ' to learn more about interactive tables.';\n",
              "          element.innerHTML = '';\n",
              "          dataTable['output_type'] = 'display_data';\n",
              "          await google.colab.output.renderOutput(dataTable, element);\n",
              "          const docLink = document.createElement('div');\n",
              "          docLink.innerHTML = docLinkHtml;\n",
              "          element.appendChild(docLink);\n",
              "        }\n",
              "      </script>\n",
              "    </div>\n",
              "  </div>\n",
              "  "
            ]
          },
          "metadata": {},
          "execution_count": 44
        }
      ]
    },
    {
      "cell_type": "code",
      "source": [
        "#Now, lets combine our dataframes -- reduced, shuffled, major_removed\n",
        "final_df = pd.concat([reduced, shuffled, major_removed], ignore_index=True)"
      ],
      "metadata": {
        "id": "Hd4L-R_f5HRT"
      },
      "execution_count": null,
      "outputs": []
    },
    {
      "cell_type": "code",
      "source": [
        "\n",
        "len(reduced)+ len(shuffled)+ len(major_removed) == len(final_df)"
      ],
      "metadata": {
        "id": "Q8BtR5dR4ozr",
        "colab": {
          "base_uri": "https://localhost:8080/"
        },
        "outputId": "2d4dccfe-302d-4ace-9680-6c79e8a1a91a"
      },
      "execution_count": null,
      "outputs": [
        {
          "output_type": "execute_result",
          "data": {
            "text/plain": [
              "True"
            ]
          },
          "metadata": {},
          "execution_count": 46
        }
      ]
    },
    {
      "cell_type": "code",
      "source": [
        "#Visualize\n",
        "final_df.head()"
      ],
      "metadata": {
        "id": "IQj4pxP94o39",
        "colab": {
          "base_uri": "https://localhost:8080/",
          "height": 206
        },
        "outputId": "5c3772b6-3099-4fdd-bfa3-6bdd8833d059"
      },
      "execution_count": null,
      "outputs": [
        {
          "output_type": "execute_result",
          "data": {
            "text/plain": [
              "                                               title  \\\n",
              "0  noise noise ratios correlation length calculat...   \n",
              "1  exactly solvable model 4+1d beyond cohomology ...   \n",
              "2  n independent localized krylov bogoliubov de g...   \n",
              "3     molding 3d curved structures selective heating   \n",
              "4  piezoelectric properties substitutionally dope...   \n",
              "\n",
              "                                            abstract  category   id  \n",
              "0  finite random systems possible define two type...  cond-mat  NaN  \n",
              "1  construct exactly solvable commuting projector...  cond-mat  NaN  \n",
              "2  propose ultra fast numerical approach large sc...  cond-mat  NaN  \n",
              "3  interest fabricate curved surfaces three dimen...  cond-mat  NaN  \n",
              "4  modern semiconductor materials increasingly us...  cond-mat  NaN  "
            ],
            "text/html": [
              "\n",
              "  <div id=\"df-16191645-763a-4a56-a51f-a4ccf7d0a074\">\n",
              "    <div class=\"colab-df-container\">\n",
              "      <div>\n",
              "<style scoped>\n",
              "    .dataframe tbody tr th:only-of-type {\n",
              "        vertical-align: middle;\n",
              "    }\n",
              "\n",
              "    .dataframe tbody tr th {\n",
              "        vertical-align: top;\n",
              "    }\n",
              "\n",
              "    .dataframe thead th {\n",
              "        text-align: right;\n",
              "    }\n",
              "</style>\n",
              "<table border=\"1\" class=\"dataframe\">\n",
              "  <thead>\n",
              "    <tr style=\"text-align: right;\">\n",
              "      <th></th>\n",
              "      <th>title</th>\n",
              "      <th>abstract</th>\n",
              "      <th>category</th>\n",
              "      <th>id</th>\n",
              "    </tr>\n",
              "  </thead>\n",
              "  <tbody>\n",
              "    <tr>\n",
              "      <th>0</th>\n",
              "      <td>noise noise ratios correlation length calculat...</td>\n",
              "      <td>finite random systems possible define two type...</td>\n",
              "      <td>cond-mat</td>\n",
              "      <td>NaN</td>\n",
              "    </tr>\n",
              "    <tr>\n",
              "      <th>1</th>\n",
              "      <td>exactly solvable model 4+1d beyond cohomology ...</td>\n",
              "      <td>construct exactly solvable commuting projector...</td>\n",
              "      <td>cond-mat</td>\n",
              "      <td>NaN</td>\n",
              "    </tr>\n",
              "    <tr>\n",
              "      <th>2</th>\n",
              "      <td>n independent localized krylov bogoliubov de g...</td>\n",
              "      <td>propose ultra fast numerical approach large sc...</td>\n",
              "      <td>cond-mat</td>\n",
              "      <td>NaN</td>\n",
              "    </tr>\n",
              "    <tr>\n",
              "      <th>3</th>\n",
              "      <td>molding 3d curved structures selective heating</td>\n",
              "      <td>interest fabricate curved surfaces three dimen...</td>\n",
              "      <td>cond-mat</td>\n",
              "      <td>NaN</td>\n",
              "    </tr>\n",
              "    <tr>\n",
              "      <th>4</th>\n",
              "      <td>piezoelectric properties substitutionally dope...</td>\n",
              "      <td>modern semiconductor materials increasingly us...</td>\n",
              "      <td>cond-mat</td>\n",
              "      <td>NaN</td>\n",
              "    </tr>\n",
              "  </tbody>\n",
              "</table>\n",
              "</div>\n",
              "      <button class=\"colab-df-convert\" onclick=\"convertToInteractive('df-16191645-763a-4a56-a51f-a4ccf7d0a074')\"\n",
              "              title=\"Convert this dataframe to an interactive table.\"\n",
              "              style=\"display:none;\">\n",
              "        \n",
              "  <svg xmlns=\"http://www.w3.org/2000/svg\" height=\"24px\"viewBox=\"0 0 24 24\"\n",
              "       width=\"24px\">\n",
              "    <path d=\"M0 0h24v24H0V0z\" fill=\"none\"/>\n",
              "    <path d=\"M18.56 5.44l.94 2.06.94-2.06 2.06-.94-2.06-.94-.94-2.06-.94 2.06-2.06.94zm-11 1L8.5 8.5l.94-2.06 2.06-.94-2.06-.94L8.5 2.5l-.94 2.06-2.06.94zm10 10l.94 2.06.94-2.06 2.06-.94-2.06-.94-.94-2.06-.94 2.06-2.06.94z\"/><path d=\"M17.41 7.96l-1.37-1.37c-.4-.4-.92-.59-1.43-.59-.52 0-1.04.2-1.43.59L10.3 9.45l-7.72 7.72c-.78.78-.78 2.05 0 2.83L4 21.41c.39.39.9.59 1.41.59.51 0 1.02-.2 1.41-.59l7.78-7.78 2.81-2.81c.8-.78.8-2.07 0-2.86zM5.41 20L4 18.59l7.72-7.72 1.47 1.35L5.41 20z\"/>\n",
              "  </svg>\n",
              "      </button>\n",
              "      \n",
              "  <style>\n",
              "    .colab-df-container {\n",
              "      display:flex;\n",
              "      flex-wrap:wrap;\n",
              "      gap: 12px;\n",
              "    }\n",
              "\n",
              "    .colab-df-convert {\n",
              "      background-color: #E8F0FE;\n",
              "      border: none;\n",
              "      border-radius: 50%;\n",
              "      cursor: pointer;\n",
              "      display: none;\n",
              "      fill: #1967D2;\n",
              "      height: 32px;\n",
              "      padding: 0 0 0 0;\n",
              "      width: 32px;\n",
              "    }\n",
              "\n",
              "    .colab-df-convert:hover {\n",
              "      background-color: #E2EBFA;\n",
              "      box-shadow: 0px 1px 2px rgba(60, 64, 67, 0.3), 0px 1px 3px 1px rgba(60, 64, 67, 0.15);\n",
              "      fill: #174EA6;\n",
              "    }\n",
              "\n",
              "    [theme=dark] .colab-df-convert {\n",
              "      background-color: #3B4455;\n",
              "      fill: #D2E3FC;\n",
              "    }\n",
              "\n",
              "    [theme=dark] .colab-df-convert:hover {\n",
              "      background-color: #434B5C;\n",
              "      box-shadow: 0px 1px 3px 1px rgba(0, 0, 0, 0.15);\n",
              "      filter: drop-shadow(0px 1px 2px rgba(0, 0, 0, 0.3));\n",
              "      fill: #FFFFFF;\n",
              "    }\n",
              "  </style>\n",
              "\n",
              "      <script>\n",
              "        const buttonEl =\n",
              "          document.querySelector('#df-16191645-763a-4a56-a51f-a4ccf7d0a074 button.colab-df-convert');\n",
              "        buttonEl.style.display =\n",
              "          google.colab.kernel.accessAllowed ? 'block' : 'none';\n",
              "\n",
              "        async function convertToInteractive(key) {\n",
              "          const element = document.querySelector('#df-16191645-763a-4a56-a51f-a4ccf7d0a074');\n",
              "          const dataTable =\n",
              "            await google.colab.kernel.invokeFunction('convertToInteractive',\n",
              "                                                     [key], {});\n",
              "          if (!dataTable) return;\n",
              "\n",
              "          const docLinkHtml = 'Like what you see? Visit the ' +\n",
              "            '<a target=\"_blank\" href=https://colab.research.google.com/notebooks/data_table.ipynb>data table notebook</a>'\n",
              "            + ' to learn more about interactive tables.';\n",
              "          element.innerHTML = '';\n",
              "          dataTable['output_type'] = 'display_data';\n",
              "          await google.colab.output.renderOutput(dataTable, element);\n",
              "          const docLink = document.createElement('div');\n",
              "          docLink.innerHTML = docLinkHtml;\n",
              "          element.appendChild(docLink);\n",
              "        }\n",
              "      </script>\n",
              "    </div>\n",
              "  </div>\n",
              "  "
            ]
          },
          "metadata": {},
          "execution_count": 47
        }
      ]
    },
    {
      "cell_type": "code",
      "source": [
        "#Let's see how the data distribution has become\n",
        "final_df['category'].value_counts()"
      ],
      "metadata": {
        "id": "8v7T_lMa8M3l",
        "colab": {
          "base_uri": "https://localhost:8080/"
        },
        "outputId": "584dbac3-e8e8-40db-ccca-ec1f33e126c3"
      },
      "execution_count": null,
      "outputs": [
        {
          "output_type": "execute_result",
          "data": {
            "text/plain": [
              "cond-mat    42786\n",
              "cs          42786\n",
              "math        42786\n",
              "physics     38243\n",
              "astro-ph    38059\n",
              "stat        22747\n",
              "gr-qc       17326\n",
              "quant-ph    16021\n",
              "eess        15847\n",
              "hep-ph      11420\n",
              "q-bio       11330\n",
              "hep-th      10695\n",
              "hep-ex       7910\n",
              "math-ph      7646\n",
              "nucl-th      7042\n",
              "q-fin        6106\n",
              "nlin         5788\n",
              "econ         4100\n",
              "nucl-ex      3584\n",
              "hep-lat      2272\n",
              "Name: category, dtype: int64"
            ]
          },
          "metadata": {},
          "execution_count": 48
        }
      ]
    },
    {
      "cell_type": "code",
      "source": [
        "#Finally, our dataset looks much better \n",
        "#Dataset has become way more balaned than original one"
      ],
      "metadata": {
        "id": "G10W1s2i8M5t"
      },
      "execution_count": null,
      "outputs": []
    },
    {
      "cell_type": "markdown",
      "source": [
        "Now, let's preprocess our text data so that they can be used with RNN model"
      ],
      "metadata": {
        "id": "6Cqi88uV9YvB"
      }
    },
    {
      "cell_type": "code",
      "source": [
        "#Create features and labels\n",
        "X1 = final_df['title'].values\n",
        "X2 = final_df['abstract'].values\n",
        "labels = final_df['category'].values\n",
        "texts = X1+X2"
      ],
      "metadata": {
        "id": "bpIR13Vq8M7v"
      },
      "execution_count": null,
      "outputs": []
    },
    {
      "cell_type": "code",
      "source": [
        "labels"
      ],
      "metadata": {
        "id": "wm-xpejm8M9m",
        "colab": {
          "base_uri": "https://localhost:8080/"
        },
        "outputId": "1bd144f8-a6f3-4bc3-f1e7-07ffd9029874"
      },
      "execution_count": null,
      "outputs": [
        {
          "output_type": "execute_result",
          "data": {
            "text/plain": [
              "array(['cond-mat', 'cond-mat', 'cond-mat', ..., 'quant-ph', 'nucl-th',\n",
              "       'q-fin'], dtype=object)"
            ]
          },
          "metadata": {},
          "execution_count": 51
        }
      ]
    },
    {
      "cell_type": "code",
      "source": [
        "from keras.preprocessing.text import Tokenizer\n",
        "from keras_preprocessing.sequence import pad_sequences\n",
        "from keras.layers import Dense, Embedding, LSTM\n",
        "from keras.models import Sequential\n",
        "from keras.utils import to_categorical"
      ],
      "metadata": {
        "id": "oS5O6WA78NBA"
      },
      "execution_count": null,
      "outputs": []
    },
    {
      "cell_type": "code",
      "source": [
        "num_classes = len(set(labels))\n",
        "num_classes"
      ],
      "metadata": {
        "id": "7Kd7W9NpyDDi",
        "colab": {
          "base_uri": "https://localhost:8080/"
        },
        "outputId": "d70a8a6a-e880-4ac6-d2c3-90a821200691"
      },
      "execution_count": null,
      "outputs": [
        {
          "output_type": "execute_result",
          "data": {
            "text/plain": [
              "20"
            ]
          },
          "metadata": {},
          "execution_count": 53
        }
      ]
    },
    {
      "cell_type": "code",
      "source": [
        "# Tokenize the texts\n",
        "tokenizer = Tokenizer()\n",
        "tokenizer.fit_on_texts(texts)\n",
        "sequences = tokenizer.texts_to_sequences(texts)\n",
        "\n",
        "# Pad the sequences\n",
        "max_length = max([len(s) for s in sequences])\n",
        "padded_sequences = pad_sequences(sequences, maxlen=max_length)"
      ],
      "metadata": {
        "id": "hs0DTbsv-rp5"
      },
      "execution_count": null,
      "outputs": []
    },
    {
      "cell_type": "code",
      "source": [
        "from sklearn.preprocessing import LabelEncoder\n",
        "le = LabelEncoder()\n",
        "label = le.fit_transform(labels)\n",
        "labels = to_categorical(label, num_classes=num_classes)"
      ],
      "metadata": {
        "id": "8ozFoZ7s-uzo"
      },
      "execution_count": null,
      "outputs": []
    },
    {
      "cell_type": "code",
      "source": [
        "# Split the dataset into train and validation sets\n",
        "from sklearn.model_selection import train_test_split\n",
        "x_train, x_test, y_train, y_test = train_test_split(padded_sequences, labels, test_size=0.2)"
      ],
      "metadata": {
        "id": "Rjw291JR-zA1"
      },
      "execution_count": null,
      "outputs": []
    },
    {
      "cell_type": "markdown",
      "source": [
        "Now, let's build the RNN model and fit our data"
      ],
      "metadata": {
        "id": "LN6BUiqU_D6M"
      }
    },
    {
      "cell_type": "code",
      "source": [
        "# Build the model\n",
        "model = Sequential()\n",
        "model.add(Embedding(len(tokenizer.word_index)+1, 100, input_length=max_length))\n",
        "model.add(LSTM(100))\n",
        "model.add(Dense(num_classes, activation='softmax'))\n",
        "\n",
        "#Compile the model\n",
        "model.compile(loss='categorical_crossentropy', optimizer='adam', metrics=['accuracy'])"
      ],
      "metadata": {
        "id": "PKBfxl3b-8SC"
      },
      "execution_count": null,
      "outputs": []
    },
    {
      "cell_type": "code",
      "source": [
        "#Train the model\n",
        "history = model.fit(x_train, y_train, validation_data=(x_test, y_test), epochs = 10)"
      ],
      "metadata": {
        "id": "RSDzYYvX_4nR",
        "colab": {
          "base_uri": "https://localhost:8080/"
        },
        "outputId": "4618f834-882e-4914-a9ff-db83abe3145f"
      },
      "execution_count": null,
      "outputs": [
        {
          "output_type": "stream",
          "name": "stdout",
          "text": [
            "Epoch 1/10\n",
            "8863/8863 [==============================] - 422s 47ms/step - loss: 1.1192 - accuracy: 0.6275 - val_loss: 0.8411 - val_accuracy: 0.7080\n",
            "Epoch 2/10\n",
            "8863/8863 [==============================] - 411s 46ms/step - loss: 0.6942 - accuracy: 0.7554 - val_loss: 0.7854 - val_accuracy: 0.7200\n",
            "Epoch 3/10\n",
            "8863/8863 [==============================] - 409s 46ms/step - loss: 0.3895 - accuracy: 0.8688 - val_loss: 0.9434 - val_accuracy: 0.6950\n",
            "Epoch 4/10\n",
            "8863/8863 [==============================] - 409s 46ms/step - loss: 0.1724 - accuracy: 0.9432 - val_loss: 1.1072 - val_accuracy: 0.6900\n",
            "Epoch 5/10\n",
            "8863/8863 [==============================] - 414s 47ms/step - loss: 0.0875 - accuracy: 0.9714 - val_loss: 1.4046 - val_accuracy: 0.6734\n",
            "Epoch 6/10\n",
            "8863/8863 [==============================] - 409s 46ms/step - loss: 0.0445 - accuracy: 0.9855 - val_loss: 1.6888 - val_accuracy: 0.6693\n",
            "Epoch 7/10\n",
            "8863/8863 [==============================] - 413s 47ms/step - loss: 0.0237 - accuracy: 0.9924 - val_loss: 1.9018 - val_accuracy: 0.6611\n",
            "Epoch 8/10\n",
            "8863/8863 [==============================] - 409s 46ms/step - loss: 0.0133 - accuracy: 0.9957 - val_loss: 2.2173 - val_accuracy: 0.6627\n",
            "Epoch 9/10\n",
            "8863/8863 [==============================] - 409s 46ms/step - loss: 0.0083 - accuracy: 0.9974 - val_loss: 2.3623 - val_accuracy: 0.6574\n",
            "Epoch 10/10\n",
            "8863/8863 [==============================] - 410s 46ms/step - loss: 0.0060 - accuracy: 0.9981 - val_loss: 2.4580 - val_accuracy: 0.6564\n"
          ]
        }
      ]
    },
    {
      "cell_type": "code",
      "source": [
        "#Let's visualize the plots\n",
        "import matplotlib.pyplot as plt\n",
        "\n",
        "def plot_accuracy(history):\n",
        "\n",
        "  acc = history.history['accuracy']\n",
        "  val_acc = history.history['val_accuracy']\n",
        "  plt.figure(figsize=(8, 5))\n",
        "  plt.plot(acc, label='Training Accuracy')\n",
        "  plt.plot(val_acc, label='Validation Accuracy')\n",
        "\n",
        "  plt.xlabel('Epochs')\n",
        "  plt.ylabel('Accuracy')\n",
        "  plt.legend()\n",
        "\n",
        "  plt.show()"
      ],
      "metadata": {
        "id": "uhS_NEbLnTUc"
      },
      "execution_count": null,
      "outputs": []
    },
    {
      "cell_type": "code",
      "source": [
        "#Plot loss curves\n",
        "\n",
        "def plot_loss(history):\n",
        "  loss = history.history['loss']\n",
        "  val_loss = history.history['val_loss']\n",
        "\n",
        "  plt.figure(figsize=(8, 5))\n",
        "\n",
        "  plt.plot(loss, label='Training Loss')\n",
        "  plt.plot(val_loss, label='Validation Loss')\n",
        "\n",
        "  plt.xlabel('Epochs')\n",
        "  plt.ylabel('Loss')\n",
        "  plt.legend()\n",
        "\n",
        "  plt.show()"
      ],
      "metadata": {
        "id": "hPhmb4hBnTWS"
      },
      "execution_count": null,
      "outputs": []
    },
    {
      "cell_type": "code",
      "source": [
        "plot_accuracy(history)"
      ],
      "metadata": {
        "id": "OWhrf5fzos3p",
        "colab": {
          "base_uri": "https://localhost:8080/",
          "height": 334
        },
        "outputId": "1bb5a06f-16f9-4a41-aa28-e37fab5f1966"
      },
      "execution_count": null,
      "outputs": [
        {
          "output_type": "display_data",
          "data": {
            "text/plain": [
              "<Figure size 576x360 with 1 Axes>"
            ],
            "image/png": "[encoded data removed]"
          },
          "metadata": {
            "needs_background": "light"
          }
        }
      ]
    },
    {
      "cell_type": "code",
      "source": [
        "plot_loss(history)"
      ],
      "metadata": {
        "id": "W6ArMF8anTYY",
        "colab": {
          "base_uri": "https://localhost:8080/",
          "height": 334
        },
        "outputId": "b04e2b57-f6fe-47b7-f469-4a8ffd59645a"
      },
      "execution_count": null,
      "outputs": [
        {
          "output_type": "display_data",
          "data": {
            "text/plain": [
              "<Figure size 576x360 with 1 Axes>"
            ],
            "image/png": "[encoded data removed]"
          },
          "metadata": {
            "needs_background": "light"
          }
        }
      ]
    },
    {
      "cell_type": "code",
      "source": [],
      "metadata": {
        "id": "7-x6Pgu-nTbz"
      },
      "execution_count": null,
      "outputs": []
    },
    {
      "cell_type": "code",
      "source": [],
      "metadata": {
        "id": "4iwVqzZgo8Ug"
      },
      "execution_count": null,
      "outputs": []
    },
    {
      "cell_type": "code",
      "source": [],
      "metadata": {
        "id": "cNh9ucz4o8WS"
      },
      "execution_count": null,
      "outputs": []
    },
    {
      "cell_type": "code",
      "source": [],
      "metadata": {
        "id": "MR-z_a7qo8Yf"
      },
      "execution_count": null,
      "outputs": []
    },
    {
      "cell_type": "code",
      "source": [],
      "metadata": {
        "id": "LYiT7nmgo8ae"
      },
      "execution_count": null,
      "outputs": []
    },
    {
      "cell_type": "code",
      "source": [],
      "metadata": {
        "id": "N5n5_CRYo8cX"
      },
      "execution_count": null,
      "outputs": []
    },
    {
      "cell_type": "code",
      "source": [],
      "metadata": {
        "id": "0WxEUrQlo8eY"
      },
      "execution_count": null,
      "outputs": []
    },
    {
      "cell_type": "code",
      "source": [],
      "metadata": {
        "id": "Dir-uYAKo8gd"
      },
      "execution_count": null,
      "outputs": []
    },
    {
      "cell_type": "code",
      "source": [],
      "metadata": {
        "id": "G9zVgdeio8jk"
      },
      "execution_count": null,
      "outputs": []
    },
    {
      "cell_type": "code",
      "source": [
        "from keras.models import load_model\n",
        "\n",
        "# Save the model\n",
        "model.save('model2_comparision.h5')\n"
      ],
      "metadata": {
        "id": "FOJzSZo0BQ3j"
      },
      "execution_count": null,
      "outputs": []
    },
    {
      "cell_type": "code",
      "source": [
        "# Download the model file\n",
        "# from google.colab import files\n",
        "# files.download('model1.h5')\n",
        "!cp model2_comparision.h5 drive/MyDrive/Colab\\ Notebooks/model2_comparision.h5\n",
        "# loaded_model = load_model('model1.h5')"
      ],
      "metadata": {
        "id": "3xViZ1A2UDT6"
      },
      "execution_count": null,
      "outputs": []
    },
    {
      "cell_type": "code",
      "source": [
        "test = pd.read_csv('/content/drive/MyDrive/Colab Notebooks/DataRush/test.csv')"
      ],
      "metadata": {
        "id": "NyHD-6KGA2si"
      },
      "execution_count": null,
      "outputs": []
    },
    {
      "cell_type": "code",
      "source": [
        "test.head()"
      ],
      "metadata": {
        "colab": {
          "base_uri": "https://localhost:8080/",
          "height": 206
        },
        "id": "XaZFMux_BACz",
        "outputId": "3dc125fd-7b7e-4e3a-fa80-9065c914be5c"
      },
      "execution_count": null,
      "outputs": [
        {
          "output_type": "execute_result",
          "data": {
            "text/plain": [
              "           id                                              title  \\\n",
              "0  2107.01095  Who Votes for Library Bonds? A Principal Compo...   \n",
              "1  1906.08519  Crystal structure and the magnetic properties ...   \n",
              "2  2105.05523  Trimmed extreme value estimators for censored ...   \n",
              "3  1906.08731  Gray-box Monitoring of Hyperproperties (Extend...   \n",
              "4  1703.08445  On the sectional curvature along central confi...   \n",
              "\n",
              "                                            abstract  \n",
              "0    Previous research has shown a relationship b...  \n",
              "1    We synthesized the 5d1-transition metal oxid...  \n",
              "2    We consider estimation of the extreme value ...  \n",
              "3    Many important system properties, particular...  \n",
              "4    In this paper we characterize planar central...  "
            ],
            "text/html": [
              "\n",
              "  <div id=\"df-18bf0a42-b64b-44bb-81f1-3531a1424577\">\n",
              "    <div class=\"colab-df-container\">\n",
              "      <div>\n",
              "<style scoped>\n",
              "    .dataframe tbody tr th:only-of-type {\n",
              "        vertical-align: middle;\n",
              "    }\n",
              "\n",
              "    .dataframe tbody tr th {\n",
              "        vertical-align: top;\n",
              "    }\n",
              "\n",
              "    .dataframe thead th {\n",
              "        text-align: right;\n",
              "    }\n",
              "</style>\n",
              "<table border=\"1\" class=\"dataframe\">\n",
              "  <thead>\n",
              "    <tr style=\"text-align: right;\">\n",
              "      <th></th>\n",
              "      <th>id</th>\n",
              "      <th>title</th>\n",
              "      <th>abstract</th>\n",
              "    </tr>\n",
              "  </thead>\n",
              "  <tbody>\n",
              "    <tr>\n",
              "      <th>0</th>\n",
              "      <td>2107.01095</td>\n",
              "      <td>Who Votes for Library Bonds? A Principal Compo...</td>\n",
              "      <td>Previous research has shown a relationship b...</td>\n",
              "    </tr>\n",
              "    <tr>\n",
              "      <th>1</th>\n",
              "      <td>1906.08519</td>\n",
              "      <td>Crystal structure and the magnetic properties ...</td>\n",
              "      <td>We synthesized the 5d1-transition metal oxid...</td>\n",
              "    </tr>\n",
              "    <tr>\n",
              "      <th>2</th>\n",
              "      <td>2105.05523</td>\n",
              "      <td>Trimmed extreme value estimators for censored ...</td>\n",
              "      <td>We consider estimation of the extreme value ...</td>\n",
              "    </tr>\n",
              "    <tr>\n",
              "      <th>3</th>\n",
              "      <td>1906.08731</td>\n",
              "      <td>Gray-box Monitoring of Hyperproperties (Extend...</td>\n",
              "      <td>Many important system properties, particular...</td>\n",
              "    </tr>\n",
              "    <tr>\n",
              "      <th>4</th>\n",
              "      <td>1703.08445</td>\n",
              "      <td>On the sectional curvature along central confi...</td>\n",
              "      <td>In this paper we characterize planar central...</td>\n",
              "    </tr>\n",
              "  </tbody>\n",
              "</table>\n",
              "</div>\n",
              "      <button class=\"colab-df-convert\" onclick=\"convertToInteractive('df-18bf0a42-b64b-44bb-81f1-3531a1424577')\"\n",
              "              title=\"Convert this dataframe to an interactive table.\"\n",
              "              style=\"display:none;\">\n",
              "        \n",
              "  <svg xmlns=\"http://www.w3.org/2000/svg\" height=\"24px\"viewBox=\"0 0 24 24\"\n",
              "       width=\"24px\">\n",
              "    <path d=\"M0 0h24v24H0V0z\" fill=\"none\"/>\n",
              "    <path d=\"M18.56 5.44l.94 2.06.94-2.06 2.06-.94-2.06-.94-.94-2.06-.94 2.06-2.06.94zm-11 1L8.5 8.5l.94-2.06 2.06-.94-2.06-.94L8.5 2.5l-.94 2.06-2.06.94zm10 10l.94 2.06.94-2.06 2.06-.94-2.06-.94-.94-2.06-.94 2.06-2.06.94z\"/><path d=\"M17.41 7.96l-1.37-1.37c-.4-.4-.92-.59-1.43-.59-.52 0-1.04.2-1.43.59L10.3 9.45l-7.72 7.72c-.78.78-.78 2.05 0 2.83L4 21.41c.39.39.9.59 1.41.59.51 0 1.02-.2 1.41-.59l7.78-7.78 2.81-2.81c.8-.78.8-2.07 0-2.86zM5.41 20L4 18.59l7.72-7.72 1.47 1.35L5.41 20z\"/>\n",
              "  </svg>\n",
              "      </button>\n",
              "      \n",
              "  <style>\n",
              "    .colab-df-container {\n",
              "      display:flex;\n",
              "      flex-wrap:wrap;\n",
              "      gap: 12px;\n",
              "    }\n",
              "\n",
              "    .colab-df-convert {\n",
              "      background-color: #E8F0FE;\n",
              "      border: none;\n",
              "      border-radius: 50%;\n",
              "      cursor: pointer;\n",
              "      display: none;\n",
              "      fill: #1967D2;\n",
              "      height: 32px;\n",
              "      padding: 0 0 0 0;\n",
              "      width: 32px;\n",
              "    }\n",
              "\n",
              "    .colab-df-convert:hover {\n",
              "      background-color: #E2EBFA;\n",
              "      box-shadow: 0px 1px 2px rgba(60, 64, 67, 0.3), 0px 1px 3px 1px rgba(60, 64, 67, 0.15);\n",
              "      fill: #174EA6;\n",
              "    }\n",
              "\n",
              "    [theme=dark] .colab-df-convert {\n",
              "      background-color: #3B4455;\n",
              "      fill: #D2E3FC;\n",
              "    }\n",
              "\n",
              "    [theme=dark] .colab-df-convert:hover {\n",
              "      background-color: #434B5C;\n",
              "      box-shadow: 0px 1px 3px 1px rgba(0, 0, 0, 0.15);\n",
              "      filter: drop-shadow(0px 1px 2px rgba(0, 0, 0, 0.3));\n",
              "      fill: #FFFFFF;\n",
              "    }\n",
              "  </style>\n",
              "\n",
              "      <script>\n",
              "        const buttonEl =\n",
              "          document.querySelector('#df-18bf0a42-b64b-44bb-81f1-3531a1424577 button.colab-df-convert');\n",
              "        buttonEl.style.display =\n",
              "          google.colab.kernel.accessAllowed ? 'block' : 'none';\n",
              "\n",
              "        async function convertToInteractive(key) {\n",
              "          const element = document.querySelector('#df-18bf0a42-b64b-44bb-81f1-3531a1424577');\n",
              "          const dataTable =\n",
              "            await google.colab.kernel.invokeFunction('convertToInteractive',\n",
              "                                                     [key], {});\n",
              "          if (!dataTable) return;\n",
              "\n",
              "          const docLinkHtml = 'Like what you see? Visit the ' +\n",
              "            '<a target=\"_blank\" href=https://colab.research.google.com/notebooks/data_table.ipynb>data table notebook</a>'\n",
              "            + ' to learn more about interactive tables.';\n",
              "          element.innerHTML = '';\n",
              "          dataTable['output_type'] = 'display_data';\n",
              "          await google.colab.output.renderOutput(dataTable, element);\n",
              "          const docLink = document.createElement('div');\n",
              "          docLink.innerHTML = docLinkHtml;\n",
              "          element.appendChild(docLink);\n",
              "        }\n",
              "      </script>\n",
              "    </div>\n",
              "  </div>\n",
              "  "
            ]
          },
          "metadata": {},
          "execution_count": 68
        }
      ]
    },
    {
      "cell_type": "code",
      "source": [
        "#Preprocess and clean the test set as necessary\n",
        "test_df = test.drop_duplicates(subset='title')"
      ],
      "metadata": {
        "id": "m8ErwWkxBB3O"
      },
      "execution_count": null,
      "outputs": []
    },
    {
      "cell_type": "code",
      "source": [
        "#Cleaning test set\n",
        "REPLACE_BY_SPACE_RE = re.compile('[/(){}\\[\\]\\|@,;]')\n",
        "BAD_SYMBOLS_RE = re.compile('[^0-9a-z #+_]')\n",
        "STOPWORDS = set(stopwords.words('english'))\n",
        "\n",
        "def clean_text(text):\n",
        "    text = text.lower() # lowercase text\n",
        "    text = REPLACE_BY_SPACE_RE.sub(' ', text) # replace REPLACE_BY_SPACE_RE symbols by space in text\n",
        "    text = BAD_SYMBOLS_RE.sub(' ', text) # delete symbols which are in BAD_SYMBOLS_RE from text\n",
        "    text = ' '.join(word for word in text.split() if word not in STOPWORDS) # delete stopwors from text\n",
        "    return text\n",
        "\n",
        "test_df['abstract'] = test_df['abstract'].apply(clean_text)\n",
        "test_df['title'] = test_df['title'].apply(clean_text)"
      ],
      "metadata": {
        "id": "-vnOUlWgDS0D",
        "colab": {
          "base_uri": "https://localhost:8080/"
        },
        "outputId": "7e79096f-d4a3-4c4a-e04e-22aee2974ad5"
      },
      "execution_count": null,
      "outputs": [
        {
          "output_type": "stream",
          "name": "stderr",
          "text": [
            "<ipython-input-70-d210793e7402>:13: SettingWithCopyWarning: \n",
            "A value is trying to be set on a copy of a slice from a DataFrame.\n",
            "Try using .loc[row_indexer,col_indexer] = value instead\n",
            "\n",
            "See the caveats in the documentation: https://pandas.pydata.org/pandas-docs/stable/user_guide/indexing.html#returning-a-view-versus-a-copy\n",
            "  test_df['abstract'] = test_df['abstract'].apply(clean_text)\n",
            "<ipython-input-70-d210793e7402>:14: SettingWithCopyWarning: \n",
            "A value is trying to be set on a copy of a slice from a DataFrame.\n",
            "Try using .loc[row_indexer,col_indexer] = value instead\n",
            "\n",
            "See the caveats in the documentation: https://pandas.pydata.org/pandas-docs/stable/user_guide/indexing.html#returning-a-view-versus-a-copy\n",
            "  test_df['title'] = test_df['title'].apply(clean_text)\n"
          ]
        }
      ]
    },
    {
      "cell_type": "code",
      "source": [
        "#Preparing the features\n",
        "test_X1 = test_df['title'].values #same as X1\n",
        "test_X2 = test_df['abstract'].values #same as X2\n",
        "\n",
        "test_X = test_X1+test_X2 #same as texts"
      ],
      "metadata": {
        "id": "vCz0Ln2GDf_Q"
      },
      "execution_count": null,
      "outputs": []
    },
    {
      "cell_type": "code",
      "source": [
        "# Tokenize the texts\n",
        "tokenizer = Tokenizer()\n",
        "tokenizer.fit_on_texts(test_X)\n",
        "sequences = tokenizer.texts_to_sequences(test_X)\n",
        "\n",
        "# Pad the sequences\n",
        "max_length = max([len(s) for s in sequences])\n",
        "test_data = pad_sequences(sequences, maxlen=max_length)"
      ],
      "metadata": {
        "id": "fgUY8krwDgBX"
      },
      "execution_count": null,
      "outputs": []
    },
    {
      "cell_type": "code",
      "source": [
        "test_data"
      ],
      "metadata": {
        "colab": {
          "base_uri": "https://localhost:8080/"
        },
        "id": "XRPBHw93DgDw",
        "outputId": "84d0312e-563d-4c41-b14f-3395c34d0b8c"
      },
      "execution_count": null,
      "outputs": [
        {
          "output_type": "execute_result",
          "data": {
            "text/plain": [
              "array([[     0,      0,      0, ...,    245,    759,   4822],\n",
              "       [     0,      0,      0, ...,   4645,     42,   4621],\n",
              "       [     0,      0,      0, ...,  55507,   6517,      2],\n",
              "       ...,\n",
              "       [     0,      0,      0, ...,   2280,   2411,     23],\n",
              "       [     0,      0,      0, ...,   1373, 117739, 117740],\n",
              "       [     0,      0,      0, ...,    633,     27,     41]], dtype=int32)"
            ]
          },
          "metadata": {},
          "execution_count": 73
        }
      ]
    },
    {
      "cell_type": "code",
      "source": [
        "#Now, make predictions on test data.\n",
        "# make predictions on test data\n",
        "predictions =loaded_model.predict(test_data)"
      ],
      "metadata": {
        "id": "fyNW2V4aDgFx",
        "colab": {
          "base_uri": "https://localhost:8080/"
        },
        "outputId": "5bb35488-c71f-4722-9d44-d331c64a7eda"
      },
      "execution_count": null,
      "outputs": [
        {
          "output_type": "stream",
          "name": "stdout",
          "text": [
            "1369/1369 [==============================] - 14s 10ms/step\n"
          ]
        }
      ]
    },
    {
      "cell_type": "code",
      "source": [
        "predictions"
      ],
      "metadata": {
        "colab": {
          "base_uri": "https://localhost:8080/"
        },
        "id": "R6RVLsmvVs-V",
        "outputId": "e048ed7b-0a46-41f9-b2a1-0760e33356ef"
      },
      "execution_count": null,
      "outputs": [
        {
          "output_type": "execute_result",
          "data": {
            "text/plain": [
              "array([[7.6066852e-02, 1.8620584e-02, 4.3010850e-06, ..., 9.4812805e-08,\n",
              "        1.9288628e-09, 7.6723197e-08],\n",
              "       [5.3690305e-06, 9.9944955e-01, 8.2553828e-07, ..., 4.3080195e-08,\n",
              "        2.8305053e-08, 5.0459697e-08],\n",
              "       [1.9137576e-06, 6.0655246e-05, 1.4951536e-06, ..., 4.7805666e-09,\n",
              "        1.1689179e-07, 6.9318529e-10],\n",
              "       ...,\n",
              "       [7.8641241e-03, 3.1851840e-07, 7.1689108e-04, ..., 3.7715156e-06,\n",
              "        2.0119831e-08, 9.0655041e-01],\n",
              "       [5.1151065e-04, 6.0899107e-04, 2.4565887e-01, ..., 4.7721087e-06,\n",
              "        3.0960487e-07, 3.1048603e-07],\n",
              "       [8.0167943e-09, 6.5563839e-09, 9.9993730e-01, ..., 5.4478438e-10,\n",
              "        2.7300297e-08, 1.8939593e-07]], dtype=float32)"
            ]
          },
          "metadata": {},
          "execution_count": 75
        }
      ]
    },
    {
      "cell_type": "code",
      "source": [
        "#Predicted labels are in encoded format\n",
        "#Now, let's deocode them \n",
        "decoded_labels = le.inverse_transform(np.argmax(predictions, axis=1))"
      ],
      "metadata": {
        "id": "Mk10LH64V7aX"
      },
      "execution_count": null,
      "outputs": []
    },
    {
      "cell_type": "code",
      "source": [
        "decoded_labels"
      ],
      "metadata": {
        "colab": {
          "base_uri": "https://localhost:8080/"
        },
        "id": "YpdRu3xiWj5h",
        "outputId": "b986418c-c99c-492e-ff6a-ef25425e4647"
      },
      "execution_count": null,
      "outputs": [
        {
          "output_type": "execute_result",
          "data": {
            "text/plain": [
              "array(['gr-qc', 'cond-mat', 'math', ..., 'stat', 'eess', 'cs'],\n",
              "      dtype=object)"
            ]
          },
          "metadata": {},
          "execution_count": 77
        }
      ]
    },
    {
      "cell_type": "code",
      "source": [
        "#Let's see the format of test_df\n",
        "test_df"
      ],
      "metadata": {
        "colab": {
          "base_uri": "https://localhost:8080/",
          "height": 423
        },
        "id": "OTK5wDGnWyR-",
        "outputId": "6e94c40a-0111-45a2-9bc6-e725af41fbbe"
      },
      "execution_count": null,
      "outputs": [
        {
          "output_type": "execute_result",
          "data": {
            "text/plain": [
              "               id                                              title  \\\n",
              "0      2107.01095  votes library bonds principal component explor...   \n",
              "1      1906.08519  crystal structure magnetic properties 5d trans...   \n",
              "2      2105.05523  trimmed extreme value estimators censored heav...   \n",
              "3      1906.08731  gray box monitoring hyperproperties extended v...   \n",
              "4      1703.08445   sectional curvature along central configurations   \n",
              "...           ...                                                ...   \n",
              "45323  1908.05557  towards automated machine learning evaluation ...   \n",
              "45324  2006.00502  defect deferred correction method based subgri...   \n",
              "45325  2009.09826  learning safe neural network controllers barri...   \n",
              "45326  2007.06959  learning semantics enriched representation via...   \n",
              "45327  1911.12157  intelligent reflecting surface massive device ...   \n",
              "\n",
              "                                                abstract  \n",
              "0      previous research shown relationship voter cha...  \n",
              "1      synthesized 5d1 transition metal oxides aoso4 ...  \n",
              "2      consider estimation extreme value index extrem...  \n",
              "3      many important system properties particularly ...  \n",
              "4      paper characterize planar central configuratio...  \n",
              "...                                                  ...  \n",
              "45323  considerable growth interest industrial applic...  \n",
              "45324  alternative first step approximation based sub...  \n",
              "45325  provide novel approach synthesize controllers ...  \n",
              "45326  medical images naturally associated rich seman...  \n",
              "45327  intelligent reflecting surface irs promising s...  \n",
              "\n",
              "[43782 rows x 3 columns]"
            ],
            "text/html": [
              "\n",
              "  <div id=\"df-45dcce81-d262-4227-8ca7-9215ce255dfa\">\n",
              "    <div class=\"colab-df-container\">\n",
              "      <div>\n",
              "<style scoped>\n",
              "    .dataframe tbody tr th:only-of-type {\n",
              "        vertical-align: middle;\n",
              "    }\n",
              "\n",
              "    .dataframe tbody tr th {\n",
              "        vertical-align: top;\n",
              "    }\n",
              "\n",
              "    .dataframe thead th {\n",
              "        text-align: right;\n",
              "    }\n",
              "</style>\n",
              "<table border=\"1\" class=\"dataframe\">\n",
              "  <thead>\n",
              "    <tr style=\"text-align: right;\">\n",
              "      <th></th>\n",
              "      <th>id</th>\n",
              "      <th>title</th>\n",
              "      <th>abstract</th>\n",
              "    </tr>\n",
              "  </thead>\n",
              "  <tbody>\n",
              "    <tr>\n",
              "      <th>0</th>\n",
              "      <td>2107.01095</td>\n",
              "      <td>votes library bonds principal component explor...</td>\n",
              "      <td>previous research shown relationship voter cha...</td>\n",
              "    </tr>\n",
              "    <tr>\n",
              "      <th>1</th>\n",
              "      <td>1906.08519</td>\n",
              "      <td>crystal structure magnetic properties 5d trans...</td>\n",
              "      <td>synthesized 5d1 transition metal oxides aoso4 ...</td>\n",
              "    </tr>\n",
              "    <tr>\n",
              "      <th>2</th>\n",
              "      <td>2105.05523</td>\n",
              "      <td>trimmed extreme value estimators censored heav...</td>\n",
              "      <td>consider estimation extreme value index extrem...</td>\n",
              "    </tr>\n",
              "    <tr>\n",
              "      <th>3</th>\n",
              "      <td>1906.08731</td>\n",
              "      <td>gray box monitoring hyperproperties extended v...</td>\n",
              "      <td>many important system properties particularly ...</td>\n",
              "    </tr>\n",
              "    <tr>\n",
              "      <th>4</th>\n",
              "      <td>1703.08445</td>\n",
              "      <td>sectional curvature along central configurations</td>\n",
              "      <td>paper characterize planar central configuratio...</td>\n",
              "    </tr>\n",
              "    <tr>\n",
              "      <th>...</th>\n",
              "      <td>...</td>\n",
              "      <td>...</td>\n",
              "      <td>...</td>\n",
              "    </tr>\n",
              "    <tr>\n",
              "      <th>45323</th>\n",
              "      <td>1908.05557</td>\n",
              "      <td>towards automated machine learning evaluation ...</td>\n",
              "      <td>considerable growth interest industrial applic...</td>\n",
              "    </tr>\n",
              "    <tr>\n",
              "      <th>45324</th>\n",
              "      <td>2006.00502</td>\n",
              "      <td>defect deferred correction method based subgri...</td>\n",
              "      <td>alternative first step approximation based sub...</td>\n",
              "    </tr>\n",
              "    <tr>\n",
              "      <th>45325</th>\n",
              "      <td>2009.09826</td>\n",
              "      <td>learning safe neural network controllers barri...</td>\n",
              "      <td>provide novel approach synthesize controllers ...</td>\n",
              "    </tr>\n",
              "    <tr>\n",
              "      <th>45326</th>\n",
              "      <td>2007.06959</td>\n",
              "      <td>learning semantics enriched representation via...</td>\n",
              "      <td>medical images naturally associated rich seman...</td>\n",
              "    </tr>\n",
              "    <tr>\n",
              "      <th>45327</th>\n",
              "      <td>1911.12157</td>\n",
              "      <td>intelligent reflecting surface massive device ...</td>\n",
              "      <td>intelligent reflecting surface irs promising s...</td>\n",
              "    </tr>\n",
              "  </tbody>\n",
              "</table>\n",
              "<p>43782 rows × 3 columns</p>\n",
              "</div>\n",
              "      <button class=\"colab-df-convert\" onclick=\"convertToInteractive('df-45dcce81-d262-4227-8ca7-9215ce255dfa')\"\n",
              "              title=\"Convert this dataframe to an interactive table.\"\n",
              "              style=\"display:none;\">\n",
              "        \n",
              "  <svg xmlns=\"http://www.w3.org/2000/svg\" height=\"24px\"viewBox=\"0 0 24 24\"\n",
              "       width=\"24px\">\n",
              "    <path d=\"M0 0h24v24H0V0z\" fill=\"none\"/>\n",
              "    <path d=\"M18.56 5.44l.94 2.06.94-2.06 2.06-.94-2.06-.94-.94-2.06-.94 2.06-2.06.94zm-11 1L8.5 8.5l.94-2.06 2.06-.94-2.06-.94L8.5 2.5l-.94 2.06-2.06.94zm10 10l.94 2.06.94-2.06 2.06-.94-2.06-.94-.94-2.06-.94 2.06-2.06.94z\"/><path d=\"M17.41 7.96l-1.37-1.37c-.4-.4-.92-.59-1.43-.59-.52 0-1.04.2-1.43.59L10.3 9.45l-7.72 7.72c-.78.78-.78 2.05 0 2.83L4 21.41c.39.39.9.59 1.41.59.51 0 1.02-.2 1.41-.59l7.78-7.78 2.81-2.81c.8-.78.8-2.07 0-2.86zM5.41 20L4 18.59l7.72-7.72 1.47 1.35L5.41 20z\"/>\n",
              "  </svg>\n",
              "      </button>\n",
              "      \n",
              "  <style>\n",
              "    .colab-df-container {\n",
              "      display:flex;\n",
              "      flex-wrap:wrap;\n",
              "      gap: 12px;\n",
              "    }\n",
              "\n",
              "    .colab-df-convert {\n",
              "      background-color: #E8F0FE;\n",
              "      border: none;\n",
              "      border-radius: 50%;\n",
              "      cursor: pointer;\n",
              "      display: none;\n",
              "      fill: #1967D2;\n",
              "      height: 32px;\n",
              "      padding: 0 0 0 0;\n",
              "      width: 32px;\n",
              "    }\n",
              "\n",
              "    .colab-df-convert:hover {\n",
              "      background-color: #E2EBFA;\n",
              "      box-shadow: 0px 1px 2px rgba(60, 64, 67, 0.3), 0px 1px 3px 1px rgba(60, 64, 67, 0.15);\n",
              "      fill: #174EA6;\n",
              "    }\n",
              "\n",
              "    [theme=dark] .colab-df-convert {\n",
              "      background-color: #3B4455;\n",
              "      fill: #D2E3FC;\n",
              "    }\n",
              "\n",
              "    [theme=dark] .colab-df-convert:hover {\n",
              "      background-color: #434B5C;\n",
              "      box-shadow: 0px 1px 3px 1px rgba(0, 0, 0, 0.15);\n",
              "      filter: drop-shadow(0px 1px 2px rgba(0, 0, 0, 0.3));\n",
              "      fill: #FFFFFF;\n",
              "    }\n",
              "  </style>\n",
              "\n",
              "      <script>\n",
              "        const buttonEl =\n",
              "          document.querySelector('#df-45dcce81-d262-4227-8ca7-9215ce255dfa button.colab-df-convert');\n",
              "        buttonEl.style.display =\n",
              "          google.colab.kernel.accessAllowed ? 'block' : 'none';\n",
              "\n",
              "        async function convertToInteractive(key) {\n",
              "          const element = document.querySelector('#df-45dcce81-d262-4227-8ca7-9215ce255dfa');\n",
              "          const dataTable =\n",
              "            await google.colab.kernel.invokeFunction('convertToInteractive',\n",
              "                                                     [key], {});\n",
              "          if (!dataTable) return;\n",
              "\n",
              "          const docLinkHtml = 'Like what you see? Visit the ' +\n",
              "            '<a target=\"_blank\" href=https://colab.research.google.com/notebooks/data_table.ipynb>data table notebook</a>'\n",
              "            + ' to learn more about interactive tables.';\n",
              "          element.innerHTML = '';\n",
              "          dataTable['output_type'] = 'display_data';\n",
              "          await google.colab.output.renderOutput(dataTable, element);\n",
              "          const docLink = document.createElement('div');\n",
              "          docLink.innerHTML = docLinkHtml;\n",
              "          element.appendChild(docLink);\n",
              "        }\n",
              "      </script>\n",
              "    </div>\n",
              "  </div>\n",
              "  "
            ]
          },
          "metadata": {},
          "execution_count": 78
        }
      ]
    },
    {
      "cell_type": "code",
      "source": [
        "#Let's see what sample submission looks like\n",
        "#kasto raicha sample submission vanera hereko\n",
        "sample_submission = pd.read_csv('/content/drive/MyDrive/Colab Notebooks/DataRush/sample_submission.csv')"
      ],
      "metadata": {
        "id": "1c39PJ4yCOFi"
      },
      "execution_count": null,
      "outputs": []
    },
    {
      "cell_type": "code",
      "source": [
        "sample_submission.head()"
      ],
      "metadata": {
        "colab": {
          "base_uri": "https://localhost:8080/",
          "height": 206
        },
        "id": "kNU2gWu7CUiB",
        "outputId": "6ac61225-4140-4f3c-b2e7-689137aa2199"
      },
      "execution_count": null,
      "outputs": [
        {
          "output_type": "execute_result",
          "data": {
            "text/plain": [
              "           id  category\n",
              "0  2107.01095     q-fin\n",
              "1  1906.08519  cond-mat\n",
              "2  2105.05523      math\n",
              "3  1906.08731        cs\n",
              "4  1703.08445      math"
            ],
            "text/html": [
              "\n",
              "  <div id=\"df-3c1c8463-51d2-421b-8203-358404f88724\">\n",
              "    <div class=\"colab-df-container\">\n",
              "      <div>\n",
              "<style scoped>\n",
              "    .dataframe tbody tr th:only-of-type {\n",
              "        vertical-align: middle;\n",
              "    }\n",
              "\n",
              "    .dataframe tbody tr th {\n",
              "        vertical-align: top;\n",
              "    }\n",
              "\n",
              "    .dataframe thead th {\n",
              "        text-align: right;\n",
              "    }\n",
              "</style>\n",
              "<table border=\"1\" class=\"dataframe\">\n",
              "  <thead>\n",
              "    <tr style=\"text-align: right;\">\n",
              "      <th></th>\n",
              "      <th>id</th>\n",
              "      <th>category</th>\n",
              "    </tr>\n",
              "  </thead>\n",
              "  <tbody>\n",
              "    <tr>\n",
              "      <th>0</th>\n",
              "      <td>2107.01095</td>\n",
              "      <td>q-fin</td>\n",
              "    </tr>\n",
              "    <tr>\n",
              "      <th>1</th>\n",
              "      <td>1906.08519</td>\n",
              "      <td>cond-mat</td>\n",
              "    </tr>\n",
              "    <tr>\n",
              "      <th>2</th>\n",
              "      <td>2105.05523</td>\n",
              "      <td>math</td>\n",
              "    </tr>\n",
              "    <tr>\n",
              "      <th>3</th>\n",
              "      <td>1906.08731</td>\n",
              "      <td>cs</td>\n",
              "    </tr>\n",
              "    <tr>\n",
              "      <th>4</th>\n",
              "      <td>1703.08445</td>\n",
              "      <td>math</td>\n",
              "    </tr>\n",
              "  </tbody>\n",
              "</table>\n",
              "</div>\n",
              "      <button class=\"colab-df-convert\" onclick=\"convertToInteractive('df-3c1c8463-51d2-421b-8203-358404f88724')\"\n",
              "              title=\"Convert this dataframe to an interactive table.\"\n",
              "              style=\"display:none;\">\n",
              "        \n",
              "  <svg xmlns=\"http://www.w3.org/2000/svg\" height=\"24px\"viewBox=\"0 0 24 24\"\n",
              "       width=\"24px\">\n",
              "    <path d=\"M0 0h24v24H0V0z\" fill=\"none\"/>\n",
              "    <path d=\"M18.56 5.44l.94 2.06.94-2.06 2.06-.94-2.06-.94-.94-2.06-.94 2.06-2.06.94zm-11 1L8.5 8.5l.94-2.06 2.06-.94-2.06-.94L8.5 2.5l-.94 2.06-2.06.94zm10 10l.94 2.06.94-2.06 2.06-.94-2.06-.94-.94-2.06-.94 2.06-2.06.94z\"/><path d=\"M17.41 7.96l-1.37-1.37c-.4-.4-.92-.59-1.43-.59-.52 0-1.04.2-1.43.59L10.3 9.45l-7.72 7.72c-.78.78-.78 2.05 0 2.83L4 21.41c.39.39.9.59 1.41.59.51 0 1.02-.2 1.41-.59l7.78-7.78 2.81-2.81c.8-.78.8-2.07 0-2.86zM5.41 20L4 18.59l7.72-7.72 1.47 1.35L5.41 20z\"/>\n",
              "  </svg>\n",
              "      </button>\n",
              "      \n",
              "  <style>\n",
              "    .colab-df-container {\n",
              "      display:flex;\n",
              "      flex-wrap:wrap;\n",
              "      gap: 12px;\n",
              "    }\n",
              "\n",
              "    .colab-df-convert {\n",
              "      background-color: #E8F0FE;\n",
              "      border: none;\n",
              "      border-radius: 50%;\n",
              "      cursor: pointer;\n",
              "      display: none;\n",
              "      fill: #1967D2;\n",
              "      height: 32px;\n",
              "      padding: 0 0 0 0;\n",
              "      width: 32px;\n",
              "    }\n",
              "\n",
              "    .colab-df-convert:hover {\n",
              "      background-color: #E2EBFA;\n",
              "      box-shadow: 0px 1px 2px rgba(60, 64, 67, 0.3), 0px 1px 3px 1px rgba(60, 64, 67, 0.15);\n",
              "      fill: #174EA6;\n",
              "    }\n",
              "\n",
              "    [theme=dark] .colab-df-convert {\n",
              "      background-color: #3B4455;\n",
              "      fill: #D2E3FC;\n",
              "    }\n",
              "\n",
              "    [theme=dark] .colab-df-convert:hover {\n",
              "      background-color: #434B5C;\n",
              "      box-shadow: 0px 1px 3px 1px rgba(0, 0, 0, 0.15);\n",
              "      filter: drop-shadow(0px 1px 2px rgba(0, 0, 0, 0.3));\n",
              "      fill: #FFFFFF;\n",
              "    }\n",
              "  </style>\n",
              "\n",
              "      <script>\n",
              "        const buttonEl =\n",
              "          document.querySelector('#df-3c1c8463-51d2-421b-8203-358404f88724 button.colab-df-convert');\n",
              "        buttonEl.style.display =\n",
              "          google.colab.kernel.accessAllowed ? 'block' : 'none';\n",
              "\n",
              "        async function convertToInteractive(key) {\n",
              "          const element = document.querySelector('#df-3c1c8463-51d2-421b-8203-358404f88724');\n",
              "          const dataTable =\n",
              "            await google.colab.kernel.invokeFunction('convertToInteractive',\n",
              "                                                     [key], {});\n",
              "          if (!dataTable) return;\n",
              "\n",
              "          const docLinkHtml = 'Like what you see? Visit the ' +\n",
              "            '<a target=\"_blank\" href=https://colab.research.google.com/notebooks/data_table.ipynb>data table notebook</a>'\n",
              "            + ' to learn more about interactive tables.';\n",
              "          element.innerHTML = '';\n",
              "          dataTable['output_type'] = 'display_data';\n",
              "          await google.colab.output.renderOutput(dataTable, element);\n",
              "          const docLink = document.createElement('div');\n",
              "          docLink.innerHTML = docLinkHtml;\n",
              "          element.appendChild(docLink);\n",
              "        }\n",
              "      </script>\n",
              "    </div>\n",
              "  </div>\n",
              "  "
            ]
          },
          "metadata": {},
          "execution_count": 82
        }
      ]
    },
    {
      "cell_type": "code",
      "source": [
        "len(test_df), len(decoded_labels)"
      ],
      "metadata": {
        "colab": {
          "base_uri": "https://localhost:8080/"
        },
        "id": "ZXimSLwVX9cu",
        "outputId": "f0b58522-3ef0-40df-c622-e8c9bbdf4a7f"
      },
      "execution_count": null,
      "outputs": [
        {
          "output_type": "execute_result",
          "data": {
            "text/plain": [
              "(43782, 43782)"
            ]
          },
          "metadata": {},
          "execution_count": 83
        }
      ]
    },
    {
      "cell_type": "code",
      "source": [
        "#Lets try to put our predictions in this format\n",
        "test_df['category']= decoded_labels"
      ],
      "metadata": {
        "id": "2AVbUPPKCX9i",
        "colab": {
          "base_uri": "https://localhost:8080/"
        },
        "outputId": "e1a836e2-5e50-44e2-9c03-b786ff3b1670"
      },
      "execution_count": null,
      "outputs": [
        {
          "output_type": "stream",
          "name": "stderr",
          "text": [
            "<ipython-input-84-5eb2ce42d4d1>:2: SettingWithCopyWarning: \n",
            "A value is trying to be set on a copy of a slice from a DataFrame.\n",
            "Try using .loc[row_indexer,col_indexer] = value instead\n",
            "\n",
            "See the caveats in the documentation: https://pandas.pydata.org/pandas-docs/stable/user_guide/indexing.html#returning-a-view-versus-a-copy\n",
            "  test_df['category']= decoded_labels\n"
          ]
        }
      ]
    },
    {
      "cell_type": "code",
      "source": [
        "test_df.head()"
      ],
      "metadata": {
        "colab": {
          "base_uri": "https://localhost:8080/",
          "height": 206
        },
        "id": "PDFHNMK2XdEM",
        "outputId": "b9a12552-cbd8-42c1-bbe7-941ad17fd6a6"
      },
      "execution_count": null,
      "outputs": [
        {
          "output_type": "execute_result",
          "data": {
            "text/plain": [
              "           id                                              title  \\\n",
              "0  2107.01095  votes library bonds principal component explor...   \n",
              "1  1906.08519  crystal structure magnetic properties 5d trans...   \n",
              "2  2105.05523  trimmed extreme value estimators censored heav...   \n",
              "3  1906.08731  gray box monitoring hyperproperties extended v...   \n",
              "4  1703.08445   sectional curvature along central configurations   \n",
              "\n",
              "                                            abstract  category  \n",
              "0  previous research shown relationship voter cha...     gr-qc  \n",
              "1  synthesized 5d1 transition metal oxides aoso4 ...  cond-mat  \n",
              "2  consider estimation extreme value index extrem...      math  \n",
              "3  many important system properties particularly ...        cs  \n",
              "4  paper characterize planar central configuratio...   nucl-th  "
            ],
            "text/html": [
              "\n",
              "  <div id=\"df-bda542c0-18e4-4a09-9ea0-0a8dd96fe9ea\">\n",
              "    <div class=\"colab-df-container\">\n",
              "      <div>\n",
              "<style scoped>\n",
              "    .dataframe tbody tr th:only-of-type {\n",
              "        vertical-align: middle;\n",
              "    }\n",
              "\n",
              "    .dataframe tbody tr th {\n",
              "        vertical-align: top;\n",
              "    }\n",
              "\n",
              "    .dataframe thead th {\n",
              "        text-align: right;\n",
              "    }\n",
              "</style>\n",
              "<table border=\"1\" class=\"dataframe\">\n",
              "  <thead>\n",
              "    <tr style=\"text-align: right;\">\n",
              "      <th></th>\n",
              "      <th>id</th>\n",
              "      <th>title</th>\n",
              "      <th>abstract</th>\n",
              "      <th>category</th>\n",
              "    </tr>\n",
              "  </thead>\n",
              "  <tbody>\n",
              "    <tr>\n",
              "      <th>0</th>\n",
              "      <td>2107.01095</td>\n",
              "      <td>votes library bonds principal component explor...</td>\n",
              "      <td>previous research shown relationship voter cha...</td>\n",
              "      <td>gr-qc</td>\n",
              "    </tr>\n",
              "    <tr>\n",
              "      <th>1</th>\n",
              "      <td>1906.08519</td>\n",
              "      <td>crystal structure magnetic properties 5d trans...</td>\n",
              "      <td>synthesized 5d1 transition metal oxides aoso4 ...</td>\n",
              "      <td>cond-mat</td>\n",
              "    </tr>\n",
              "    <tr>\n",
              "      <th>2</th>\n",
              "      <td>2105.05523</td>\n",
              "      <td>trimmed extreme value estimators censored heav...</td>\n",
              "      <td>consider estimation extreme value index extrem...</td>\n",
              "      <td>math</td>\n",
              "    </tr>\n",
              "    <tr>\n",
              "      <th>3</th>\n",
              "      <td>1906.08731</td>\n",
              "      <td>gray box monitoring hyperproperties extended v...</td>\n",
              "      <td>many important system properties particularly ...</td>\n",
              "      <td>cs</td>\n",
              "    </tr>\n",
              "    <tr>\n",
              "      <th>4</th>\n",
              "      <td>1703.08445</td>\n",
              "      <td>sectional curvature along central configurations</td>\n",
              "      <td>paper characterize planar central configuratio...</td>\n",
              "      <td>nucl-th</td>\n",
              "    </tr>\n",
              "  </tbody>\n",
              "</table>\n",
              "</div>\n",
              "      <button class=\"colab-df-convert\" onclick=\"convertToInteractive('df-bda542c0-18e4-4a09-9ea0-0a8dd96fe9ea')\"\n",
              "              title=\"Convert this dataframe to an interactive table.\"\n",
              "              style=\"display:none;\">\n",
              "        \n",
              "  <svg xmlns=\"http://www.w3.org/2000/svg\" height=\"24px\"viewBox=\"0 0 24 24\"\n",
              "       width=\"24px\">\n",
              "    <path d=\"M0 0h24v24H0V0z\" fill=\"none\"/>\n",
              "    <path d=\"M18.56 5.44l.94 2.06.94-2.06 2.06-.94-2.06-.94-.94-2.06-.94 2.06-2.06.94zm-11 1L8.5 8.5l.94-2.06 2.06-.94-2.06-.94L8.5 2.5l-.94 2.06-2.06.94zm10 10l.94 2.06.94-2.06 2.06-.94-2.06-.94-.94-2.06-.94 2.06-2.06.94z\"/><path d=\"M17.41 7.96l-1.37-1.37c-.4-.4-.92-.59-1.43-.59-.52 0-1.04.2-1.43.59L10.3 9.45l-7.72 7.72c-.78.78-.78 2.05 0 2.83L4 21.41c.39.39.9.59 1.41.59.51 0 1.02-.2 1.41-.59l7.78-7.78 2.81-2.81c.8-.78.8-2.07 0-2.86zM5.41 20L4 18.59l7.72-7.72 1.47 1.35L5.41 20z\"/>\n",
              "  </svg>\n",
              "      </button>\n",
              "      \n",
              "  <style>\n",
              "    .colab-df-container {\n",
              "      display:flex;\n",
              "      flex-wrap:wrap;\n",
              "      gap: 12px;\n",
              "    }\n",
              "\n",
              "    .colab-df-convert {\n",
              "      background-color: #E8F0FE;\n",
              "      border: none;\n",
              "      border-radius: 50%;\n",
              "      cursor: pointer;\n",
              "      display: none;\n",
              "      fill: #1967D2;\n",
              "      height: 32px;\n",
              "      padding: 0 0 0 0;\n",
              "      width: 32px;\n",
              "    }\n",
              "\n",
              "    .colab-df-convert:hover {\n",
              "      background-color: #E2EBFA;\n",
              "      box-shadow: 0px 1px 2px rgba(60, 64, 67, 0.3), 0px 1px 3px 1px rgba(60, 64, 67, 0.15);\n",
              "      fill: #174EA6;\n",
              "    }\n",
              "\n",
              "    [theme=dark] .colab-df-convert {\n",
              "      background-color: #3B4455;\n",
              "      fill: #D2E3FC;\n",
              "    }\n",
              "\n",
              "    [theme=dark] .colab-df-convert:hover {\n",
              "      background-color: #434B5C;\n",
              "      box-shadow: 0px 1px 3px 1px rgba(0, 0, 0, 0.15);\n",
              "      filter: drop-shadow(0px 1px 2px rgba(0, 0, 0, 0.3));\n",
              "      fill: #FFFFFF;\n",
              "    }\n",
              "  </style>\n",
              "\n",
              "      <script>\n",
              "        const buttonEl =\n",
              "          document.querySelector('#df-bda542c0-18e4-4a09-9ea0-0a8dd96fe9ea button.colab-df-convert');\n",
              "        buttonEl.style.display =\n",
              "          google.colab.kernel.accessAllowed ? 'block' : 'none';\n",
              "\n",
              "        async function convertToInteractive(key) {\n",
              "          const element = document.querySelector('#df-bda542c0-18e4-4a09-9ea0-0a8dd96fe9ea');\n",
              "          const dataTable =\n",
              "            await google.colab.kernel.invokeFunction('convertToInteractive',\n",
              "                                                     [key], {});\n",
              "          if (!dataTable) return;\n",
              "\n",
              "          const docLinkHtml = 'Like what you see? Visit the ' +\n",
              "            '<a target=\"_blank\" href=https://colab.research.google.com/notebooks/data_table.ipynb>data table notebook</a>'\n",
              "            + ' to learn more about interactive tables.';\n",
              "          element.innerHTML = '';\n",
              "          dataTable['output_type'] = 'display_data';\n",
              "          await google.colab.output.renderOutput(dataTable, element);\n",
              "          const docLink = document.createElement('div');\n",
              "          docLink.innerHTML = docLinkHtml;\n",
              "          element.appendChild(docLink);\n",
              "        }\n",
              "      </script>\n",
              "    </div>\n",
              "  </div>\n",
              "  "
            ]
          },
          "metadata": {},
          "execution_count": 85
        }
      ]
    },
    {
      "cell_type": "code",
      "source": [
        "#Let's make it like the provided format\n",
        "submission_df = test_df.drop(['title', 'abstract'], axis=1)"
      ],
      "metadata": {
        "id": "QmfMOa04eUYq"
      },
      "execution_count": null,
      "outputs": []
    },
    {
      "cell_type": "code",
      "source": [
        "submission_df.head()"
      ],
      "metadata": {
        "colab": {
          "base_uri": "https://localhost:8080/",
          "height": 206
        },
        "id": "KsKcK9gneiNc",
        "outputId": "b134b464-4397-495c-bddf-6749a8bb8860"
      },
      "execution_count": null,
      "outputs": [
        {
          "output_type": "execute_result",
          "data": {
            "text/plain": [
              "           id  category\n",
              "0  2107.01095     gr-qc\n",
              "1  1906.08519  cond-mat\n",
              "2  2105.05523      math\n",
              "3  1906.08731        cs\n",
              "4  1703.08445   nucl-th"
            ],
            "text/html": [
              "\n",
              "  <div id=\"df-1f199693-e7fc-4dbe-9d7d-653c175281af\">\n",
              "    <div class=\"colab-df-container\">\n",
              "      <div>\n",
              "<style scoped>\n",
              "    .dataframe tbody tr th:only-of-type {\n",
              "        vertical-align: middle;\n",
              "    }\n",
              "\n",
              "    .dataframe tbody tr th {\n",
              "        vertical-align: top;\n",
              "    }\n",
              "\n",
              "    .dataframe thead th {\n",
              "        text-align: right;\n",
              "    }\n",
              "</style>\n",
              "<table border=\"1\" class=\"dataframe\">\n",
              "  <thead>\n",
              "    <tr style=\"text-align: right;\">\n",
              "      <th></th>\n",
              "      <th>id</th>\n",
              "      <th>category</th>\n",
              "    </tr>\n",
              "  </thead>\n",
              "  <tbody>\n",
              "    <tr>\n",
              "      <th>0</th>\n",
              "      <td>2107.01095</td>\n",
              "      <td>gr-qc</td>\n",
              "    </tr>\n",
              "    <tr>\n",
              "      <th>1</th>\n",
              "      <td>1906.08519</td>\n",
              "      <td>cond-mat</td>\n",
              "    </tr>\n",
              "    <tr>\n",
              "      <th>2</th>\n",
              "      <td>2105.05523</td>\n",
              "      <td>math</td>\n",
              "    </tr>\n",
              "    <tr>\n",
              "      <th>3</th>\n",
              "      <td>1906.08731</td>\n",
              "      <td>cs</td>\n",
              "    </tr>\n",
              "    <tr>\n",
              "      <th>4</th>\n",
              "      <td>1703.08445</td>\n",
              "      <td>nucl-th</td>\n",
              "    </tr>\n",
              "  </tbody>\n",
              "</table>\n",
              "</div>\n",
              "      <button class=\"colab-df-convert\" onclick=\"convertToInteractive('df-1f199693-e7fc-4dbe-9d7d-653c175281af')\"\n",
              "              title=\"Convert this dataframe to an interactive table.\"\n",
              "              style=\"display:none;\">\n",
              "        \n",
              "  <svg xmlns=\"http://www.w3.org/2000/svg\" height=\"24px\"viewBox=\"0 0 24 24\"\n",
              "       width=\"24px\">\n",
              "    <path d=\"M0 0h24v24H0V0z\" fill=\"none\"/>\n",
              "    <path d=\"M18.56 5.44l.94 2.06.94-2.06 2.06-.94-2.06-.94-.94-2.06-.94 2.06-2.06.94zm-11 1L8.5 8.5l.94-2.06 2.06-.94-2.06-.94L8.5 2.5l-.94 2.06-2.06.94zm10 10l.94 2.06.94-2.06 2.06-.94-2.06-.94-.94-2.06-.94 2.06-2.06.94z\"/><path d=\"M17.41 7.96l-1.37-1.37c-.4-.4-.92-.59-1.43-.59-.52 0-1.04.2-1.43.59L10.3 9.45l-7.72 7.72c-.78.78-.78 2.05 0 2.83L4 21.41c.39.39.9.59 1.41.59.51 0 1.02-.2 1.41-.59l7.78-7.78 2.81-2.81c.8-.78.8-2.07 0-2.86zM5.41 20L4 18.59l7.72-7.72 1.47 1.35L5.41 20z\"/>\n",
              "  </svg>\n",
              "      </button>\n",
              "      \n",
              "  <style>\n",
              "    .colab-df-container {\n",
              "      display:flex;\n",
              "      flex-wrap:wrap;\n",
              "      gap: 12px;\n",
              "    }\n",
              "\n",
              "    .colab-df-convert {\n",
              "      background-color: #E8F0FE;\n",
              "      border: none;\n",
              "      border-radius: 50%;\n",
              "      cursor: pointer;\n",
              "      display: none;\n",
              "      fill: #1967D2;\n",
              "      height: 32px;\n",
              "      padding: 0 0 0 0;\n",
              "      width: 32px;\n",
              "    }\n",
              "\n",
              "    .colab-df-convert:hover {\n",
              "      background-color: #E2EBFA;\n",
              "      box-shadow: 0px 1px 2px rgba(60, 64, 67, 0.3), 0px 1px 3px 1px rgba(60, 64, 67, 0.15);\n",
              "      fill: #174EA6;\n",
              "    }\n",
              "\n",
              "    [theme=dark] .colab-df-convert {\n",
              "      background-color: #3B4455;\n",
              "      fill: #D2E3FC;\n",
              "    }\n",
              "\n",
              "    [theme=dark] .colab-df-convert:hover {\n",
              "      background-color: #434B5C;\n",
              "      box-shadow: 0px 1px 3px 1px rgba(0, 0, 0, 0.15);\n",
              "      filter: drop-shadow(0px 1px 2px rgba(0, 0, 0, 0.3));\n",
              "      fill: #FFFFFF;\n",
              "    }\n",
              "  </style>\n",
              "\n",
              "      <script>\n",
              "        const buttonEl =\n",
              "          document.querySelector('#df-1f199693-e7fc-4dbe-9d7d-653c175281af button.colab-df-convert');\n",
              "        buttonEl.style.display =\n",
              "          google.colab.kernel.accessAllowed ? 'block' : 'none';\n",
              "\n",
              "        async function convertToInteractive(key) {\n",
              "          const element = document.querySelector('#df-1f199693-e7fc-4dbe-9d7d-653c175281af');\n",
              "          const dataTable =\n",
              "            await google.colab.kernel.invokeFunction('convertToInteractive',\n",
              "                                                     [key], {});\n",
              "          if (!dataTable) return;\n",
              "\n",
              "          const docLinkHtml = 'Like what you see? Visit the ' +\n",
              "            '<a target=\"_blank\" href=https://colab.research.google.com/notebooks/data_table.ipynb>data table notebook</a>'\n",
              "            + ' to learn more about interactive tables.';\n",
              "          element.innerHTML = '';\n",
              "          dataTable['output_type'] = 'display_data';\n",
              "          await google.colab.output.renderOutput(dataTable, element);\n",
              "          const docLink = document.createElement('div');\n",
              "          docLink.innerHTML = docLinkHtml;\n",
              "          element.appendChild(docLink);\n",
              "        }\n",
              "      </script>\n",
              "    </div>\n",
              "  </div>\n",
              "  "
            ]
          },
          "metadata": {},
          "execution_count": 87
        }
      ]
    },
    {
      "cell_type": "code",
      "source": [
        "sample_submission.head()"
      ],
      "metadata": {
        "colab": {
          "base_uri": "https://localhost:8080/",
          "height": 206
        },
        "id": "H6G7KALgekII",
        "outputId": "6337db49-a2f6-4893-cf4e-b1298e5f55c0"
      },
      "execution_count": null,
      "outputs": [
        {
          "output_type": "execute_result",
          "data": {
            "text/plain": [
              "           id  category\n",
              "0  2107.01095     q-fin\n",
              "1  1906.08519  cond-mat\n",
              "2  2105.05523      math\n",
              "3  1906.08731        cs\n",
              "4  1703.08445      math"
            ],
            "text/html": [
              "\n",
              "  <div id=\"df-d8a61a1f-81ec-495f-8070-222ee8e42636\">\n",
              "    <div class=\"colab-df-container\">\n",
              "      <div>\n",
              "<style scoped>\n",
              "    .dataframe tbody tr th:only-of-type {\n",
              "        vertical-align: middle;\n",
              "    }\n",
              "\n",
              "    .dataframe tbody tr th {\n",
              "        vertical-align: top;\n",
              "    }\n",
              "\n",
              "    .dataframe thead th {\n",
              "        text-align: right;\n",
              "    }\n",
              "</style>\n",
              "<table border=\"1\" class=\"dataframe\">\n",
              "  <thead>\n",
              "    <tr style=\"text-align: right;\">\n",
              "      <th></th>\n",
              "      <th>id</th>\n",
              "      <th>category</th>\n",
              "    </tr>\n",
              "  </thead>\n",
              "  <tbody>\n",
              "    <tr>\n",
              "      <th>0</th>\n",
              "      <td>2107.01095</td>\n",
              "      <td>q-fin</td>\n",
              "    </tr>\n",
              "    <tr>\n",
              "      <th>1</th>\n",
              "      <td>1906.08519</td>\n",
              "      <td>cond-mat</td>\n",
              "    </tr>\n",
              "    <tr>\n",
              "      <th>2</th>\n",
              "      <td>2105.05523</td>\n",
              "      <td>math</td>\n",
              "    </tr>\n",
              "    <tr>\n",
              "      <th>3</th>\n",
              "      <td>1906.08731</td>\n",
              "      <td>cs</td>\n",
              "    </tr>\n",
              "    <tr>\n",
              "      <th>4</th>\n",
              "      <td>1703.08445</td>\n",
              "      <td>math</td>\n",
              "    </tr>\n",
              "  </tbody>\n",
              "</table>\n",
              "</div>\n",
              "      <button class=\"colab-df-convert\" onclick=\"convertToInteractive('df-d8a61a1f-81ec-495f-8070-222ee8e42636')\"\n",
              "              title=\"Convert this dataframe to an interactive table.\"\n",
              "              style=\"display:none;\">\n",
              "        \n",
              "  <svg xmlns=\"http://www.w3.org/2000/svg\" height=\"24px\"viewBox=\"0 0 24 24\"\n",
              "       width=\"24px\">\n",
              "    <path d=\"M0 0h24v24H0V0z\" fill=\"none\"/>\n",
              "    <path d=\"M18.56 5.44l.94 2.06.94-2.06 2.06-.94-2.06-.94-.94-2.06-.94 2.06-2.06.94zm-11 1L8.5 8.5l.94-2.06 2.06-.94-2.06-.94L8.5 2.5l-.94 2.06-2.06.94zm10 10l.94 2.06.94-2.06 2.06-.94-2.06-.94-.94-2.06-.94 2.06-2.06.94z\"/><path d=\"M17.41 7.96l-1.37-1.37c-.4-.4-.92-.59-1.43-.59-.52 0-1.04.2-1.43.59L10.3 9.45l-7.72 7.72c-.78.78-.78 2.05 0 2.83L4 21.41c.39.39.9.59 1.41.59.51 0 1.02-.2 1.41-.59l7.78-7.78 2.81-2.81c.8-.78.8-2.07 0-2.86zM5.41 20L4 18.59l7.72-7.72 1.47 1.35L5.41 20z\"/>\n",
              "  </svg>\n",
              "      </button>\n",
              "      \n",
              "  <style>\n",
              "    .colab-df-container {\n",
              "      display:flex;\n",
              "      flex-wrap:wrap;\n",
              "      gap: 12px;\n",
              "    }\n",
              "\n",
              "    .colab-df-convert {\n",
              "      background-color: #E8F0FE;\n",
              "      border: none;\n",
              "      border-radius: 50%;\n",
              "      cursor: pointer;\n",
              "      display: none;\n",
              "      fill: #1967D2;\n",
              "      height: 32px;\n",
              "      padding: 0 0 0 0;\n",
              "      width: 32px;\n",
              "    }\n",
              "\n",
              "    .colab-df-convert:hover {\n",
              "      background-color: #E2EBFA;\n",
              "      box-shadow: 0px 1px 2px rgba(60, 64, 67, 0.3), 0px 1px 3px 1px rgba(60, 64, 67, 0.15);\n",
              "      fill: #174EA6;\n",
              "    }\n",
              "\n",
              "    [theme=dark] .colab-df-convert {\n",
              "      background-color: #3B4455;\n",
              "      fill: #D2E3FC;\n",
              "    }\n",
              "\n",
              "    [theme=dark] .colab-df-convert:hover {\n",
              "      background-color: #434B5C;\n",
              "      box-shadow: 0px 1px 3px 1px rgba(0, 0, 0, 0.15);\n",
              "      filter: drop-shadow(0px 1px 2px rgba(0, 0, 0, 0.3));\n",
              "      fill: #FFFFFF;\n",
              "    }\n",
              "  </style>\n",
              "\n",
              "      <script>\n",
              "        const buttonEl =\n",
              "          document.querySelector('#df-d8a61a1f-81ec-495f-8070-222ee8e42636 button.colab-df-convert');\n",
              "        buttonEl.style.display =\n",
              "          google.colab.kernel.accessAllowed ? 'block' : 'none';\n",
              "\n",
              "        async function convertToInteractive(key) {\n",
              "          const element = document.querySelector('#df-d8a61a1f-81ec-495f-8070-222ee8e42636');\n",
              "          const dataTable =\n",
              "            await google.colab.kernel.invokeFunction('convertToInteractive',\n",
              "                                                     [key], {});\n",
              "          if (!dataTable) return;\n",
              "\n",
              "          const docLinkHtml = 'Like what you see? Visit the ' +\n",
              "            '<a target=\"_blank\" href=https://colab.research.google.com/notebooks/data_table.ipynb>data table notebook</a>'\n",
              "            + ' to learn more about interactive tables.';\n",
              "          element.innerHTML = '';\n",
              "          dataTable['output_type'] = 'display_data';\n",
              "          await google.colab.output.renderOutput(dataTable, element);\n",
              "          const docLink = document.createElement('div');\n",
              "          docLink.innerHTML = docLinkHtml;\n",
              "          element.appendChild(docLink);\n",
              "        }\n",
              "      </script>\n",
              "    </div>\n",
              "  </div>\n",
              "  "
            ]
          },
          "metadata": {},
          "execution_count": 88
        }
      ]
    },
    {
      "cell_type": "code",
      "source": [
        "df.to_csv(\"submission.csv\",index=False,index_label=False)\n",
        "!cp submission.csv drive/MyDrive/Colab\\ Notebooks/"
      ],
      "metadata": {
        "id": "fBYBCGWQeonl"
      },
      "execution_count": null,
      "outputs": []
    },
    {
      "cell_type": "code",
      "source": [],
      "metadata": {
        "id": "8j37m-XOXX9k"
      },
      "execution_count": null,
      "outputs": []
    }
  ]
}